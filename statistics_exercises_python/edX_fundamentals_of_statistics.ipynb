{
 "cells": [
  {
   "cell_type": "markdown",
   "metadata": {},
   "source": [
    "# Fundamentals of Statistics"
   ]
  },
  {
   "cell_type": "markdown",
   "metadata": {},
   "source": [
    "## Unit 8"
   ]
  },
  {
   "cell_type": "markdown",
   "metadata": {},
   "source": [
    "### Homework 10"
   ]
  },
  {
   "cell_type": "code",
   "execution_count": 3,
   "metadata": {},
   "outputs": [
    {
     "data": {
      "text/plain": [
       "array([[  1,   1,   1,   1,   1,   1,   1,   1,   1,   1],\n",
       "       [  1,   2,   3,   4,   5,   6,   7,   8,   9,  10],\n",
       "       [  1,   4,   9,  16,  25,  36,  49,  64,  81, 100]])"
      ]
     },
     "execution_count": 3,
     "metadata": {},
     "output_type": "execute_result"
    }
   ],
   "source": [
    "import numpy as np\n",
    "\n",
    "X = np.array([[1,1,1],[1,2,4],[1,3,9],[1,4,16],[1,5,25],[1,6,36],[1,7,49],[1,8,64],[1,9,81],[1,10,100]])\n",
    "XT = X.transpose()\n",
    "\n",
    "XT"
   ]
  },
  {
   "cell_type": "code",
   "execution_count": 5,
   "metadata": {},
   "outputs": [
    {
     "data": {
      "text/plain": [
       "array([[  1,   1,   1],\n",
       "       [  1,   2,   4],\n",
       "       [  1,   3,   9],\n",
       "       [  1,   4,  16],\n",
       "       [  1,   5,  25],\n",
       "       [  1,   6,  36],\n",
       "       [  1,   7,  49],\n",
       "       [  1,   8,  64],\n",
       "       [  1,   9,  81],\n",
       "       [  1,  10, 100]])"
      ]
     },
     "execution_count": 5,
     "metadata": {},
     "output_type": "execute_result"
    }
   ],
   "source": [
    "X"
   ]
  },
  {
   "cell_type": "code",
   "execution_count": 9,
   "metadata": {},
   "outputs": [
    {
     "name": "stdout",
     "output_type": "stream",
     "text": [
      "[[   10    55   385]\n",
      " [   55   385  3025]\n",
      " [  385  3025 25333]]\n"
     ]
    }
   ],
   "source": [
    "XTX = XT.dot(X)  \n",
    "print(XTX)"
   ]
  },
  {
   "cell_type": "code",
   "execution_count": 19,
   "metadata": {},
   "outputs": [
    {
     "data": {
      "text/plain": [
       "array([[ 1.38333333, -0.525     ,  0.04166667],\n",
       "       [-0.525     ,  0.24128788, -0.02083333],\n",
       "       [ 0.04166667, -0.02083333,  0.00189394]])"
      ]
     },
     "execution_count": 19,
     "metadata": {},
     "output_type": "execute_result"
    }
   ],
   "source": [
    "XTX_INV=np.linalg.inv(XTX)\n",
    "\n",
    "XTX_INV"
   ]
  },
  {
   "cell_type": "code",
   "execution_count": 22,
   "metadata": {},
   "outputs": [
    {
     "data": {
      "text/plain": [
       "array([ 1,  3,  5,  8, 11, 14, 18, 21, 25, 28])"
      ]
     },
     "execution_count": 22,
     "metadata": {},
     "output_type": "execute_result"
    }
   ],
   "source": [
    "Y = np.array([1,3,5,8,11,14,18,21,25,28])\n",
    "Y = Y.transpose()\n",
    "Y"
   ]
  },
  {
   "cell_type": "code",
   "execution_count": 23,
   "metadata": {},
   "outputs": [
    {
     "name": "stdout",
     "output_type": "stream",
     "text": [
      "[ 134  992 8016]\n"
     ]
    }
   ],
   "source": [
    "XTY = XT.dot(Y)  \n",
    "print(XTY)"
   ]
  },
  {
   "cell_type": "code",
   "execution_count": 24,
   "metadata": {},
   "outputs": [
    {
     "data": {
      "text/plain": [
       "array([-1.43333333,  2.00757576,  0.09848485])"
      ]
     },
     "execution_count": 24,
     "metadata": {},
     "output_type": "execute_result"
    }
   ],
   "source": [
    "beta_hat=XTX_INV.dot(XTY)\n",
    "beta_hat"
   ]
  },
  {
   "cell_type": "markdown",
   "metadata": {},
   "source": [
    "## Unit 9"
   ]
  },
  {
   "cell_type": "markdown",
   "metadata": {},
   "source": [
    "### Preparation Exercises for Principal Component Analysis\n",
    "\n",
    "__The Empirical Average for a Data Set of Vectors__"
   ]
  },
  {
   "cell_type": "code",
   "execution_count": 24,
   "metadata": {},
   "outputs": [],
   "source": [
    "import numpy as np \n",
    "\n",
    "x1 = [[8], [4], [7]]  \n",
    "x2 = [[2], [8], [1]]\n",
    "x3 = [[3], [1], [1]]\n",
    "x4 = [[9], [7], [4]]\n",
    "\n",
    "vctr1 = np.array(x1) \n",
    "vctr2 = np.array(x2) \n",
    "vctr3 = np.array(x3) \n",
    "vctr4 = np.array(x4) \n",
    "\n",
    "#calculating the empirical average\n",
    "x_bar = 1/4*(vctr1 + vctr2 + vctr3 + vctr4)"
   ]
  },
  {
   "cell_type": "code",
   "execution_count": 25,
   "metadata": {
    "scrolled": true
   },
   "outputs": [
    {
     "name": "stdout",
     "output_type": "stream",
     "text": [
      "The empirical average X_bar is:\n",
      "[[5.5 ]\n",
      " [5.  ]\n",
      " [3.25]]\n"
     ]
    }
   ],
   "source": [
    "print(\"The empirical average X_bar is:\")\n",
    "print(x_bar)"
   ]
  },
  {
   "cell_type": "markdown",
   "metadata": {},
   "source": [
    "__The Empirical Covariance for a Data Set of Vectors__"
   ]
  },
  {
   "cell_type": "code",
   "execution_count": 8,
   "metadata": {},
   "outputs": [],
   "source": [
    "import numpy as np \n",
    "\n",
    "x1 = [[8], [4], [7]]  \n",
    "x2 = [[2], [8], [1]]\n",
    "x3 = [[3], [1], [1]]\n",
    "x4 = [[9], [7], [4]]\n",
    "\n",
    "v1 = np.array(x1) \n",
    "v2 = np.array(x2) \n",
    "v3 = np.array(x3) \n",
    "v4 = np.array(x4) \n",
    "\n",
    "# transpose vectors\n",
    "vt1 = v1.transpose()\n",
    "vt2 = v2.transpose()\n",
    "vt3 = v3.transpose()\n",
    "vt4 = v4.transpose()\n",
    "\n",
    "# calculating the empirical average\n",
    "x_bar = 1/4*(v1 + v2 + v3 + v4)\n",
    "\n",
    "# empirical average transpose\n",
    "x_bar_t = x_bar.transpose()"
   ]
  },
  {
   "cell_type": "code",
   "execution_count": 11,
   "metadata": {},
   "outputs": [],
   "source": [
    "# covariance\n",
    "\n",
    "s = 1/4*((v1*vt1)+(v2*vt2)+(v3*vt3)+(v4*vt4))-(x_bar*x_bar_t)"
   ]
  },
  {
   "cell_type": "code",
   "execution_count": 12,
   "metadata": {
    "scrolled": true
   },
   "outputs": [
    {
     "data": {
      "text/plain": [
       "array([[9.25  , 1.    , 6.375 ],\n",
       "       [1.    , 7.5   , 0.    ],\n",
       "       [6.375 , 0.    , 6.1875]])"
      ]
     },
     "execution_count": 12,
     "metadata": {},
     "output_type": "execute_result"
    }
   ],
   "source": [
    "s"
   ]
  },
  {
   "cell_type": "markdown",
   "metadata": {},
   "source": [
    "### An Orthogonal Projection Matrix I\n",
    "\n",
    "https://learning.edx.org/course/course-v1:MITx+18.6501x+2T2022/block-v1:MITx+18.6501x+2T2022+type@sequential+block@u9s1_PCA/block-v1:MITx+18.6501x+2T2022+type@vertical+block@u9s1_PCA-tab5"
   ]
  },
  {
   "cell_type": "code",
   "execution_count": 9,
   "metadata": {},
   "outputs": [
    {
     "name": "stdout",
     "output_type": "stream",
     "text": [
      "Xbar [[5.5  5.   3.25]]\n",
      "H [[ 0.66666667 -0.33333333 -0.33333333]\n",
      " [-0.33333333  0.66666667 -0.33333333]\n",
      " [-0.33333333 -0.33333333  0.66666667]]\n",
      "Hv [[ 2.33333333]\n",
      " [-0.66666667]\n",
      " [-1.66666667]]\n"
     ]
    }
   ],
   "source": [
    "import numpy as np\n",
    "\n",
    "# this is a different approach to calculate the covariance\n",
    "x1=np.matrix([8,4,7])\n",
    "x2=np.matrix([2,8,1])\n",
    "x3=np.matrix([3,1,1])\n",
    "x4=np.matrix([9,7,4])\n",
    "\n",
    "xbar=(x1+x2+x3+x4)*(1/4)\n",
    "print(\"Xbar\",xbar)\n",
    "\n",
    "covar=((1/4)*((x1.T@x1) + (x2.T@x2) + (x3.T@x3) + (x4.T@x4))) - (xbar.T@xbar)\n",
    "\n",
    "\n",
    "\n",
    "\n",
    "H=np.identity(3) - ((1/3) * np.ones((3,3)))\n",
    "\n",
    "print(\"H\",H)\n",
    "\n",
    "v=np.matrix([2,-1,-2])\n",
    "\n",
    "Hv = H@v.T\n",
    "\n",
    "print(\"Hv\",Hv)"
   ]
  },
  {
   "cell_type": "markdown",
   "metadata": {},
   "source": [
    "### 6. Measuring the Spread of a Point Cloud\n",
    "\n",
    "https://learning.edx.org/course/course-v1:MITx+18.6501x+2T2022/block-v1:MITx+18.6501x+2T2022+type@sequential+block@u9s1_PCA/block-v1:MITx+18.6501x+2T2022+type@vertical+block@u9s1_PCA-tab6"
   ]
  },
  {
   "cell_type": "code",
   "execution_count": 16,
   "metadata": {},
   "outputs": [],
   "source": [
    "import numpy as np\n",
    "import math\n",
    "\n",
    "x1=np.matrix([1,2])  #vector x1\n",
    "x2=np.matrix([3,4])  #vector x3\n",
    "x3=np.matrix([-1,0]) #vector x3\n"
   ]
  },
  {
   "cell_type": "code",
   "execution_count": 17,
   "metadata": {},
   "outputs": [
    {
     "data": {
      "text/plain": [
       "matrix([[0.4472136 , 0.89442719]])"
      ]
     },
     "execution_count": 17,
     "metadata": {},
     "output_type": "execute_result"
    }
   ],
   "source": [
    "u=np.matrix([1/np.sqrt(5),2/np.sqrt(5)]) #vector u\n",
    "u"
   ]
  },
  {
   "cell_type": "code",
   "execution_count": 18,
   "metadata": {},
   "outputs": [
    {
     "name": "stdout",
     "output_type": "stream",
     "text": [
      "Projection of Vector u on Vector x1 is:  [[1. 2.]]\n",
      "Projection of Vector u on Vector x2 is:  [[2.2 4.4]]\n",
      "Projection of Vector u on Vector x3 is:  [[-0.2 -0.4]]\n"
     ]
    }
   ],
   "source": [
    "# Task: Project vector u on vector v\n",
    "  \n",
    "# Apply the formula as mentioned above\n",
    "# for projecting a vector onto another vector\n",
    "# find dot product using np.dot()\n",
    "proj_of_u_on_x1 = (u@x1.T)*u\n",
    "proj_of_u_on_x2 = (u@x2.T)*u\n",
    "proj_of_u_on_x3 = (u@x3.T)*u\n",
    "  \n",
    "print(\"Projection of Vector u on Vector x1 is: \", proj_of_u_on_x1)\n",
    "print(\"Projection of Vector u on Vector x2 is: \", proj_of_u_on_x2)\n",
    "print(\"Projection of Vector u on Vector x3 is: \", proj_of_u_on_x3)"
   ]
  },
  {
   "cell_type": "code",
   "execution_count": null,
   "metadata": {},
   "outputs": [],
   "source": []
  }
 ],
 "metadata": {
  "kernelspec": {
   "display_name": "Python 3",
   "language": "python",
   "name": "python3"
  },
  "language_info": {
   "codemirror_mode": {
    "name": "ipython",
    "version": 3
   },
   "file_extension": ".py",
   "mimetype": "text/x-python",
   "name": "python",
   "nbconvert_exporter": "python",
   "pygments_lexer": "ipython3",
   "version": "3.8.5"
  }
 },
 "nbformat": 4,
 "nbformat_minor": 4
}
