{
 "cells": [
  {
   "cell_type": "code",
   "execution_count": 49,
   "metadata": {},
   "outputs": [],
   "source": [
    "# Importing useful libraries\n",
    "\n",
    "import pandas as pd\n",
    "import math\n",
    "import numpy as np\n",
    "import statistics as st\n",
    "import scipy\n",
    "from scipy import stats"
   ]
  },
  {
   "cell_type": "markdown",
   "metadata": {},
   "source": [
    "# 03 Data distributions\n",
    "Link: https://drive.google.com/drive/folders/1Vu56xgUToj9XqvnMqDeNCxWJmDFGSgum\n",
    "\n",
    "---\n",
    "### 01 Mean, variance, and standard deviation"
   ]
  },
  {
   "cell_type": "markdown",
   "metadata": {},
   "source": [
    "__1.Question:__ Find the mean and population standard deviation for the data set."
   ]
  },
  {
   "cell_type": "code",
   "execution_count": 18,
   "metadata": {},
   "outputs": [
    {
     "name": "stdout",
     "output_type": "stream",
     "text": [
      "The mean is 3.2\n",
      "The standard deviation is 1.4697\n"
     ]
    }
   ],
   "source": [
    "data = [6,3,3,2,2]\n",
    "\n",
    "mean = np.mean(data)\n",
    "std = st.pstdev(data) #pstdev for population standard deviation\n",
    "\n",
    "print(\"The mean is\",(mean))\n",
    "print(\"The standard deviation is\",round(std,4))"
   ]
  },
  {
   "cell_type": "markdown",
   "metadata": {},
   "source": [
    "__2.Question:__ Find the mean and sample standard deviation for the data set."
   ]
  },
  {
   "cell_type": "code",
   "execution_count": 19,
   "metadata": {},
   "outputs": [
    {
     "name": "stdout",
     "output_type": "stream",
     "text": [
      "The mean is 6.4\n",
      "The standard deviation is 3.3615\n"
     ]
    }
   ],
   "source": [
    "data = [2,4,7,9,10]\n",
    "\n",
    "mean = np.mean(data)\n",
    "std = st.stdev(data) #stdev for sample standard deviation\n",
    "\n",
    "print(\"The mean is\",(mean))\n",
    "print(\"The standard deviation is\",round(std,4))"
   ]
  },
  {
   "cell_type": "markdown",
   "metadata": {},
   "source": [
    "__3.Question:__ Consider the small population: 1, 2, 1. If each number is increased by 4, how will the population standard deviation change?"
   ]
  },
  {
   "cell_type": "code",
   "execution_count": 34,
   "metadata": {},
   "outputs": [
    {
     "name": "stdout",
     "output_type": "stream",
     "text": [
      "The standard deviation of data is 0.4714\n",
      "The standard deviation of data_increased is 0.4714\n",
      "Both population standard deviations are the same.\n"
     ]
    }
   ],
   "source": [
    "data = [1,2,1]\n",
    "data_increased = np.array(data) + 4 #using numopoy array as an easy way to add a number to all the element of the list\n",
    "\n",
    "std = st.pstdev(data) #pstdev for population standard deviation\n",
    "std_increased = np.std(data_increased) #using numpy standard deviation for the array\n",
    "\n",
    "print(\"The standard deviation of data is\",round(std,4))\n",
    "print(\"The standard deviation of data_increased is\",round(std_increased,4))\n",
    "print(\"Both population standard deviations are the same.\")"
   ]
  },
  {
   "cell_type": "markdown",
   "metadata": {},
   "source": [
    "---\n",
    "### 04 Normal distributions and z-scores"
   ]
  },
  {
   "cell_type": "markdown",
   "metadata": {},
   "source": [
    "__1.Question:__ A third grade class has a mean height of 50′′ with a standard deviation of 3′′. What is the approximate percentile of a third grader who is 53′′ tall?"
   ]
  },
  {
   "cell_type": "code",
   "execution_count": 44,
   "metadata": {},
   "outputs": [],
   "source": [
    "mean = 50\n",
    "std = 3\n",
    "x =53"
   ]
  },
  {
   "cell_type": "code",
   "execution_count": 45,
   "metadata": {},
   "outputs": [
    {
     "data": {
      "text/plain": [
       "1.0"
      ]
     },
     "execution_count": 45,
     "metadata": {},
     "output_type": "execute_result"
    }
   ],
   "source": [
    "z = round((x - mean)/std,4)\n",
    "z"
   ]
  },
  {
   "cell_type": "code",
   "execution_count": 53,
   "metadata": {},
   "outputs": [
    {
     "data": {
      "text/plain": [
       "0.8413447460685429"
      ]
     },
     "execution_count": 53,
     "metadata": {},
     "output_type": "execute_result"
    }
   ],
   "source": [
    "# Using norm cdf function to find the area under the curve, having z-score = 1 \n",
    "stats.norm.cdf(z)"
   ]
  },
  {
   "cell_type": "code",
   "execution_count": null,
   "metadata": {},
   "outputs": [],
   "source": []
  }
 ],
 "metadata": {
  "kernelspec": {
   "display_name": "Python 3",
   "language": "python",
   "name": "python3"
  },
  "language_info": {
   "codemirror_mode": {
    "name": "ipython",
    "version": 3
   },
   "file_extension": ".py",
   "mimetype": "text/x-python",
   "name": "python",
   "nbconvert_exporter": "python",
   "pygments_lexer": "ipython3",
   "version": "3.8.5"
  }
 },
 "nbformat": 4,
 "nbformat_minor": 4
}
