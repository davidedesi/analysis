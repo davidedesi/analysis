{
 "cells": [
  {
   "cell_type": "markdown",
   "metadata": {},
   "source": [
    "---\n",
    "\n",
    "## A/B Testing - Udacity course\n",
    "\n",
    "__A/B Testing: confidence interval for the proportion__:"
   ]
  },
  {
   "cell_type": "code",
   "execution_count": 8,
   "metadata": {},
   "outputs": [
    {
     "data": {
      "text/plain": [
       "0.028928474040117697"
      ]
     },
     "execution_count": 8,
     "metadata": {},
     "output_type": "execute_result"
    }
   ],
   "source": [
    "from math import sqrt\n",
    "\n",
    "N_cont = 10072  # Control samples (pageviews)\n",
    "N_exp = 9886  # Test samples (pageviews)\n",
    "X_cont = 974  # Control clicks\n",
    "X_exp = 1242  # Exp. clicks\n",
    "\n",
    "p_pool = (X_cont + X_exp)/(N_cont+N_exp)\n",
    "se_pool = sqrt(p_pool*(1-p_pool)*(1/N_cont + 1/N_exp))\n",
    "\n",
    "p_cont = X_cont/N_cont\n",
    "p_exp = X_exp/N_exp\n",
    "d = p_exp - p_cont\n",
    "d"
   ]
  },
  {
   "cell_type": "code",
   "execution_count": 9,
   "metadata": {},
   "outputs": [
    {
     "data": {
      "text/plain": [
       "0.008717973932038056"
      ]
     },
     "execution_count": 9,
     "metadata": {},
     "output_type": "execute_result"
    }
   ],
   "source": [
    "m = 1.96*se_pool\n",
    "m"
   ]
  },
  {
   "cell_type": "code",
   "execution_count": 10,
   "metadata": {},
   "outputs": [
    {
     "data": {
      "text/plain": [
       "0.020210500108079642"
      ]
     },
     "execution_count": 10,
     "metadata": {},
     "output_type": "execute_result"
    }
   ],
   "source": [
    "cf_min = d-m\n",
    "cf_max = d+m\n",
    "d_min = 0.02 # Minimum practical significance value for difference\n",
    "cf_min"
   ]
  },
  {
   "cell_type": "code",
   "execution_count": 11,
   "metadata": {},
   "outputs": [
    {
     "data": {
      "text/plain": [
       "0.03764644797215575"
      ]
     },
     "execution_count": 11,
     "metadata": {},
     "output_type": "execute_result"
    }
   ],
   "source": [
    "cf_max"
   ]
  },
  {
   "cell_type": "markdown",
   "metadata": {},
   "source": [
    "---\n",
    "__A/B Testing: confidence interval for the mean__:\n",
    "\n",
    "https://classroom.udacity.com/courses/ud257/lessons/4028708543/concepts/39546791350923"
   ]
  },
  {
   "cell_type": "code",
   "execution_count": 12,
   "metadata": {},
   "outputs": [],
   "source": [
    "import numpy as np\n",
    "from math import sqrt\n",
    "import statistics as st\n",
    "\n",
    "x = [87029, 113407, 84843, 104994, 99327, 92052, 60684]"
   ]
  },
  {
   "cell_type": "code",
   "execution_count": 13,
   "metadata": {},
   "outputs": [],
   "source": [
    "std = st.stdev(x)\n",
    "n = len(x)"
   ]
  },
  {
   "cell_type": "code",
   "execution_count": 14,
   "metadata": {},
   "outputs": [],
   "source": [
    "stder = std/sqrt(n)\n",
    "\n",
    "conf95_min = np.mean(x) - (1.96*stder)\n",
    "conf95_max = np.mean(x) + (1.96*stder)"
   ]
  },
  {
   "cell_type": "code",
   "execution_count": 15,
   "metadata": {},
   "outputs": [
    {
     "data": {
      "text/plain": [
       "79157.54332794028"
      ]
     },
     "execution_count": 15,
     "metadata": {},
     "output_type": "execute_result"
    }
   ],
   "source": [
    "conf95_min"
   ]
  },
  {
   "cell_type": "code",
   "execution_count": 16,
   "metadata": {},
   "outputs": [
    {
     "data": {
      "text/plain": [
       "104367.02810063114"
      ]
     },
     "execution_count": 16,
     "metadata": {},
     "output_type": "execute_result"
    }
   ],
   "source": [
    "conf95_max"
   ]
  },
  {
   "cell_type": "markdown",
   "metadata": {},
   "source": [
    "---\n",
    "__A/B Testing: targeting an experiment__:\n",
    "\n",
    "https://classroom.udacity.com/courses/ud257/lessons/4001558669/concepts/39700990170923"
   ]
  },
  {
   "cell_type": "code",
   "execution_count": 17,
   "metadata": {},
   "outputs": [],
   "source": [
    "from math import sqrt\n",
    "\n",
    "N_NZ_cont = 6021  # Control samples (pageviews)\n",
    "X_NZ_cont = 302  # Test samples (pageviews)\n",
    "N_NZ_exp = 5979  # Control clicks\n",
    "X_NZ_exp = 374  # Exp. clicks"
   ]
  },
  {
   "cell_type": "code",
   "execution_count": 18,
   "metadata": {},
   "outputs": [
    {
     "data": {
      "text/plain": [
       "0.00420953442023799"
      ]
     },
     "execution_count": 18,
     "metadata": {},
     "output_type": "execute_result"
    }
   ],
   "source": [
    "p_NZ_pool = (X_NZ_cont + X_NZ_exp)/(N_NZ_cont+N_NZ_exp)\n",
    "se_NZ_pool = sqrt(p_NZ_pool*(1-p_NZ_pool)*(1/N_NZ_cont + 1/N_NZ_exp))\n",
    "\n",
    "se_NZ_pool"
   ]
  },
  {
   "cell_type": "code",
   "execution_count": 19,
   "metadata": {},
   "outputs": [
    {
     "data": {
      "text/plain": [
       "0.050157781099485134"
      ]
     },
     "execution_count": 19,
     "metadata": {},
     "output_type": "execute_result"
    }
   ],
   "source": [
    "p_NZ_cont = X_NZ_cont/N_NZ_cont\n",
    "\n",
    "p_NZ_cont"
   ]
  },
  {
   "cell_type": "code",
   "execution_count": 20,
   "metadata": {},
   "outputs": [
    {
     "data": {
      "text/plain": [
       "0.06255226626526175"
      ]
     },
     "execution_count": 20,
     "metadata": {},
     "output_type": "execute_result"
    }
   ],
   "source": [
    "p_NZ_exp = X_NZ_exp/N_NZ_exp\n",
    "\n",
    "p_NZ_exp"
   ]
  },
  {
   "cell_type": "code",
   "execution_count": 21,
   "metadata": {},
   "outputs": [
    {
     "data": {
      "text/plain": [
       "0.012394485165776618"
      ]
     },
     "execution_count": 21,
     "metadata": {},
     "output_type": "execute_result"
    }
   ],
   "source": [
    "d_NZ = p_NZ_exp - p_NZ_cont\n",
    "d_NZ"
   ]
  },
  {
   "cell_type": "code",
   "execution_count": 22,
   "metadata": {},
   "outputs": [
    {
     "data": {
      "text/plain": [
       "0.00825068746366646"
      ]
     },
     "execution_count": 22,
     "metadata": {},
     "output_type": "execute_result"
    }
   ],
   "source": [
    "# for the NEW ZEALAND data, the difference d is statistically significant\n",
    "# because the margin of error m is smaller than d\n",
    "# ity means that the confidence interval does not includes 0\n",
    "\n",
    "m_NZ = 1.96*se_NZ_pool\n",
    "m_NZ"
   ]
  },
  {
   "cell_type": "code",
   "execution_count": 23,
   "metadata": {},
   "outputs": [
    {
     "data": {
      "text/plain": [
       "0.004143797702110158"
      ]
     },
     "execution_count": 23,
     "metadata": {},
     "output_type": "execute_result"
    }
   ],
   "source": [
    "cf_NZ_min = d_NZ-m_NZ\n",
    "cf_NZ_max = d_NZ+m_NZ\n",
    "\n",
    "cf_NZ_min"
   ]
  },
  {
   "cell_type": "code",
   "execution_count": 24,
   "metadata": {},
   "outputs": [
    {
     "data": {
      "text/plain": [
       "0.020645172629443077"
      ]
     },
     "execution_count": 24,
     "metadata": {},
     "output_type": "execute_result"
    }
   ],
   "source": [
    "cf_NZ_max"
   ]
  },
  {
   "cell_type": "markdown",
   "metadata": {},
   "source": [
    "__Global data__: the sum of NZ data and rest of fthe world data"
   ]
  },
  {
   "cell_type": "code",
   "execution_count": 25,
   "metadata": {},
   "outputs": [],
   "source": [
    "from math import sqrt\n",
    "\n",
    "N_cont = 50000 + 6021  # Control samples (pageviews)\n",
    "X_cont = 2500 + 302  # Test samples (pageviews)\n",
    "N_exp = 50000 + 5979  # Control clicks\n",
    "X_exp = 2500 + 374  # Exp. clicks\n",
    "\n",
    "p_cont = X_cont/N_cont"
   ]
  },
  {
   "cell_type": "code",
   "execution_count": 26,
   "metadata": {},
   "outputs": [
    {
     "data": {
      "text/plain": [
       "0.05001695792649185"
      ]
     },
     "execution_count": 26,
     "metadata": {},
     "output_type": "execute_result"
    }
   ],
   "source": [
    "p_cont"
   ]
  },
  {
   "cell_type": "code",
   "execution_count": 27,
   "metadata": {},
   "outputs": [],
   "source": [
    "p_exp = X_exp/N_exp"
   ]
  },
  {
   "cell_type": "code",
   "execution_count": 28,
   "metadata": {},
   "outputs": [
    {
     "data": {
      "text/plain": [
       "0.051340681326926166"
      ]
     },
     "execution_count": 28,
     "metadata": {},
     "output_type": "execute_result"
    }
   ],
   "source": [
    "p_exp"
   ]
  },
  {
   "cell_type": "code",
   "execution_count": 29,
   "metadata": {},
   "outputs": [
    {
     "data": {
      "text/plain": [
       "0.0013108102809227253"
      ]
     },
     "execution_count": 29,
     "metadata": {},
     "output_type": "execute_result"
    }
   ],
   "source": [
    "p_pool = (X_cont + X_exp)/(N_cont+N_exp)\n",
    "se_pool = sqrt(p_pool*(1-p_pool)*(1/N_cont + 1/N_exp))\n",
    "\n",
    "se_pool"
   ]
  },
  {
   "cell_type": "code",
   "execution_count": 30,
   "metadata": {},
   "outputs": [
    {
     "data": {
      "text/plain": [
       "0.0013237234004343165"
      ]
     },
     "execution_count": 30,
     "metadata": {},
     "output_type": "execute_result"
    }
   ],
   "source": [
    "d = p_exp - p_cont\n",
    "d"
   ]
  },
  {
   "cell_type": "code",
   "execution_count": 31,
   "metadata": {},
   "outputs": [
    {
     "data": {
      "text/plain": [
       "0.0025691881506085417"
      ]
     },
     "execution_count": 31,
     "metadata": {},
     "output_type": "execute_result"
    }
   ],
   "source": [
    "# for thr global data, the difference d is not statistically significant\n",
    "# because the margin of error m is greater than d\n",
    "# ity means that the confidence interval includes 0\n",
    "\n",
    "m = 1.96*se_pool\n",
    "m"
   ]
  },
  {
   "cell_type": "markdown",
   "metadata": {},
   "source": [
    "---\n",
    "__4.1 Sanity Tests__:\n",
    "\n",
    "https://classroom.udacity.com/courses/ud257/lessons/4085798776/concepts/41050287250923\n",
    "\n",
    "1- Compute standard deviation of binomial with probability 0.5 of success as $\\sqrt{0.5*0.5/x+y}$, since we would expect the same number of cookies in both groups. "
   ]
  },
  {
   "cell_type": "code",
   "execution_count": 32,
   "metadata": {},
   "outputs": [
    {
     "data": {
      "text/plain": [
       "0.0014070724983852516"
      ]
     },
     "execution_count": 32,
     "metadata": {},
     "output_type": "execute_result"
    }
   ],
   "source": [
    "from math import sqrt\n",
    "\n",
    "control_total = 64454\n",
    "test_total= 61818\n",
    "se = sqrt(0.5*0.5/(control_total+test_total))\n",
    "\n",
    "se"
   ]
  },
  {
   "cell_type": "markdown",
   "metadata": {},
   "source": [
    "2-Then calculate the margin of error as $1.96∗se$"
   ]
  },
  {
   "cell_type": "code",
   "execution_count": 33,
   "metadata": {},
   "outputs": [
    {
     "data": {
      "text/plain": [
       "0.002757862096835093"
      ]
     },
     "execution_count": 33,
     "metadata": {},
     "output_type": "execute_result"
    }
   ],
   "source": [
    "margin = 1.96*se\n",
    "\n",
    "margin"
   ]
  },
  {
   "cell_type": "markdown",
   "metadata": {},
   "source": [
    "3-Compute confidence interval around 0.5"
   ]
  },
  {
   "cell_type": "code",
   "execution_count": 34,
   "metadata": {},
   "outputs": [
    {
     "data": {
      "text/plain": [
       "0.4972421379031649"
      ]
     },
     "execution_count": 34,
     "metadata": {},
     "output_type": "execute_result"
    }
   ],
   "source": [
    "p_cf_min = 0.5 - margin\n",
    "p_cf_max = 0.5 + margin\n",
    "p_cf_min"
   ]
  },
  {
   "cell_type": "code",
   "execution_count": 35,
   "metadata": {},
   "outputs": [
    {
     "data": {
      "text/plain": [
       "0.502757862096835"
      ]
     },
     "execution_count": 35,
     "metadata": {},
     "output_type": "execute_result"
    }
   ],
   "source": [
    "p_cf_max"
   ]
  },
  {
   "cell_type": "markdown",
   "metadata": {},
   "source": [
    "4-Check whether observed fraction is within interval"
   ]
  },
  {
   "cell_type": "code",
   "execution_count": 36,
   "metadata": {},
   "outputs": [
    {
     "data": {
      "text/plain": [
       "0.5104377850988343"
      ]
     },
     "execution_count": 36,
     "metadata": {},
     "output_type": "execute_result"
    }
   ],
   "source": [
    "p_cont = control_total/(control_total+test_total)\n",
    "p_cont"
   ]
  },
  {
   "cell_type": "markdown",
   "metadata": {},
   "source": [
    "__Results:__ The observed fraction is outside the interval, it means that something went wrong with creating the 2 random groups"
   ]
  },
  {
   "cell_type": "markdown",
   "metadata": {},
   "source": [
    "---\n",
    "__Checking Invariants, Part 2__\n",
    "\n",
    "https://classroom.udacity.com/courses/ud257/lessons/4085798776/concepts/40713087720923"
   ]
  },
  {
   "cell_type": "code",
   "execution_count": 37,
   "metadata": {},
   "outputs": [
    {
     "data": {
      "text/plain": [
       "0.0028555116021670955"
      ]
     },
     "execution_count": 37,
     "metadata": {},
     "output_type": "execute_result"
    }
   ],
   "source": [
    "from math import sqrt\n",
    "\n",
    "control_total = 15348\n",
    "test_total= 15312\n",
    "se = sqrt(0.5*0.5/(control_total+test_total))\n",
    "\n",
    "se"
   ]
  },
  {
   "cell_type": "code",
   "execution_count": 38,
   "metadata": {},
   "outputs": [
    {
     "data": {
      "text/plain": [
       "0.005596802740247507"
      ]
     },
     "execution_count": 38,
     "metadata": {},
     "output_type": "execute_result"
    }
   ],
   "source": [
    "margin = 1.96*se\n",
    "\n",
    "margin"
   ]
  },
  {
   "cell_type": "code",
   "execution_count": 39,
   "metadata": {},
   "outputs": [
    {
     "data": {
      "text/plain": [
       "0.4944031972597525"
      ]
     },
     "execution_count": 39,
     "metadata": {},
     "output_type": "execute_result"
    }
   ],
   "source": [
    "p_cf_min = 0.5 - margin\n",
    "p_cf_max = 0.5 + margin\n",
    "p_cf_min"
   ]
  },
  {
   "cell_type": "code",
   "execution_count": 40,
   "metadata": {},
   "outputs": [
    {
     "data": {
      "text/plain": [
       "0.5055968027402475"
      ]
     },
     "execution_count": 40,
     "metadata": {},
     "output_type": "execute_result"
    }
   ],
   "source": [
    "p_cf_max"
   ]
  },
  {
   "cell_type": "code",
   "execution_count": 41,
   "metadata": {},
   "outputs": [
    {
     "data": {
      "text/plain": [
       "0.500587084148728"
      ]
     },
     "execution_count": 41,
     "metadata": {},
     "output_type": "execute_result"
    }
   ],
   "source": [
    "p_cont = control_total/(control_total+test_total)\n",
    "p_cont"
   ]
  },
  {
   "cell_type": "markdown",
   "metadata": {},
   "source": [
    "---\n",
    "__4.2 Analysis with a Single Metric__\n",
    "\n",
    "https://classroom.udacity.com/courses/ud257/lessons/4085798776/concepts/40737188220923"
   ]
  },
  {
   "cell_type": "code",
   "execution_count": 42,
   "metadata": {},
   "outputs": [
    {
     "data": {
      "text/plain": [
       "0.10161728925146701"
      ]
     },
     "execution_count": 42,
     "metadata": {},
     "output_type": "execute_result"
    }
   ],
   "source": [
    "# Data provided from test\n",
    "Xs_cont = [196, 200, 200, 216, 212, 185, 225, 187, 205, 211, 192, 196, 223, 192]\n",
    "Ns_cont = [2029, 1991, 1951, 1985, 1973, 2021, 2041, 1980, 1951, 1988, 1977, 2019, 2035, 2007]\n",
    "Xs_exp = [179, 208, 205, 175, 191, 291, 278, 216, 225, 207, 205, 200, 297, 299]\n",
    "Ns_exp = [1971, 2009, 2049, 2015, 2027, 1979, 1959, 2020, 2049, 2012, 2023, 1981, 1965, 1993]\n",
    "\n",
    "Xs_cont_sum = sum(Xs_cont)\n",
    "Ns_cont_sum = sum(Ns_cont)\n",
    "Xs_exp_sum = sum(Xs_exp)\n",
    "Ns_exp_sum = sum(Ns_exp)\n",
    "\n",
    "p_cont = Xs_cont_sum/Ns_cont_sum\n",
    "p_exp = Xs_exp_sum/Ns_exp_sum\n",
    "\n",
    "p_cont"
   ]
  },
  {
   "cell_type": "code",
   "execution_count": 43,
   "metadata": {},
   "outputs": [
    {
     "data": {
      "text/plain": [
       "0.1132183088549836"
      ]
     },
     "execution_count": 43,
     "metadata": {},
     "output_type": "execute_result"
    }
   ],
   "source": [
    "p_exp"
   ]
  },
  {
   "cell_type": "code",
   "execution_count": 44,
   "metadata": {},
   "outputs": [
    {
     "data": {
      "text/plain": [
       "0.002619982707795742"
      ]
     },
     "execution_count": 44,
     "metadata": {},
     "output_type": "execute_result"
    }
   ],
   "source": [
    "from math import sqrt\n",
    "\n",
    "# Empirical standard error and count provided\n",
    "empirical_se = 0.0062\n",
    "empirical_ct = 5000\n",
    "se = (sqrt(1/Ns_cont_sum + 1/Ns_exp_sum))*empirical_se/sqrt(1/empirical_ct + 1/empirical_ct)\n",
    "\n",
    "se"
   ]
  },
  {
   "cell_type": "code",
   "execution_count": 45,
   "metadata": {},
   "outputs": [
    {
     "data": {
      "text/plain": [
       "0.011601019603516588"
      ]
     },
     "execution_count": 45,
     "metadata": {},
     "output_type": "execute_result"
    }
   ],
   "source": [
    "# Calculating the cf for the difference\n",
    "d = p_exp-p_cont\n",
    "margin = se*1.96\n",
    "d_c95min = d - margin\n",
    "d_c95max = d + margin\n",
    "\n",
    "d"
   ]
  },
  {
   "cell_type": "code",
   "execution_count": 46,
   "metadata": {},
   "outputs": [
    {
     "data": {
      "text/plain": [
       "0.006465853496236934"
      ]
     },
     "execution_count": 46,
     "metadata": {},
     "output_type": "execute_result"
    }
   ],
   "source": [
    "d_c95min"
   ]
  },
  {
   "cell_type": "code",
   "execution_count": 47,
   "metadata": {},
   "outputs": [
    {
     "data": {
      "text/plain": [
       "0.016736185710796242"
      ]
     },
     "execution_count": 47,
     "metadata": {},
     "output_type": "execute_result"
    }
   ],
   "source": [
    "d_c95max"
   ]
  },
  {
   "cell_type": "markdown",
   "metadata": {},
   "source": [
    "The results is statisical significant since confidence inerval does not contain 0.\n",
    "However, the confidence interval contains the practical significance boundary (dmin = 0.01), meaning that I can't be confident at the 95% that the size of the effect is something relevant for us."
   ]
  },
  {
   "cell_type": "markdown",
   "metadata": {},
   "source": [
    "---\n",
    "__4.3 Analysis with Multiple metrics__\n",
    "\n",
    "https://classroom.udacity.com/courses/ud257/lessons/4085798776/concepts/41053286040923"
   ]
  },
  {
   "cell_type": "markdown",
   "metadata": {},
   "source": [
    "if you had 10 metrics where you used a 95% confidence interval for each metric, what is the probability that one of the metrics will show up as a false positive? Assume that the 3 metrics are independent by each other"
   ]
  },
  {
   "cell_type": "code",
   "execution_count": 48,
   "metadata": {},
   "outputs": [
    {
     "data": {
      "text/plain": [
       "0.4012630607616213"
      ]
     },
     "execution_count": 48,
     "metadata": {},
     "output_type": "execute_result"
    }
   ],
   "source": [
    "p1 = 0.95\n",
    "p_nofp = p1**10\n",
    "p_fp = 1-p_nofp\n",
    "p_fp"
   ]
  },
  {
   "cell_type": "markdown",
   "metadata": {},
   "source": [
    "if you had 10 metrics where you used a 99% confidence interval for each metric, what is the probability that one of the metrics will show up as a false positive? Assume that the 3 metrics are independent by each other"
   ]
  },
  {
   "cell_type": "code",
   "execution_count": 49,
   "metadata": {},
   "outputs": [
    {
     "data": {
      "text/plain": [
       "0.09561792499119559"
      ]
     },
     "execution_count": 49,
     "metadata": {},
     "output_type": "execute_result"
    }
   ],
   "source": [
    "p1 = 0.99\n",
    "p_nofp = p1**10\n",
    "p_fp = 1-p_nofp\n",
    "p_fp"
   ]
  },
  {
   "cell_type": "markdown",
   "metadata": {},
   "source": [
    "Multiple metrics = example 2\n",
    "\n",
    "https://classroom.udacity.com/courses/ud257/lessons/4085798776/concepts/40748587040923"
   ]
  },
  {
   "cell_type": "code",
   "execution_count": 50,
   "metadata": {},
   "outputs": [
    {
     "data": {
      "text/plain": [
       "0.00452"
      ]
     },
     "execution_count": 50,
     "metadata": {},
     "output_type": "execute_result"
    }
   ],
   "source": [
    "# probability of click through to course overview\n",
    "\n",
    "d = 0.03\n",
    "se = 0.013\n",
    "me = 1.96*se\n",
    "d_c95min = d - me\n",
    "d_c95max = d + me\n",
    "\n",
    "d_c95min"
   ]
  },
  {
   "cell_type": "code",
   "execution_count": 51,
   "metadata": {},
   "outputs": [
    {
     "data": {
      "text/plain": [
       "0.05548"
      ]
     },
     "execution_count": 51,
     "metadata": {},
     "output_type": "execute_result"
    }
   ],
   "source": [
    "d_c95max"
   ]
  },
  {
   "cell_type": "code",
   "execution_count": 52,
   "metadata": {},
   "outputs": [
    {
     "data": {
      "text/plain": [
       "-0.9116"
      ]
     },
     "execution_count": 52,
     "metadata": {},
     "output_type": "execute_result"
    }
   ],
   "source": [
    "# avg time spent reading course overview page\n",
    "\n",
    "d = -0.5\n",
    "se = 0.21\n",
    "me = 1.96*se\n",
    "d_c95min = d - me\n",
    "d_c95max = d + me\n",
    "\n",
    "d_c95min"
   ]
  },
  {
   "cell_type": "code",
   "execution_count": 53,
   "metadata": {},
   "outputs": [
    {
     "data": {
      "text/plain": [
       "-0.08840000000000003"
      ]
     },
     "execution_count": 53,
     "metadata": {},
     "output_type": "execute_result"
    }
   ],
   "source": [
    "d_c95max"
   ]
  },
  {
   "cell_type": "code",
   "execution_count": 55,
   "metadata": {},
   "outputs": [
    {
     "data": {
      "text/plain": [
       "0.0011800000000000005"
      ]
     },
     "execution_count": 55,
     "metadata": {},
     "output_type": "execute_result"
    }
   ],
   "source": [
    "# prob of enrolling\n",
    "\n",
    "d = 0.01\n",
    "se = 0.0045\n",
    "me = 1.96*se\n",
    "d_c95min = d - me\n",
    "d_c95max = d + me\n",
    "\n",
    "d_c95min"
   ]
  },
  {
   "cell_type": "code",
   "execution_count": 56,
   "metadata": {},
   "outputs": [
    {
     "data": {
      "text/plain": [
       "0.01882"
      ]
     },
     "execution_count": 56,
     "metadata": {},
     "output_type": "execute_result"
    }
   ],
   "source": [
    "d_c95max"
   ]
  },
  {
   "cell_type": "code",
   "execution_count": 57,
   "metadata": {},
   "outputs": [
    {
     "data": {
      "text/plain": [
       "-3.4259999999999984"
      ]
     },
     "execution_count": 57,
     "metadata": {},
     "output_type": "execute_result"
    }
   ],
   "source": [
    "# avg time in classroom\n",
    "\n",
    "d = 10\n",
    "se = 6.85\n",
    "me = 1.96*se\n",
    "d_c95min = d - me\n",
    "d_c95max = d + me\n",
    "\n",
    "d_c95min"
   ]
  },
  {
   "cell_type": "code",
   "execution_count": 58,
   "metadata": {},
   "outputs": [
    {
     "data": {
      "text/plain": [
       "23.426"
      ]
     },
     "execution_count": 58,
     "metadata": {},
     "output_type": "execute_result"
    }
   ],
   "source": [
    "d_c95max"
   ]
  },
  {
   "cell_type": "code",
   "execution_count": 59,
   "metadata": {},
   "outputs": [
    {
     "data": {
      "text/plain": [
       "0.0125"
      ]
     },
     "execution_count": 59,
     "metadata": {},
     "output_type": "execute_result"
    }
   ],
   "source": [
    "# bonferroni level\n",
    "alpha = 0.05/4\n",
    "alpha"
   ]
  },
  {
   "cell_type": "code",
   "execution_count": 60,
   "metadata": {},
   "outputs": [
    {
     "data": {
      "text/plain": [
       "0.99375"
      ]
     },
     "execution_count": 60,
     "metadata": {},
     "output_type": "execute_result"
    }
   ],
   "source": [
    "ci_alpha_2 = 1-(alpha/2)\n",
    "ci_alpha_2"
   ]
  },
  {
   "cell_type": "code",
   "execution_count": 61,
   "metadata": {},
   "outputs": [],
   "source": [
    "# I got the z value for alpha/2 from z-table https://www.math.arizona.edu/~rsims/ma464/standardnormaltable.pdf\n",
    "z_bonf=2.49"
   ]
  },
  {
   "cell_type": "code",
   "execution_count": 62,
   "metadata": {},
   "outputs": [
    {
     "data": {
      "text/plain": [
       "-0.002370000000000004"
      ]
     },
     "execution_count": 62,
     "metadata": {},
     "output_type": "execute_result"
    }
   ],
   "source": [
    "# probability of click through to course overview - bonferroni alpha\n",
    "\n",
    "d = 0.03\n",
    "se = 0.013\n",
    "me = z_bonf*se\n",
    "d_c95min = d - me\n",
    "d_c95max = d + me\n",
    "\n",
    "d_c95min"
   ]
  },
  {
   "cell_type": "code",
   "execution_count": 63,
   "metadata": {},
   "outputs": [
    {
     "data": {
      "text/plain": [
       "0.06237"
      ]
     },
     "execution_count": 63,
     "metadata": {},
     "output_type": "execute_result"
    }
   ],
   "source": [
    "d_c95max"
   ]
  },
  {
   "cell_type": "code",
   "execution_count": 64,
   "metadata": {},
   "outputs": [
    {
     "data": {
      "text/plain": [
       "-1.0229"
      ]
     },
     "execution_count": 64,
     "metadata": {},
     "output_type": "execute_result"
    }
   ],
   "source": [
    "# avg time spent reading course overview page - bonferroni alpha\n",
    "\n",
    "d = -0.5\n",
    "se = 0.21\n",
    "me = z_bonf*se\n",
    "d_c95min = d - me\n",
    "d_c95max = d + me\n",
    "\n",
    "d_c95min"
   ]
  },
  {
   "cell_type": "code",
   "execution_count": 65,
   "metadata": {},
   "outputs": [
    {
     "data": {
      "text/plain": [
       "0.02290000000000003"
      ]
     },
     "execution_count": 65,
     "metadata": {},
     "output_type": "execute_result"
    }
   ],
   "source": [
    "d_c95max"
   ]
  },
  {
   "cell_type": "code",
   "execution_count": 66,
   "metadata": {},
   "outputs": [
    {
     "data": {
      "text/plain": [
       "-0.0012049999999999995"
      ]
     },
     "execution_count": 66,
     "metadata": {},
     "output_type": "execute_result"
    }
   ],
   "source": [
    "# prob of enrolling - bonferroni alpha\n",
    "\n",
    "d = 0.01\n",
    "se = 0.0045\n",
    "me = z_bonf*se\n",
    "d_c95min = d - me\n",
    "d_c95max = d + me\n",
    "\n",
    "d_c95min"
   ]
  },
  {
   "cell_type": "code",
   "execution_count": 67,
   "metadata": {},
   "outputs": [
    {
     "data": {
      "text/plain": [
       "0.021205"
      ]
     },
     "execution_count": 67,
     "metadata": {},
     "output_type": "execute_result"
    }
   ],
   "source": [
    "d_c95max"
   ]
  },
  {
   "cell_type": "code",
   "execution_count": 68,
   "metadata": {},
   "outputs": [
    {
     "data": {
      "text/plain": [
       "-7.0565"
      ]
     },
     "execution_count": 68,
     "metadata": {},
     "output_type": "execute_result"
    }
   ],
   "source": [
    "# avg time in classroom - bonferroni alpha\n",
    "\n",
    "d = 10\n",
    "se = 6.85\n",
    "me = z_bonf*se\n",
    "d_c95min = d - me\n",
    "d_c95max = d + me\n",
    "\n",
    "d_c95min"
   ]
  },
  {
   "cell_type": "code",
   "execution_count": 69,
   "metadata": {},
   "outputs": [
    {
     "data": {
      "text/plain": [
       "27.0565"
      ]
     },
     "execution_count": 69,
     "metadata": {},
     "output_type": "execute_result"
    }
   ],
   "source": [
    "d_c95max"
   ]
  },
  {
   "cell_type": "markdown",
   "metadata": {},
   "source": [
    "---\n",
    "# __Final project__\n",
    "\n",
    "## __Experiment Overview: Free Trial Screener__\n",
    "\n",
    "At the time of this experiment, Udacity courses currently have two options on the course overview page: \"start free trial\", and \"access course materials\". If the student clicks \"start free trial\", they will be asked to enter their credit card information, and then they will be enrolled in a free trial for the paid version of the course. After 14 days, they will automatically be charged unless they cancel first. If the student clicks \"access course materials\", they will be able to view the videos and take the quizzes for free, but they will not receive coaching support or a verified certificate, and they will not submit their final project for feedback.\n",
    "\n",
    "In the experiment, Udacity tested a change where if the student clicked \"start free trial\", they were asked how much time they had available to devote to the course. If the student indicated 5 or more hours per week, they would be taken through the checkout process as usual. If they indicated fewer than 5 hours per week, a message would appear indicating that Udacity courses usually require a greater time commitment for successful completion, and suggesting that the student might like to access the course materials for free. At this point, the student would have the option to continue enrolling in the free trial, or access the course materials for free instead. This screenshot shows what the experiment looks like.\n",
    "\n",
    "The __hypothesis__ was that this might set clearer expectations for students upfront, thus reducing the number of frustrated students who left the free trial because they didn't have enough time—without significantly reducing the number of students to continue past the free trial and eventually complete the course. If this hypothesis held true, Udacity could improve the overall student experience and improve coaches' capacity to support students who are likely to complete the course.\n",
    "\n",
    "The __unit of diversion is a cookie__, although if the student enrolls in the free trial, they are tracked by user-id from that point forward. The same user-id cannot enroll in the free trial twice. For users that do not enroll, their user-id is not tracked in the experiment, even if they were signed in when they visited the course overview page.\n"
   ]
  },
  {
   "cell_type": "markdown",
   "metadata": {},
   "source": [
    "## __Metric Choice__\n",
    "\n",
    "Which of the following metrics would you choose to measure for this experiment and why? For each metric you choose, indicate whether you would use it as an invariant metric or an evaluation metric. The practical significance boundary for each metric, that is, the difference that would have to be observed before that was a meaningful change for the business, is given in parentheses. All practical significance boundaries are given as absolute changes.\n",
    "\n",
    "Any place \"unique cookies\" are mentioned, the uniqueness is determined by day. (That is, the same cookie visiting on different days would be counted twice.) User-ids are automatically unique since the site does not allow the same user-id to enroll twice.\n",
    "\n",
    "- __Number of cookies:__ That is, number of unique cookies to view the course overview page. (dmin=3000)\n",
    "- __Number of user-ids:__ That is, number of users who enroll in the free trial. (dmin=50)\n",
    "- __Number of clicks:__ That is, number of unique cookies to click the \"Start free trial\" button (which happens before the free trial screener is trigger). (dmin=240)\n",
    "- __Click-through-probability:__ That is, number of unique cookies to click the \"Start free trial\" button divided by number of unique cookies to view the course overview page. (dmin=0.01)\n",
    "- __Gross conversion:__ That is, number of user-ids to complete checkout and enroll in the free trial divided by number of unique cookies to click the \"Start free trial\" button. (dmin=0.01)\n",
    "- __Retention:__ That is, number of user-ids to remain enrolled past the 14-day boundary (and thus make at least one payment) divided by number of user-ids to complete checkout. (dmin=0.01)\n",
    "- __Net conversion:__ That is, number of user-ids to remain enrolled past the 14-day boundary (and thus make at least one payment) divided by the number of unique cookies to click the \"Start free trial\" button. (dmin=0.0075)\n",
    "\n",
    "You should also decide now what results you will be looking for in order to launch the experiment. Would a change in any one of your evaluation metrics be sufficient? Would you want to see multiple metrics all move or not move at the same time in order to launch? This decision will inform your choices while designing the experiment.\n",
    "\n",
    "__Invariant Metrics:__ number of cookies, number of clicks, click-through-probability.\n",
    "\n",
    "__Evaluation Metrics:__ gross conversion, retention, net conversion."
   ]
  },
  {
   "cell_type": "markdown",
   "metadata": {},
   "source": [
    "## Measure Variability\n",
    "\n",
    "__Calculating standard deviation__\n",
    "\n",
    "https://classroom.udacity.com/courses/ud257/lessons/4126079196/concepts/41454387170923"
   ]
  },
  {
   "cell_type": "code",
   "execution_count": 10,
   "metadata": {},
   "outputs": [],
   "source": [
    "# baseline values\n",
    "# https://docs.google.com/spreadsheets/d/1RrQAHAQMGawB7tDymp2AmgTXZCe8glRLUL9_PWmKQTc/edit#gid=0\n",
    "\n",
    "import math\n",
    "n_pageviews=40000\n",
    "n_clicks=3200\n",
    "n_enroll=660\n",
    "ctp=0.08\n",
    "n_sample=5000\n",
    "\n",
    "click_through_probability=0.08 #clicks / pageviews\n",
    "gross_conversion=0.20625 # enroll / click\n",
    "retention=0.53 # payment / enroll\n",
    "net_conversion=0.1093125 # payment / click"
   ]
  },
  {
   "cell_type": "code",
   "execution_count": 14,
   "metadata": {},
   "outputs": [
    {
     "data": {
      "text/plain": [
       "0.0202"
      ]
     },
     "execution_count": 14,
     "metadata": {},
     "output_type": "execute_result"
    }
   ],
   "source": [
    "# Gross conversion\n",
    "# That is, number of user-ids to complete checkout and enroll in the free trial \n",
    "# divided by number of unique cookies to click the \"Start free trial\" button.\n",
    "\n",
    "#Probability of enrolling, given click:\n",
    "p = 0.20625\n",
    "std_gross_conversion=math.sqrt(gross_conversion*(1-gross_conversion)/(n_clicks/n_pageviews*n_sample))\n",
    "\n",
    "round(std_gross_conversion,4)"
   ]
  },
  {
   "cell_type": "code",
   "execution_count": 15,
   "metadata": {},
   "outputs": [
    {
     "data": {
      "text/plain": [
       "0.0549"
      ]
     },
     "execution_count": 15,
     "metadata": {},
     "output_type": "execute_result"
    }
   ],
   "source": [
    "# Retention\n",
    "# That is, number of user-ids to remain enrolled past the 14-day boundary (and thus make at least one payment)  \n",
    "# divided by number of user-ids to complete checkout.\n",
    "\n",
    "# Probability of payment, given enroll:\n",
    "p = 0.53\n",
    "std_retention=math.sqrt(retention*(1-retention)/(n_enroll/n_pageviews*n_sample))\n",
    "\n",
    "round(std_retention,4)"
   ]
  },
  {
   "cell_type": "code",
   "execution_count": 16,
   "metadata": {},
   "outputs": [
    {
     "data": {
      "text/plain": [
       "0.0156"
      ]
     },
     "execution_count": 16,
     "metadata": {},
     "output_type": "execute_result"
    }
   ],
   "source": [
    "# Net conversion\n",
    "# That is, number of user-ids to remain enrolled past the 14-day boundary (and thus make at least one payment) \n",
    "# divided by the number of unique cookies to click the \"Start free trial\" button \n",
    "\n",
    "# Probability of payment, given click:\n",
    "p = 0.1093125\n",
    "std_net_conversion=math.sqrt(net_conversion*(1-net_conversion)/(n_clicks/n_pageviews*n_sample))\n",
    "\n",
    "round(std_net_conversion,4)"
   ]
  },
  {
   "cell_type": "markdown",
   "metadata": {},
   "source": [
    "## __Sizing__\n",
    "\n",
    "- Will you use Bonferroni Correction? > Evaluation metrics are closely related to each other, so that Bonferroni would be too conservative.\n",
    "\n",
    "- Which evaluation metrics did you choose? > gross conversion, retention, net conversion\n",
    "\n",
    "- How many pageviews will you need?\n",
    "\n",
    "__maximum number of pageviews, using sample size calculator__"
   ]
  },
  {
   "cell_type": "markdown",
   "metadata": {},
   "source": [
    "Using sample size calculator\n",
    "https://www.evanmiller.org/ab-testing/sample-size.html\n",
    "\n",
    "gross conversion - Baseline rate: 20.625% - Minimum Detectable Effect: 0.01 - Sample size: 25,835 clicks/group - Total sample size: 25,835*2=51670 clicks - Pageviews= 51670 / 0.08 (clicks / pageviews)=645875\n",
    "\n",
    "retention - Baseline rate: 53% - Minimum Detectable Effect: 0.01 - Sample size: 39,115 enrolls/group - Total sample size: 39,115*2=78230 enrolls - Pageviews= 78230 / (660/40000) (enrolls / pageviews)=4741212\n",
    "\n",
    "net conversion - Baseline rate: 10.93125% - Minimum Detectable Effect: 0.0075 - Sample size: 27,413 clicks/group - Total sample size: 27,413*2=54826 clicks - Pageviews= 54826 / 0.08 (clicks / pageviews)=685325\n",
    "\n",
    "The maximum number of pageviews is 4741212"
   ]
  },
  {
   "cell_type": "markdown",
   "metadata": {},
   "source": [
    "## __Duration and Exposure__"
   ]
  },
  {
   "cell_type": "code",
   "execution_count": 19,
   "metadata": {},
   "outputs": [],
   "source": [
    "fraction_of_traffic=1\n",
    "duration=4741212/(n_pageviews*fraction_of_traffic)"
   ]
  },
  {
   "cell_type": "code",
   "execution_count": 20,
   "metadata": {},
   "outputs": [
    {
     "data": {
      "text/plain": [
       "118.5303"
      ]
     },
     "execution_count": 20,
     "metadata": {},
     "output_type": "execute_result"
    }
   ],
   "source": [
    "duration"
   ]
  },
  {
   "cell_type": "code",
   "execution_count": 24,
   "metadata": {},
   "outputs": [],
   "source": [
    "#reviewed\n",
    "\n",
    "fraction_of_traffic=1\n",
    "duration=685325/(n_pageviews*fraction_of_traffic)"
   ]
  },
  {
   "cell_type": "code",
   "execution_count": 25,
   "metadata": {},
   "outputs": [
    {
     "data": {
      "text/plain": [
       "17.133125"
      ]
     },
     "execution_count": 25,
     "metadata": {},
     "output_type": "execute_result"
    }
   ],
   "source": [
    "duration"
   ]
  },
  {
   "cell_type": "markdown",
   "metadata": {},
   "source": [
    "# __Sanity Check__\n",
    "\n",
    "For each invariant metric, compute a 95% confidence interval for the value you expect to observe.\n",
    "\n",
    "For invariant metrics we expect equal diversion into the experiment and control group"
   ]
  },
  {
   "cell_type": "code",
   "execution_count": 62,
   "metadata": {},
   "outputs": [],
   "source": [
    "#pageviews\n",
    "\n",
    "from math import sqrt\n",
    "\n",
    "sum_pv_cont = 345543\n",
    "sum_pv_exp= 344660\n",
    "se = sqrt(0.5*0.5/(sum_pv_cont+sum_pv_exp))\n",
    "margin = 1.96*se\n",
    "ci_min = 0.5 - margin\n",
    "ci_max = 0.5 + margin"
   ]
  },
  {
   "cell_type": "code",
   "execution_count": 63,
   "metadata": {},
   "outputs": [
    {
     "name": "stdout",
     "output_type": "stream",
     "text": [
      "Confidence Interval for pageviews: [0.4988,0.5012]\n",
      "Observed:  0.5006\n"
     ]
    }
   ],
   "source": [
    "print(\"Confidence Interval for pageviews: [{},{}]\".format(round(ci_min,4),round(ci_max,4)))\n",
    "print(\"Observed: \",round(sum_pv_cont/(sum_pv_exp+sum_pv_cont),4))"
   ]
  },
  {
   "cell_type": "code",
   "execution_count": 64,
   "metadata": {},
   "outputs": [],
   "source": [
    "#clicks\n",
    "\n",
    "from math import sqrt\n",
    "\n",
    "sum_clicks_cont = 28378\n",
    "sum_clicks_exp= 28325\n",
    "se = sqrt(0.5*0.5/(sum_clicks_cont+sum_clicks_exp))\n",
    "margin = 1.96*se\n",
    "ci_min = 0.5 - margin\n",
    "ci_max = 0.5 + margin"
   ]
  },
  {
   "cell_type": "code",
   "execution_count": 65,
   "metadata": {},
   "outputs": [
    {
     "name": "stdout",
     "output_type": "stream",
     "text": [
      "Confidence Interval for pageviews: [0.4959,0.5041]\n",
      "Observed:  0.5005\n"
     ]
    }
   ],
   "source": [
    "print(\"Confidence Interval for pageviews: [{},{}]\".format(round(ci_min,4),round(ci_max,4)))\n",
    "print(\"Observed: \",round(sum_clicks_cont/(sum_clicks_exp+sum_clicks_cont),4))"
   ]
  },
  {
   "cell_type": "code",
   "execution_count": 70,
   "metadata": {},
   "outputs": [],
   "source": [
    "#Click-through-probability\n",
    "\n",
    "from math import sqrt\n",
    "\n",
    "p_pool = (sum_clicks_cont + sum_clicks_exp)/(sum_pv_cont+sum_pv_exp)\n",
    "se_pool = sqrt(p_pool*(1-p_pool)*(1/sum_pv_exp + 1/sum_pv_exp))\n",
    "\n",
    "p_cont = sum_clicks_cont/sum_pv_cont\n",
    "p_exp = sum_clicks_exp/sum_pv_exp\n",
    "d = p_exp - p_cont\n",
    "m = 1.96*se_pool"
   ]
  },
  {
   "cell_type": "code",
   "execution_count": 71,
   "metadata": {},
   "outputs": [],
   "source": [
    "ci_min = -m\n",
    "ci_max = +m"
   ]
  },
  {
   "cell_type": "code",
   "execution_count": 72,
   "metadata": {},
   "outputs": [
    {
     "name": "stdout",
     "output_type": "stream",
     "text": [
      "Confidence Interval for pageviews: [-0.0013,0.0013]\n",
      "Observed:  0.0001\n"
     ]
    }
   ],
   "source": [
    "print(\"Confidence Interval for pageviews: [{},{}]\".format(round(ci_min,4),round(ci_max,4)))\n",
    "print(\"Observed: \",round(d,4))"
   ]
  },
  {
   "cell_type": "markdown",
   "metadata": {},
   "source": [
    "# __Effective Size Test__\n",
    "\n",
    "For each evaluation metric, compute a 95% confidence interval around the difference between the experiment and control group"
   ]
  },
  {
   "cell_type": "code",
   "execution_count": 77,
   "metadata": {},
   "outputs": [
    {
     "name": "stdout",
     "output_type": "stream",
     "text": [
      "Confidence Interval:[-0.0291233583354044,-0.01198639082531873]\n",
      "Observed: -0.020554874580361565\n",
      "Statistically significant: True ,  CI doesn't include 0\n",
      "Practically significant: True ,  CI doesn't include d_min or -d_min\n"
     ]
    }
   ],
   "source": [
    "## gross conversion\n",
    "## numbers from https://docs.google.com/spreadsheets/d/1pR1iV5Ff4f_s29QoDN_pPPDxU-xBg2EFtufTl17VacU/edit#gid=0\n",
    "\n",
    "from math import sqrt\n",
    "\n",
    "d_min=0.01\n",
    "sum_clicks_cont=17293\n",
    "sum_clicks_exp=17260\n",
    "sum_enroll_cont=3785\n",
    "sum_enroll_exp=3423\n",
    "p_pool=(sum_enroll_exp+sum_enroll_cont)/(sum_clicks_exp+sum_clicks_cont)\n",
    "SE_pool=sqrt(p_pool*(1-p_pool)*(1/sum_clicks_cont+1/sum_clicks_exp))\n",
    "m=SE_pool*1.96\n",
    "d_hat=sum_enroll_exp/sum_clicks_exp-sum_enroll_cont/sum_clicks_cont\n",
    "print(\"Confidence Interval:[{},{}]\".format(d_hat-m,d_hat+m))\n",
    "print(\"Observed:\",d_hat)\n",
    "print (\"Statistically significant:\", d_hat+m<0 or d_hat-m>0 ,\",  CI doesn't include 0\")\n",
    "print(\"Practically significant:\",True,\",  CI doesn't include d_min or -d_min\")"
   ]
  },
  {
   "cell_type": "code",
   "execution_count": 78,
   "metadata": {},
   "outputs": [
    {
     "name": "stdout",
     "output_type": "stream",
     "text": [
      "Confidence Interval:[0.008104435728019967,0.05408517368626556]\n",
      "Observed: 0.031094804707142765\n",
      "Statistically significant: True ,  CI doesn't include 0\n",
      "Practically significant: False ,  CI include d_min\n"
     ]
    }
   ],
   "source": [
    "## retention\n",
    "## numbers from https://docs.google.com/spreadsheets/d/1pR1iV5Ff4f_s29QoDN_pPPDxU-xBg2EFtufTl17VacU/edit#gid=0\n",
    "\n",
    "d_min=0.01\n",
    "sum_payment_cont=2033\n",
    "sum_payment_exp=1945\n",
    "sum_enroll_cont=3785\n",
    "sum_enroll_exp=3423\n",
    "p_pool=(sum_payment_cont+sum_payment_exp)/(sum_enroll_cont+sum_enroll_exp)\n",
    "SE_pool=math.sqrt(p_pool*(1-p_pool)*(1/sum_enroll_cont+1/sum_enroll_exp))\n",
    "m=SE_pool*1.96\n",
    "d_hat=sum_payment_exp/sum_enroll_exp-sum_payment_cont/sum_enroll_cont\n",
    "print(\"Confidence Interval:[{},{}]\".format(d_hat-m,d_hat+m))\n",
    "print(\"Observed:\",d_hat)\n",
    "print (\"Statistically significant:\", d_hat+m<0 or d_hat-m>0 ,\",  CI doesn't include 0\")\n",
    "print(\"Practically significant:\",False,\",  CI include d_min\")"
   ]
  },
  {
   "cell_type": "code",
   "execution_count": 81,
   "metadata": {},
   "outputs": [
    {
     "name": "stdout",
     "output_type": "stream",
     "text": [
      "Confidence Interval:[-0.011604624359891718,0.001857179010803383]\n",
      "Observed: -0.0048737226745441675\n",
      "Statistically significant: False ,  CI include 0\n",
      "Practically significant: False ,  CI include d_min\n"
     ]
    }
   ],
   "source": [
    "## net cconversion\n",
    "## numbers from https://docs.google.com/spreadsheets/d/1pR1iV5Ff4f_s29QoDN_pPPDxU-xBg2EFtufTl17VacU/edit#gid=0\n",
    "\n",
    "d_min=0.0075\n",
    "sum_clicks_cont=17293\n",
    "sum_clicks_exp=17260\n",
    "sum_payment_cont=2033\n",
    "sum_payment_exp=1945\n",
    "p_pool=(sum_payment_exp+sum_payment_cont)/(sum_clicks_exp+sum_clicks_cont)\n",
    "SE_pool=math.sqrt(p_pool*(1-p_pool)*(1/sum_clicks_cont+1/sum_clicks_exp))\n",
    "m=SE_pool*1.96\n",
    "d_hat=sum_payment_exp/sum_clicks_exp-sum_payment_cont/sum_clicks_cont\n",
    "print(\"Confidence Interval:[{},{}]\".format(d_hat-m,d_hat+m))\n",
    "print(\"Observed:\",d_hat)\n",
    "print (\"Statistically significant:\", d_hat+m<0 or d_hat-m>0 ,\",  CI include 0\")\n",
    "print(\"Practically significant:\",False,\",  CI include d_min\")"
   ]
  },
  {
   "cell_type": "markdown",
   "metadata": {},
   "source": [
    "# __Sign Test__\n",
    "\n",
    "Run a sign test on each evaluation metric using the day-by-day data"
   ]
  },
  {
   "cell_type": "code",
   "execution_count": 4,
   "metadata": {},
   "outputs": [
    {
     "name": "stdout",
     "output_type": "stream",
     "text": [
      "p-value: 0.0025994777679443364 , Statistically Significant: True\n"
     ]
    }
   ],
   "source": [
    "## gross conversion\n",
    "## numbers from https://docs.google.com/spreadsheets/d/1pR1iV5Ff4f_s29QoDN_pPPDxU-xBg2EFtufTl17VacU/edit#gid=0\n",
    "\n",
    "from scipy.stats import binom_test \n",
    "alpha=0.05\n",
    "beta=0.2\n",
    "\n",
    "gc_diff=4\n",
    "days=23\n",
    "\n",
    "# The prob of gross conversion of experiment group > gross conversion of control group is 0.5\n",
    "p_value=binom_test(gc_diff, n=days, p=0.5)\n",
    "print(\"p-value:\",p_value,\", Statistically Significant:\",p_value<alpha)"
   ]
  },
  {
   "cell_type": "markdown",
   "metadata": {},
   "source": [
    "We observed that the Gross Conversion for the experiment group is higher than the Gross Conversion for the control group 4 days on 23, or, as the opposite, it'is lower for 19 days. This result is statistically significant, since we expect the the probability, if the null hypothesis is true, would be 0.5, and we get a p-value: 0.0025994777679443364  (which is lower than alpha)"
   ]
  },
  {
   "cell_type": "code",
   "execution_count": 95,
   "metadata": {},
   "outputs": [
    {
     "name": "stdout",
     "output_type": "stream",
     "text": [
      "p-value: 0.6776394844055175 , Statistically Significant: False\n"
     ]
    }
   ],
   "source": [
    "## retention\n",
    "## numbers from https://docs.google.com/spreadsheets/d/1pR1iV5Ff4f_s29QoDN_pPPDxU-xBg2EFtufTl17VacU/edit#gid=0\n",
    "\n",
    "rt_diff=13\n",
    "days=23\n",
    "p_value=binom_test(rt_diff, n=days, p=0.5)\n",
    "print(\"p-value:\",p_value,\", Statistically Significant:\",p_value<alpha)"
   ]
  },
  {
   "cell_type": "code",
   "execution_count": 96,
   "metadata": {},
   "outputs": [
    {
     "name": "stdout",
     "output_type": "stream",
     "text": [
      "p-value: 0.6776394844055175 , Statistically Significant: False\n"
     ]
    }
   ],
   "source": [
    "## net conversion\n",
    "## numbers from https://docs.google.com/spreadsheets/d/1pR1iV5Ff4f_s29QoDN_pPPDxU-xBg2EFtufTl17VacU/edit#gid=0\n",
    "\n",
    "nc_diff=10\n",
    "days=23\n",
    "p_value=binom_test(nc_diff, n=days, p=0.5)\n",
    "print(\"p-value:\",p_value,\", Statistically Significant:\",p_value<alpha)"
   ]
  },
  {
   "cell_type": "code",
   "execution_count": null,
   "metadata": {},
   "outputs": [],
   "source": []
  }
 ],
 "metadata": {
  "kernelspec": {
   "display_name": "Python 3",
   "language": "python",
   "name": "python3"
  },
  "language_info": {
   "codemirror_mode": {
    "name": "ipython",
    "version": 3
   },
   "file_extension": ".py",
   "mimetype": "text/x-python",
   "name": "python",
   "nbconvert_exporter": "python",
   "pygments_lexer": "ipython3",
   "version": "3.8.5"
  }
 },
 "nbformat": 4,
 "nbformat_minor": 4
}
