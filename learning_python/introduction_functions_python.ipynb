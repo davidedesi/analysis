{
 "cells": [
  {
   "cell_type": "markdown",
   "metadata": {},
   "source": [
    "## Week 1: Python Fundamentals & Core Data Structures\n",
    "\n",
    "### Day 1-2: Python Fundamentals - Day 2\n",
    "\n",
    "Datacamp: https://campus.datacamp.com/courses/introduction-to-functions-in-python/writing-your-own-functions?ex=1\n",
    "\n",
    "---\n"
   ]
  },
  {
   "cell_type": "code",
   "execution_count": 4,
   "metadata": {},
   "outputs": [
    {
     "name": "stdout",
     "output_type": "stream",
     "text": [
      "congratulations!!!\n"
     ]
    }
   ],
   "source": [
    "# Define the function shout\n",
    "def shout():\n",
    "    \"\"\"Print a string with three exclamation marks\"\"\"\n",
    "    # Concatenate the strings: shout_word\n",
    "    shout_word = \"congratulations\"+\"!!!\"\n",
    "\n",
    "    # Print shout_word\n",
    "    print(shout_word)\n",
    "\n",
    "# Call shout\n",
    "shout()       "
   ]
  },
  {
   "cell_type": "code",
   "execution_count": 8,
   "metadata": {},
   "outputs": [
    {
     "name": "stdout",
     "output_type": "stream",
     "text": [
      "Polly!!!\n"
     ]
    }
   ],
   "source": [
    "# Define shout with the parameter, word\n",
    "def shout(word):\n",
    "    \"\"\"Print a string with three exclamation marks\"\"\"\n",
    "    # Concatenate the strings: shout_word\n",
    "    shout_word = word + '!!!'\n",
    "\n",
    "    # Print shout_word\n",
    "    print(shout_word)\n",
    "\n",
    "# Call shout with the string 'congratulations'\n",
    "shout('Polly')"
   ]
  },
  {
   "cell_type": "markdown",
   "metadata": {},
   "source": [
    "Functions that return single values\n",
    "You're getting very good at this! Try your hand at another modification to the `shout()` function so that it now returns a single value instead of printing within the function. Recall that the return keyword lets you return values from functions. Parts of the function `shout()`, which you wrote earlier, are shown. Returning values is generally more desirable than printing them out because, as you saw earlier, a `print()` call assigned to a variable has type NoneType."
   ]
  },
  {
   "cell_type": "code",
   "execution_count": 9,
   "metadata": {},
   "outputs": [
    {
     "name": "stdout",
     "output_type": "stream",
     "text": [
      "congratulations!!!\n"
     ]
    }
   ],
   "source": [
    "# Define shout with the parameter, word\n",
    "def shout(word):\n",
    "    \"\"\"Return a string with three exclamation marks\"\"\"\n",
    "    # Concatenate the strings: shout_word\n",
    "    shout_word = word + \"!!!\"\n",
    "\n",
    "    # Replace print with return\n",
    "    return(shout_word)\n",
    "\n",
    "# Pass 'congratulations' to shout: yell\n",
    "yell = shout(\"congratulations\")\n",
    "\n",
    "# Print yell\n",
    "print(yell)"
   ]
  },
  {
   "cell_type": "markdown",
   "metadata": {},
   "source": [
    "Multiple parameters"
   ]
  },
  {
   "cell_type": "code",
   "execution_count": 11,
   "metadata": {},
   "outputs": [
    {
     "name": "stdout",
     "output_type": "stream",
     "text": [
      "Polly!!!brava!!!\n"
     ]
    }
   ],
   "source": [
    "# Define shout with parameters word1 and word2\n",
    "def shout(word1, word2):\n",
    "    \"\"\"Concatenate strings with three exclamation marks\"\"\"\n",
    "    # Concatenate word1 with '!!!': shout1\n",
    "    shout1 = word1 + \"!!!\"\n",
    "    \n",
    "    # Concatenate word2 with '!!!': shout2\n",
    "    shout2 = word2 + \"!!!\"\n",
    "    \n",
    "    # Concatenate shout1 with shout2: new_shout\n",
    "    new_shout = shout1 + shout2\n",
    "\n",
    "    # Return new_shout\n",
    "    return new_shout\n",
    "\n",
    "# Pass 'congratulations' and 'you' to shout(): yell\n",
    "yell = shout(\"Polly\", \"brava\")\n",
    "\n",
    "# Print yell\n",
    "print(yell)"
   ]
  },
  {
   "cell_type": "markdown",
   "metadata": {},
   "source": [
    "A brief introduction to tuples"
   ]
  },
  {
   "cell_type": "code",
   "execution_count": 16,
   "metadata": {},
   "outputs": [],
   "source": [
    "nums = (1, 2, 3)\n",
    "\n",
    "# Unpack nums into num1, num2, and num3\n",
    "(num1, num2 , num3) = nums\n",
    "\n",
    "# Construct even_nums\n",
    "even_nums = (2, num2, num3)"
   ]
  },
  {
   "cell_type": "code",
   "execution_count": 18,
   "metadata": {},
   "outputs": [
    {
     "name": "stdout",
     "output_type": "stream",
     "text": [
      "Polly!!!\n",
      "brava!!!\n"
     ]
    }
   ],
   "source": [
    "  # Define shout_all with parameters word1 and word2\n",
    "def shout_all(word1, word2):\n",
    "    \n",
    "    # Concatenate word1 with '!!!': shout1\n",
    "    shout1 = word1 + \"!!!\"\n",
    "    \n",
    "    # Concatenate word2 with '!!!': shout2\n",
    "    shout2 = word2 + \"!!!\"\n",
    "    \n",
    "    # Construct a tuple with shout1 and shout2: shout_words\n",
    "    shout_words = (shout1, shout2)\n",
    "\n",
    "    # Return shout_words\n",
    "    return shout_words\n",
    "\n",
    "# Pass 'congratulations' and 'you' to shout_all(): yell1, yell2\n",
    "yell1, yell2 = shout_all(\"Polly\", \"brava\")\n",
    "\n",
    "# Print yell1 and yell2\n",
    "print(yell1)\n",
    "print(yell2)"
   ]
  },
  {
   "cell_type": "code",
   "execution_count": 3,
   "metadata": {},
   "outputs": [
    {
     "name": "stdout",
     "output_type": "stream",
     "text": [
      "{'en': 46934, 'tl': 113, 'cy': 20, 'und': 3242, 'in': 108, 'es': 1372, 'ht': 47, 'pt': 180, 'ro': 13, 'lt': 20, 'nl': 51, 'et': 61, 'fr': 118, 'de': 42, 'ja': 25, 'da': 24, 'sv': 16, 'hi': 7, 'it': 50, 'eu': 4, 'hu': 12, 'fi': 7, 'is': 3, 'no': 17, 'tr': 15, 'sl': 3, 'pl': 22, 'cs': 8, 'ko': 3, 'ru': 1, 'ar': 1, 'lv': 3}\n"
     ]
    }
   ],
   "source": [
    "# Import pandas\n",
    "import pandas as pd\n",
    "\n",
    "# Import Twitter data as DataFrame: tweets_df\n",
    "tweets_df = pd.read_csv(\"tweets.csv\")\n",
    "\n",
    "# Initialize an empty dictionary: langs_count\n",
    "langs_count = {}\n",
    "\n",
    "# Extract column from DataFrame: col\n",
    "col = tweets_df['language']\n",
    "\n",
    "# Iterate over lang column in DataFrame\n",
    "for entry in col:\n",
    "\n",
    "    # If the language is in langs_count, add 1 \n",
    "    if entry in langs_count.keys():\n",
    "        langs_count[entry] += 1\n",
    "    # Else add the language to langs_count, set the value to 1\n",
    "    else:\n",
    "        langs_count[entry] = 1\n",
    "\n",
    "# Print the populated dictionary\n",
    "print(langs_count)"
   ]
  },
  {
   "cell_type": "code",
   "execution_count": 5,
   "metadata": {},
   "outputs": [
    {
     "name": "stdout",
     "output_type": "stream",
     "text": [
      "{'katyperry': 2924, 'justinbieber': 2000, 'taylorswift13': 2029, 'BarackObama': 2863, 'rihanna': 2877, 'YouTube': 3077, 'ladygaga': 2329, 'TheEllenShow': 3147, 'Twitter': 2290, 'jtimberlake': 2478, 'KimKardashian': 2939, 'britneyspears': 2776, 'Cristiano': 2507, 'selenagomez': 2913, 'cnnbrk': 1842, 'jimmyfallon': 3123, 'ArianaGrande': 3104, 'shakira': 2530, 'instagram': 2577, 'ddlovato': 2217}\n"
     ]
    }
   ],
   "source": [
    "# Define count_entries()\n",
    "def count_entries(df, col_name):\n",
    "    \"\"\"Return a dictionary with counts of \n",
    "    occurrences as value for each key.\"\"\"\n",
    "\n",
    "    # Initialize an empty dictionary: langs_count\n",
    "    langs_count = {}\n",
    "    \n",
    "    # Extract column from DataFrame: col\n",
    "    col = df[col_name]\n",
    "    \n",
    "    # Iterate over lang column in DataFrame\n",
    "    for entry in col:\n",
    "\n",
    "        # If the language is in langs_count, add 1\n",
    "        if entry in langs_count.keys():\n",
    "            langs_count[entry] += 1\n",
    "        # Else add the language to langs_count, set the value to 1\n",
    "        else:\n",
    "            langs_count[entry] = 1\n",
    "\n",
    "    # Return the langs_count dictionary\n",
    "    return langs_count\n",
    "    \n",
    "\n",
    "# Call count_entries(): result\n",
    "result = count_entries(tweets_df, \"author\")\n",
    "\n",
    "# Print the result\n",
    "print(result)"
   ]
  },
  {
   "cell_type": "markdown",
   "metadata": {},
   "source": [
    "In this exercise, you will use the keyword `global` within a function to alter the value of a variable defined in the global scope"
   ]
  },
  {
   "cell_type": "code",
   "execution_count": 6,
   "metadata": {},
   "outputs": [
    {
     "name": "stdout",
     "output_type": "stream",
     "text": [
      "teen titans\n",
      "justice league\n"
     ]
    }
   ],
   "source": [
    "# Create a string: team\n",
    "team = \"teen titans\"\n",
    "\n",
    "# Define change_team()\n",
    "def change_team():\n",
    "    \"\"\"Change the value of the global variable team.\"\"\"\n",
    "\n",
    "    # Use team in global scope\n",
    "    global team\n",
    "\n",
    "    # Change the value of team in global: team\n",
    "    team = \"justice league\"\n",
    "# Print team\n",
    "print(team)\n",
    "\n",
    "# Call change_team()\n",
    "change_team()\n",
    "\n",
    "# Print team\n",
    "print(team)"
   ]
  },
  {
   "cell_type": "markdown",
   "metadata": {},
   "source": [
    "Nested functions"
   ]
  },
  {
   "cell_type": "code",
   "execution_count": 8,
   "metadata": {},
   "outputs": [
    {
     "name": "stdout",
     "output_type": "stream",
     "text": [
      "('Polly!!!', 'Muz!!!', 'Brave!!!')\n"
     ]
    }
   ],
   "source": [
    "# Define three_shouts\n",
    "def three_shouts(word1, word2, word3):\n",
    "    \"\"\"Returns a tuple of strings\n",
    "    concatenated with '!!!'.\"\"\"\n",
    "\n",
    "    # Define inner\n",
    "    def inner(word):\n",
    "        \"\"\"Returns a string concatenated with '!!!'.\"\"\"\n",
    "        return word + '!!!'\n",
    "\n",
    "    # Return a tuple of strings\n",
    "    return (inner(word1), inner(word2), inner(word3))\n",
    "\n",
    "# Call three_shouts() and print\n",
    "print(three_shouts('Polly', 'Muz', 'Brave'))"
   ]
  },
  {
   "cell_type": "markdown",
   "metadata": {},
   "source": [
    "One other pretty cool reason for nesting functions is the idea of a closure. This means that the nested or inner function remembers the state of its enclosing scope when called. Thus, anything defined locally in the enclosing scope is available to the inner function even when the outer function has finished execution."
   ]
  },
  {
   "cell_type": "code",
   "execution_count": 10,
   "metadata": {},
   "outputs": [
    {
     "name": "stdout",
     "output_type": "stream",
     "text": [
      "PollyPolly MuzMuzMuz\n"
     ]
    }
   ],
   "source": [
    "# Define echo\n",
    "def echo(n):\n",
    "    \"\"\"Return the inner_echo function.\"\"\"\n",
    "\n",
    "    # Define inner_echo\n",
    "    def inner_echo(word1):\n",
    "        \"\"\"Concatenate n copies of word1.\"\"\"\n",
    "        echo_word = word1 * n\n",
    "        return echo_word\n",
    "\n",
    "    # Return inner_echo\n",
    "    return inner_echo\n",
    "\n",
    "# Call echo: twice\n",
    "twice = echo(2)\n",
    "\n",
    "# Call echo: thrice\n",
    "thrice = echo(3)\n",
    "\n",
    "# Call twice() and thrice() then print\n",
    "print(twice('Polly'), thrice('Muz'))"
   ]
  },
  {
   "cell_type": "code",
   "execution_count": 13,
   "metadata": {},
   "outputs": [
    {
     "name": "stdout",
     "output_type": "stream",
     "text": [
      "MuzMuz\n",
      "MuzMuz!!!\n"
     ]
    }
   ],
   "source": [
    "# Define echo_shout()\n",
    "def echo_shout(word):\n",
    "    \"\"\"Change the value of a nonlocal variable\"\"\"\n",
    "    \n",
    "    # Concatenate word with itself: echo_word\n",
    "    echo_word = word + word\n",
    "    \n",
    "    # Print echo_word\n",
    "    print(echo_word)\n",
    "    \n",
    "    # Define inner function shout()\n",
    "    def shout():\n",
    "        \"\"\"Alter a variable in the enclosing scope\"\"\"    \n",
    "        # Use echo_word in nonlocal scope\n",
    "        nonlocal echo_word\n",
    "        \n",
    "        # Change echo_word to echo_word concatenated with '!!!'\n",
    "        echo_word = echo_word + \"!!!\"\n",
    "    \n",
    "    # Call function shout()\n",
    "    shout()\n",
    "    \n",
    "    # Print echo_word\n",
    "    print(echo_word)\n",
    "\n",
    "# Call function echo_shout() with argument 'hello'\n",
    "echo_shout(\"Muz\")"
   ]
  },
  {
   "cell_type": "markdown",
   "metadata": {},
   "source": [
    "Default and flexible arguments"
   ]
  },
  {
   "cell_type": "code",
   "execution_count": 15,
   "metadata": {},
   "outputs": [
    {
     "name": "stdout",
     "output_type": "stream",
     "text": [
      "Hey!!!What??\n",
      "HeyHeyHeyHeyHey!!!What??\n"
     ]
    }
   ],
   "source": [
    "# Define shout_echo\n",
    "def shout_echo(word1, echo=1):\n",
    "    \"\"\"Concatenate echo copies of word1 and three\n",
    "     exclamation marks at the end of the string.\"\"\"\n",
    "\n",
    "    # Concatenate echo copies of word1 using *: echo_word\n",
    "    echo_word = word1*echo\n",
    "\n",
    "    # Concatenate '!!!' to echo_word: shout_word\n",
    "    shout_word = echo_word + '!!!'\n",
    "\n",
    "    # Concatenate 'What?' to shout_word: super_word\n",
    "    super_word = echo_word + '!!!' + 'What??'\n",
    "\n",
    "    # Return shout_word\n",
    "    return super_word\n",
    "\n",
    "# Call shout_echo() with \"Hey\": no_echo\n",
    "no_echo = shout_echo(\"Hey\")\n",
    "\n",
    "# Call shout_echo() with \"Hey\" and echo=5: with_echo\n",
    "with_echo = shout_echo(\"Hey\", echo=5)\n",
    "\n",
    "# Print no_echo and with_echo\n",
    "print(no_echo)\n",
    "print(with_echo)"
   ]
  },
  {
   "cell_type": "code",
   "execution_count": 18,
   "metadata": {},
   "outputs": [
    {
     "name": "stdout",
     "output_type": "stream",
     "text": [
      "POLLYPOLLYPOLLYPOLLYPOLLY!!!\n",
      "Muz!!!\n"
     ]
    }
   ],
   "source": [
    "# Define shout_echo\n",
    "def shout_echo(word1, echo=1, intense=False):\n",
    "    \"\"\"Concatenate echo copies of word1 and three\n",
    "    exclamation marks at the end of the string.\"\"\"\n",
    "\n",
    "    # Concatenate echo copies of word1 using *: echo_word\n",
    "    echo_word = word1 * echo\n",
    "\n",
    "    # Make echo_word uppercase if intense is True\n",
    "    if intense is True:\n",
    "        # Make uppercase and concatenate '!!!': echo_word_new\n",
    "        echo_word_new = echo_word.upper() + '!!!'\n",
    "    else:\n",
    "        # Concatenate '!!!' to echo_word: echo_word_new\n",
    "        echo_word_new = echo_word + '!!!'\n",
    "\n",
    "    # Return echo_word_new\n",
    "    return echo_word_new\n",
    "\n",
    "# Call shout_echo() with \"Hey\", echo=5 and intense=True: with_big_echo\n",
    "with_big_echo = shout_echo(\"Polly\", echo=5, intense=True)\n",
    "\n",
    "# Call shout_echo() with \"Hey\" and intense=True: big_no_echo\n",
    "big_no_echo = shout_echo(\"Muz\", intense=False)\n",
    "\n",
    "# Print values\n",
    "print(with_big_echo)\n",
    "print(big_no_echo)"
   ]
  },
  {
   "cell_type": "markdown",
   "metadata": {},
   "source": [
    "### Functions with variable-length arguments (*args)\n",
    "\n",
    "Flexible arguments enable you to pass a variable number of arguments to a function. In this exercise, you will practice defining a function that accepts a variable number of string arguments.\n",
    "\n",
    "The function you will define is `gibberish()` which can accept a variable number of string values. Its return value is a single string composed of all the string arguments concatenated together in the order they were passed to the function call. You will call the function with a single string argument and see how the output changes with another call using more than one string argument. Recall from the previous video that, within the function definition, `args` is a tuple.\n",
    "\n"
   ]
  },
  {
   "cell_type": "code",
   "execution_count": 20,
   "metadata": {},
   "outputs": [
    {
     "name": "stdout",
     "output_type": "stream",
     "text": [
      "luke\n",
      "lukeleiahanobidarthvaderskywalker\n"
     ]
    }
   ],
   "source": [
    "# Define gibberish\n",
    "def gibberish(*args):\n",
    "    \"\"\"Concatenate strings in *args together.\"\"\"\n",
    "\n",
    "    # Initialize an empty string: hodgepodge\n",
    "    hodgepodge = \"\"\n",
    "\n",
    "    # Concatenate the strings in args\n",
    "    for word in args:\n",
    "        hodgepodge += word\n",
    "\n",
    "    # Return hodgepodge\n",
    "    return hodgepodge\n",
    "\n",
    "# Call gibberish() with one string: one_word\n",
    "one_word = gibberish(\"luke\")\n",
    "\n",
    "# Call gibberish() with five strings: many_words\n",
    "many_words = gibberish(\"luke\", \"leia\", \"han\", \"obi\", \"darth\", \"vader\", \"skywalker\")\n",
    "\n",
    "# Print one_word and many_words\n",
    "print(one_word)\n",
    "print(many_words)"
   ]
  },
  {
   "cell_type": "markdown",
   "metadata": {},
   "source": [
    "### Functions with variable-length keyword arguments (**kwargs)\n",
    "\n",
    "Let's push further on what you've learned about flexible arguments - you've used `*args`, you're now going to use `**kwargs`! What makes `**kwargs` different is that it allows you to pass a variable number of keyword arguments to functions. Recall from the previous video that, within the function definition, kwargs is a dictionary.\n",
    "\n",
    "To understand this idea better, you're going to use `**kwargs` in this exercise to define a function that accepts a variable number of keyword arguments. The function simulates a simple status report system that prints out the status of a character in a movie."
   ]
  },
  {
   "cell_type": "code",
   "execution_count": 21,
   "metadata": {},
   "outputs": [
    {
     "name": "stdout",
     "output_type": "stream",
     "text": [
      "\n",
      "BEGIN: REPORT\n",
      "\n",
      "name: luke\n",
      "affiliation: jedi\n",
      "status: missing\n",
      "\n",
      "END REPORT\n",
      "\n",
      "BEGIN: REPORT\n",
      "\n",
      "name: anakin\n",
      "affiliation: sith lord\n",
      "status: deceased\n",
      "\n",
      "END REPORT\n"
     ]
    }
   ],
   "source": [
    "# Define report_status\n",
    "def report_status(**kwargs):\n",
    "    \"\"\"Print out the status of a movie character.\"\"\"\n",
    "\n",
    "    print(\"\\nBEGIN: REPORT\\n\")\n",
    "\n",
    "    # Iterate over the key-value pairs of kwargs\n",
    "    for key, value in kwargs.items():\n",
    "        # Print out the keys and values, separated by a colon ':'\n",
    "        print(key + \": \" + value)\n",
    "\n",
    "    print(\"\\nEND REPORT\")\n",
    "\n",
    "# First call to report_status()\n",
    "report_status(name=\"luke\", affiliation=\"jedi\", status=\"missing\")\n",
    "\n",
    "# Second call to report_status()\n",
    "report_status(name=\"anakin\", affiliation=\"sith lord\", status=\"deceased\")"
   ]
  },
  {
   "cell_type": "markdown",
   "metadata": {},
   "source": [
    "In this exercise, we will generalize the Twitter language analysis that you did in the previous chapter. You will do that by including a __default argument__ that takes a column name"
   ]
  },
  {
   "cell_type": "code",
   "execution_count": 23,
   "metadata": {},
   "outputs": [
    {
     "name": "stdout",
     "output_type": "stream",
     "text": [
      "{'en': 46934, 'tl': 113, 'cy': 20, 'und': 3242, 'in': 108, 'es': 1372, 'ht': 47, 'pt': 180, 'ro': 13, 'lt': 20, 'nl': 51, 'et': 61, 'fr': 118, 'de': 42, 'ja': 25, 'da': 24, 'sv': 16, 'hi': 7, 'it': 50, 'eu': 4, 'hu': 12, 'fi': 7, 'is': 3, 'no': 17, 'tr': 15, 'sl': 3, 'pl': 22, 'cs': 8, 'ko': 3, 'ru': 1, 'ar': 1, 'lv': 3}\n",
      "{'katyperry': 2924, 'justinbieber': 2000, 'taylorswift13': 2029, 'BarackObama': 2863, 'rihanna': 2877, 'YouTube': 3077, 'ladygaga': 2329, 'TheEllenShow': 3147, 'Twitter': 2290, 'jtimberlake': 2478, 'KimKardashian': 2939, 'britneyspears': 2776, 'Cristiano': 2507, 'selenagomez': 2913, 'cnnbrk': 1842, 'jimmyfallon': 3123, 'ArianaGrande': 3104, 'shakira': 2530, 'instagram': 2577, 'ddlovato': 2217}\n"
     ]
    }
   ],
   "source": [
    "# Define count_entries()\n",
    "def count_entries(df, col_name='language'):\n",
    "    \"\"\"Return a dictionary with counts of\n",
    "    occurrences as value for each key.\"\"\"\n",
    "\n",
    "    # Initialize an empty dictionary: cols_count\n",
    "    cols_count = {}\n",
    "\n",
    "    # Extract column from DataFrame: col\n",
    "    col = df[col_name]\n",
    "    \n",
    "    # Iterate over the column in DataFrame\n",
    "    for entry in col:\n",
    "\n",
    "        # If entry is in cols_count, add 1\n",
    "        if entry in cols_count.keys():\n",
    "            cols_count[entry] += 1\n",
    "\n",
    "        # Else add the entry to cols_count, set the value to 1\n",
    "        else:\n",
    "            cols_count[entry] = 1\n",
    "\n",
    "    # Return the cols_count dictionary\n",
    "    return cols_count\n",
    "\n",
    "# Call count_entries(): result1\n",
    "result1 = count_entries(tweets_df)\n",
    "\n",
    "# Call count_entries(): result2\n",
    "result2 = count_entries(tweets_df, col_name='author')\n",
    "\n",
    "# Print result1 and result2\n",
    "print(result1)\n",
    "print(result2)"
   ]
  },
  {
   "cell_type": "markdown",
   "metadata": {},
   "source": [
    "You're now going to generalize this function one step further by allowing the user to pass it a flexible argument, that is, in this case, as many column names as the user would like!"
   ]
  },
  {
   "cell_type": "code",
   "execution_count": 24,
   "metadata": {},
   "outputs": [
    {
     "name": "stdout",
     "output_type": "stream",
     "text": [
      "{'en': 46934, 'tl': 113, 'cy': 20, 'und': 3242, 'in': 108, 'es': 1372, 'ht': 47, 'pt': 180, 'ro': 13, 'lt': 20, 'nl': 51, 'et': 61, 'fr': 118, 'de': 42, 'ja': 25, 'da': 24, 'sv': 16, 'hi': 7, 'it': 50, 'eu': 4, 'hu': 12, 'fi': 7, 'is': 3, 'no': 17, 'tr': 15, 'sl': 3, 'pl': 22, 'cs': 8, 'ko': 3, 'ru': 1, 'ar': 1, 'lv': 3}\n",
      "{'en': 46934, 'tl': 113, 'cy': 20, 'und': 3242, 'in': 108, 'es': 1372, 'ht': 47, 'pt': 180, 'ro': 13, 'lt': 20, 'nl': 51, 'et': 61, 'fr': 118, 'de': 42, 'ja': 25, 'da': 24, 'sv': 16, 'hi': 7, 'it': 50, 'eu': 4, 'hu': 12, 'fi': 7, 'is': 3, 'no': 17, 'tr': 15, 'sl': 3, 'pl': 22, 'cs': 8, 'ko': 3, 'ru': 1, 'ar': 1, 'lv': 3, 'katyperry': 2924, 'justinbieber': 2000, 'taylorswift13': 2029, 'BarackObama': 2863, 'rihanna': 2877, 'YouTube': 3077, 'ladygaga': 2329, 'TheEllenShow': 3147, 'Twitter': 2290, 'jtimberlake': 2478, 'KimKardashian': 2939, 'britneyspears': 2776, 'Cristiano': 2507, 'selenagomez': 2913, 'cnnbrk': 1842, 'jimmyfallon': 3123, 'ArianaGrande': 3104, 'shakira': 2530, 'instagram': 2577, 'ddlovato': 2217}\n"
     ]
    }
   ],
   "source": [
    "# Define count_entries()\n",
    "def count_entries(df, *args):\n",
    "    \"\"\"Return a dictionary with counts of\n",
    "    occurrences as value for each key.\"\"\"\n",
    "    \n",
    "    #Initialize an empty dictionary: cols_count\n",
    "    cols_count = {}\n",
    "    \n",
    "    # Iterate over column names in args\n",
    "    for col_name in args:\n",
    "    \n",
    "        # Extract column from DataFrame: col\n",
    "        col = df[col_name]\n",
    "    \n",
    "        # Iterate over the column in DataFrame\n",
    "        for entry in col:\n",
    "    \n",
    "            # If entry is in cols_count, add 1\n",
    "            if entry in cols_count.keys():\n",
    "                cols_count[entry] += 1\n",
    "    \n",
    "            # Else add the entry to cols_count, set the value to 1\n",
    "            else:\n",
    "                cols_count[entry] = 1\n",
    "\n",
    "    # Return the cols_count dictionary\n",
    "    return cols_count\n",
    "\n",
    "# Call count_entries(): result1\n",
    "result1 = count_entries(tweets_df, 'language')\n",
    "\n",
    "# Call count_entries(): result2\n",
    "result2 = count_entries(tweets_df, 'language', 'author')\n",
    "\n",
    "# Print result1 and result2\n",
    "print(result1)\n",
    "print(result2)"
   ]
  },
  {
   "cell_type": "markdown",
   "metadata": {},
   "source": [
    "### Lambda functions"
   ]
  },
  {
   "cell_type": "code",
   "execution_count": 27,
   "metadata": {},
   "outputs": [
    {
     "name": "stdout",
     "output_type": "stream",
     "text": [
      "PollyPollyPollyPollyPolly\n"
     ]
    }
   ],
   "source": [
    "# Define echo_word as a lambda function: echo_word\n",
    "echo_word = (lambda word1, echo: word1 * echo)\n",
    "\n",
    "# Call echo_word: result\n",
    "result = echo_word('Polly', 5)\n",
    "\n",
    "# Print result\n",
    "print(result)"
   ]
  },
  {
   "cell_type": "markdown",
   "metadata": {},
   "source": [
    "` map()` applies a function over an object, such as a list"
   ]
  },
  {
   "cell_type": "code",
   "execution_count": 29,
   "metadata": {},
   "outputs": [
    {
     "name": "stdout",
     "output_type": "stream",
     "text": [
      "['Polly!!!', 'Muz!!!', 'Roger!!!', 'Yuna!!!', 'Pepita!!!', 'Sacher!!!', 'Riccio!!!']\n"
     ]
    }
   ],
   "source": [
    "# Create a list of strings: spells\n",
    "spells = [\"Polly\", \"Muz\", \"Roger\", \"Yuna\", \"Pepita\", \"Sacher\", \"Riccio\"]\n",
    "\n",
    "# Use map() to apply a lambda function over spells: shout_spells\n",
    "shout_spells = map(lambda item: item + '!!!', spells)\n",
    "\n",
    "# Convert shout_spells to a list: shout_spells_list\n",
    "shout_spells_list = list(shout_spells)\n",
    "\n",
    "# Print the result\n",
    "print(shout_spells_list)"
   ]
  },
  {
   "cell_type": "code",
   "execution_count": 35,
   "metadata": {},
   "outputs": [
    {
     "name": "stdout",
     "output_type": "stream",
     "text": [
      "['Polly', 'Muz', 'Roger', 'Yuna', 'Chips']\n"
     ]
    }
   ],
   "source": [
    "# Create a list of strings: spells\n",
    "spells = [\"Polly\", \"Muz\", \"Roger\", \"Yuna\", \"Chips\", \"Pepita\", \"Sacher\", \"Riccio\"]\n",
    "\n",
    "# Use filter() to apply a lambda function over fellowship: result\n",
    "result = filter(lambda member: len(member) < 6, spells)\n",
    "\n",
    "# Convert result to a list: result_list\n",
    "result_list = list(result)\n",
    "\n",
    "# Print result_list\n",
    "print(result_list)"
   ]
  },
  {
   "cell_type": "markdown",
   "metadata": {},
   "source": [
    "The `reduce()` function is useful for performing some computation on a list and, unlike `map()` and `filter()`, returns a single value as a result. To use `reduce()`, you must import it from the functools module."
   ]
  },
  {
   "cell_type": "code",
   "execution_count": 31,
   "metadata": {},
   "outputs": [
    {
     "name": "stdout",
     "output_type": "stream",
     "text": [
      "robbsansaaryabrandonrickon\n"
     ]
    }
   ],
   "source": [
    "# Import reduce from functools\n",
    "from functools import reduce\n",
    "\n",
    "# Create a list of strings: stark\n",
    "stark = ['robb', 'sansa', 'arya', 'brandon', 'rickon']\n",
    "\n",
    "# Use reduce() to apply a lambda function over stark: result\n",
    "result = reduce(lambda item1, item2: item1 + item2, stark)\n",
    "\n",
    "# Print the result\n",
    "print(result)"
   ]
  },
  {
   "cell_type": "markdown",
   "metadata": {},
   "source": [
    "Introduction to error handling"
   ]
  },
  {
   "cell_type": "code",
   "execution_count": 37,
   "metadata": {},
   "outputs": [
    {
     "data": {
      "text/plain": [
       "'particleparticleparticleparticleparticle!!!'"
      ]
     },
     "execution_count": 37,
     "metadata": {},
     "output_type": "execute_result"
    }
   ],
   "source": [
    "# Define shout_echo\n",
    "def shout_echo(word1, echo=1):\n",
    "    \"\"\"Concatenate echo copies of word1 and three\n",
    "    exclamation marks at the end of the string.\"\"\"\n",
    "\n",
    "    # Initialize empty strings: echo_word, shout_words\n",
    "    echo_word = ''\n",
    "    shout_words = ''\n",
    "\n",
    "    # Add exception handling with try-except\n",
    "    try:\n",
    "        # Concatenate echo copies of word1 using *: echo_word\n",
    "        echo_word = word1 * echo\n",
    "\n",
    "        # Concatenate '!!!' to echo_word: shout_words\n",
    "        shout_words = echo_word + '!!!'\n",
    "    \n",
    "    except:\n",
    "        # Print error message\n",
    "        print(\"word1 must be a string and echo must be an integer.\")\n",
    "\n",
    "    # Return shout_words\n",
    "    return shout_words\n",
    "\n",
    "# Call shout_echo\n",
    "shout_echo(\"particle\", echo=5)"
   ]
  },
  {
   "cell_type": "markdown",
   "metadata": {},
   "source": [
    "Another way to raise an error is by using `raise`"
   ]
  },
  {
   "cell_type": "code",
   "execution_count": 45,
   "metadata": {},
   "outputs": [
    {
     "data": {
      "text/plain": [
       "'particleparticleparticleparticleparticleparticleparticleparticleparticleparticleparticleparticle!!!'"
      ]
     },
     "execution_count": 45,
     "metadata": {},
     "output_type": "execute_result"
    }
   ],
   "source": [
    "# Define shout_echo\n",
    "def shout_echo(word1, echo=1):\n",
    "    \"\"\"Concatenate echo copies of word1 and three\n",
    "    exclamation marks at the end of the string.\"\"\"\n",
    "\n",
    "    # Raise an error with raise\n",
    "    if echo < 0:\n",
    "        raise ValueError('echo must be greater than or equal to 0')\n",
    "\n",
    "    # Concatenate echo copies of word1 using *: echo_word\n",
    "    echo_word = word1 * echo\n",
    "\n",
    "    # Concatenate '!!!' to echo_word: shout_word\n",
    "    shout_word = echo_word + '!!!'\n",
    "\n",
    "    # Return shout_word\n",
    "    return shout_word\n",
    "\n",
    "# Call shout_echo\n",
    "shout_echo(\"particle\", echo=12)"
   ]
  },
  {
   "cell_type": "code",
   "execution_count": 47,
   "metadata": {},
   "outputs": [
    {
     "name": "stdout",
     "output_type": "stream",
     "text": [
      "RT if ur nasty  https://t.co/fMtOHV5crN\n",
      "RT if you're already preparing a seat at the table for @HillaryClinton 🙌🏼\n",
      "RT IF YOU ARE YELLING AT THE TV RIGHT NOW. #debates\n",
      "RT if anyone else used to think it was \"dog chow\" instead of \"Dark Child\" before every early 2000's R&amp;B song on the radio @getglucky\n",
      "RT if your parents have one of these in their living room: https://t.co/Vfg7eYHrOR\n",
      "RT @OKMagazine: she was having a private function at her home.\n",
      "RT @OKMagazine for publishing the error. We also apologize for including paparazzi photos of Ms. Perry that'd been taken w/a long lens while\n",
      "RT @OKMagazine We acknowledge Ms. Perry is not pregnant &amp; not planning a wedding. We regret the mistake &amp; sincerely apologize to Ms. Perry.\n",
      "RT @OKMagazine:March 2, 2015 print edition of OK! Magazine, we wrongly stated that Katy Perry was pregnant &amp; that she was planning a wedding\n",
      "RT if your favorite jelly belly is juicy pear.\n",
      "RT if you only know the 1st verse &amp; 1st half of the 2nd verse of The Fresh Prince of Bel Air &amp; just mumble the rest n...like go get a soda 😳\n",
      "RT for effort. “@A_Little_Spark: @katyperry OMG I FOUND IT KATYY WHY YOU DON'T TWEET MEE http://t.co/dLRvnLE1pK”\n",
      "RT @rickyvanveen: Coffee Town is out! Hilarious cast from Parks &amp; Rec, Always Sunny &amp; more! Rent it tonight on iTunes http://t.co/CvfUGZeE4a\n",
      "RT @lenadunham: Twerkin hard or hardly twerkin?\n",
      "RT @betneywhitsy: I bet you $10 @JohnMayer and @rickyvanveen wrote that \"Take that, Bon Iver\" joke.\n",
      "RT @SarahKSilverman: A bull in pretty much any shop is gonna be a mess\n",
      "RT @MileyCyrus: @katyperry let's \n",
      "raaaage 🇺🇸❤🇺🇸❤🇺🇸❤\n",
      "RT to Send my boy Chris Paul @CP3  to the NBA All-Star Game #NBAVote #retweettovote\n",
      "RT if you wanna get #Lifted with @chaelinCL and @methodman. https://t.co/ZdLEwZQa5D #YouTubeMusic https://t.co/7PmS20uNn0\n",
      "RT if u luv eggs. https://t.co/OnvGVwGBGo https://t.co/8ROxRnd9qs\n",
      "RT  Latino/ Latina Monsters and friends in FLORIDA 🇺🇸✌️️ https://t.co/ZgfXV16GNU\n",
      "RT and spread this message Monsters! It's election KRUNCHTime and EVERY VOTE counts! #ElectionDay #Elections2016… https://t.co/S55JJkwj7Q\n",
      "RT Tony Bennett &amp; Lady Gaga sing Cheek To Cheek LIVE on @PBS TONIGHT at 9pm EST. Spread the word, you will not want to miss it! #TonyGagaPBS\n",
      "RT for Prince. #SupportTheArtist\n",
      "RT @gwenstefani Thank u cuteness 😘💗🎂Gx https://t.co/pXSbx29VQL\n",
      "RT @Rachlars #EllenQandA can you write \"be kind to one another\" so I can get it tattooed?!🙏🏻 https://t.co/Mqp9ep6S77\n",
      "RT @twitterapi: Introducing custom timelines, a new type of timeline that you control. https://t.co/FSd1g2RMBm\n",
      "RT @TwitterEng: Bolstering our infrastructure. \"As  usage patterns change, Twitter can remain resilient.\" http://t.co/uML86B6s\n",
      "RT @gov Networks' call of @BarackObama reelection spiked #Election2012-related Tweets to 327,453 per minute at 11:19p EST.\n",
      "RT @Colin_Crowell Here's @FCC Chairman Julius Genachowski with @DickC here at #Twitter HQ. #AskJulius cc @gov http://t.co/IsnQ0h7C\n",
      "RT @FCC: Honored to be doing live @Twitter chat Tues 9/11, 1:30pm ET/10:30am PT from @Twitter HQ. #AskJulius to send questions. Thx. Julius\n",
      "RT @TwitterStories: Daniel Jones, Peter Gregson &amp; Britten Sinfonia created music from Tweets. http://t.co/5bejkkXs #twitterstories\n",
      "RT @TwitterEng - We're hosting a Security Open House on March 29: http://t.co/xTcyTg0s\n",
      "RT if #CantStopTheFeeling is your fav #ChoiceMovieTVSong! @jtimberlake @TeenChoiceFOX #TeenChoice - teamJT\n",
      "RT if #CantStopTheFeeling is your #ChoiceSummerSong! @jtimberlake -teamJT https://t.co/98Dbd0WRf0\n",
      "RT to vote #CantStopTheFeeling for #TeenChoice’s #ChoiceMovieTVSong @TeenChoiceFOX - teamJT\n",
      "RT to vote #CantStopTheFeeling for #TeenChoice's #ChoicePartySong! - teamJT https://t.co/gCCy064HbX\n",
      "RT #VoteTimberlake #KCA to vote JT for Favorite Male Singer!! -teamJT\n",
      "RT to vote for @jtimberlake for #AMAs Artist of the Year! Voting ends Friday... -teamJT\n",
      "RT to vote for @jtimberlake / The 20/20 Experience for #AMAs Favorite Album Pop/Rock! -teamJT\n",
      "RT to vote @jtimberlake for #AMAs Favorite Male Artist Pop/Rock! #PresidentofPop. VOTE JT: http://t.co/LwKop4VeTi -teamJT\n",
      "RT to vote @jtimberlake for #AMAs Artist of the Year automatically! Super easy. Spread the word!!! -teamJT\n",
      "RT to vote @jtimberlake #AMAs Artist of the Year! Vote for his 4 other categories here: http://t.co/919HGcAbGF -teamJT\n",
      "RT @MasterCard: Tonight is the night! @Jtimberlake's #PricelessPremieres show in NYC! Follow @Priceless for real-time updates! -teamJT\n",
      "RT @Mastercard: Click http://t.co/Z2NsFqf3wz to win tix to @JTimberlake LIVE in NYC on 5/5! Exclusively for MasterCard cardholders. -teamJT\n",
      "RT @priceless: RT this &amp; follow @Priceless to win @JTimberlake #PricelessPremieres tix! NYC only. Rules: http://t.co/W0uarNkidb -teamJT\n",
      "RT @anndyLynn where did sexy go??\n",
      "RT @npott1976 R u reading a book presently, if so, what book? #AskJT\n",
      "RT @Riyah_1D What's a lesson you've learned as a kid that has helped you as an adult? #AskJT\n",
      "RT @brokemogul can we go to SugarFish? @jtimberlake #AskJT\n",
      "RT @Beyawnslay @jtimberlake do you often wish you were beyonce? #AskJT\n",
      "RT @LCSchafer What do you miss most about Memphis? The Rendezvous?\n",
      "RT @brandylovesleon #TroubleWithTheCurve #askjt how did u like GA? Lived here my whole life, think I'll stay.\n",
      "RT @Nicollletttte best advice you could give a teenager #AskJT\n",
      "RT @heycasshey #AskJT Would you rather have an elephant sized puppy or a puppy sized elephant?\n",
      "RT @janellada have you ever snuck drinks into a movie theatre? would you like to join us for secret birthday margs at TWtC on Friday? #AskJT\n",
      "RT @optimKRISTIc  what is the worst joke you remember hearing? #askJT\n",
      "RT @eve_b43 #AskJT A part you would have loved to play?\n",
      "RT @Erika_Enlund any irrational fears? #AskJT\n",
      "RT @MelindaLaGrange Did you ever play baseball growing up? If so, which position did you play? #AskJT\n",
      "RT @MariXcake What was it like working with Amy Adams? #askJT from Brazil *-*\n",
      "RT @MelissaMariePR What was your favorite thing to do in between takes on #Troublewiththecurve ? #askjt @jtimberlake\n",
      "RT @Poker_Squirrel Wife wants to know your favorite Italian dish? #GreatCook #MangiaMangia @jtimberlake\n",
      "RT @jctanawan13 what's your motto or advice you live by? #AskJT\n",
      "RT @JenniferAdamany  What was it about the script for \"Trouble with the Curve\" that made you want to be a part of the movie? #AskJT\n",
      "RT @KaleighSinger #AskJT how long did it take you to memorize the rap medley with Jimmy Fallon? That was a phenomenal display of max talent.\n",
      "RT @wbpictures 4 chance to win LA #TroubleWithTheCurve premiere tix/meet-and-greet! -teamJT http://t.co/Bt6gvxJJ  Rules http://t.co/s1hH4gXL\n",
      "RT @emilyvontom @jtimberlake who are you picking to win the World Series tonight? Rangers or Cards? :) xo #inTime\n",
      "RT @megncrocker @jtimberlake what was your fave location to film? Anything quirky or weird happen on set? #InTime\n",
      "RT @cindylaregia So! Like... If you had a clock in your wrist like the one in the movie, like... how would you accessorize it? #InTime\n",
      "RT @barbaricess @jtimberlake do you have plans to become a director in future?! #InTime\n",
      "RT @AmberHarv_x @jtimberlake How long did it take you to film #Intime\n",
      "RT @AlyssaEdoo @jtimberlake How did you prepare (physically and mentally) for your most intense role yet? #InTime\n",
      "RT @AshActually @jtimberlake how depressed are you that there's no NBA through at least November? #InTime\n",
      "RT @OriginOfGeorgia @jtimberlake What is it that interested you about #intime\n",
      "RT @sexxystarr1009 @JTimberlake what kind of movie would you want to do next? #InTime\n",
      "RT @mjwoods16 @jtimberlake what's you're lowest round of golf #InTime\n",
      "RT @@dieKARIN Do you already have a costume for Halloween? What is it? @jtimberlake @InTimeMovie #InTime\n",
      "RT @ericamendez @jtimberlake if you could go back #InTime relive one moment in your life what would it be? And would you change it?\n",
      "RT @Quilakiss how are you answering the questions? in PJs? on a plane? At your restaurant? I would like some specifics please & ty! #InTime\n",
      "RT @AdrianJCh @jtimberlake, for you, What represent the phrase: \"Every second counts\" in your real life? #InTime Greetings from Madrid :)\n",
      "RT @SoFabulousx7 @jtimberlake which actors inspire you? #InTime I love you(:\n",
      "RT @ms_alyona @jtimberlake Just watched this movie! Amazing! If you had one day left how would you spent it? #InTime\n",
      "RT @alygrl6983 @jtimberlake What is your favorite holiday dessert?...mine is pumpkin pie!:) #InTime\n",
      "RT @jaycie_alanna @jtimberlake How does promoting a movie compare to promoting an album? #InTime\n",
      "RT @rockerpoet77 @jtimberlake What was your favorite part of doing this film? #InTime\n",
      "RT @jimmykimmel: Tonight on #JKL @JTimberlake #InTime, Rebecca Romijn & music from @TheFray\n",
      "RT @RyanSeacrest: Song is \"fascinated\" by @FreeSol ft. @jtimberlake & @Timbaland - love this track, what u think?? http://t.co/02q9OV2n\n",
      "RT @jmorison468 @FWB I loved the movie! Not only did u make me laugh! But u showed how a family deals with Alzheimers..really could relate!\n",
      "RT @FNOnyc @traceayala & @JTimberlake to celebrate #FNO at Nordstrom Santa Monica Place & @WilliamRast in Century City! http://bit.ly/b7VZhO\n",
      "RT to vote for @KUWTK! My #TeenChoice for #ChoiceRealityTVShow is Keeping Up with the Kardashians #KUWTK https://t.co/htGZqWhxJl\n",
      "RT @SamsungMobile In surfing #Everydayisdayone. We're proud to be the first global partner of the @ASP http://t.co/PBeW81JrT0 @TiagoPires80\n",
      "RT this if you’re ready to watch @realmadrid and me in the @intchampionscup next week!\n",
      "RT @castrolfootball: No Real Madrid player has completed more dribbles than #Ronaldo over the las year (109)\n",
      "RT @realmadrid @Cristiano Ronaldo: “Hay que ser positivos y seguir peleando” http://bit.ly/gQBGlP  - http://say.ly/glL7Es\n",
      "RT @AshBenzo: Why do people always wanna be someone that they're not\n",
      "RT @AlfredoFlores: ♪ ...The wise men followed the stars... the way I followed my heart! It let me to a miracle hey LOVE! ♫ MISTLETOE MONDAY\n",
      "RT @haleydtindall: Stay positive and continue to be yourself! \"Do not be misled: Bad company corrupts good character\"- 1 Corinthians 15:33.\n",
      "RT @ryanseacrest Here it is! The world premiere of @SelenaGomez's new single \"Who Says\" http://on.fb.me/WhoSays. #WhoSaysPremiere\n",
      "RT A day without you is like #ayearwithoutrain. http://bit.ly/9pTlxj\n",
      "RT My new album #ayearwithoutrain is out today!  http://smarturl.it/aywralbum\n",
      "RT @iTunesMusic The new single \"A Year Without Rain\" by @selenagomez & The Scene is available exclusively on iTunes http://tw.itunes.com/7aK\n",
      "RT @RyanSeacrest: I'm seeking some BIG @selenagomez fans...I'm giving away a trip to see her private show in NYC! http://bit.ly/SelenaNYC\n",
      "RT \"@oibpaige: Drawn by my 5th grader Parker...a huge fan! http://t.co/jbkdVay1iq” Talented child. cc: @80miles #EW\n",
      "RT @nerdist: NEW All Star Bowling! Team Fallon @questlove @80miles @higbones VS me ... http://t.co/KtuHh7O2gF\n",
      "RT“@TheWriteNotes: Check out @ChrisCornell &amp; @TheAvettBros cover of @PearlJam’s “Footsteps” http://t.co/y24WBn2JtK”\n",
      "RT “@GQMagazine: Our friend J Fallon wins for the best @BreakingBad_AMC parody ever: http://t.co/RQmlUBY2Ir”\n",
      "RT @questlove: most EPIC lipsync ever: \"boom shake the room\"will NEVER be the same http://t.co/nrxnL2K40X @StephenMerchant @hitRECordJoe\n",
      "RT @HispanicEd's Commissioner @Shakira on Early Learning: http://t.co/1fmD9AJs65  #investinus\n",
      "RT “@showdavida: Daqui a pouco tem #ShakiranoFantastico” http://t.co/NWls63IjA8\n",
      "RT @WFP Watch this video https://t.co/i1G2nXgW2L … &amp; have your donation to #SchoolMeals MATCHED by Howard Buffett! http://t.co/KuTeoJqoWk\n",
      "RT “@krivera155: @shakira #dareart #daretodream #shakira #lalala #brasil2014 http://t.co/Ef7yAkTJmJ”\n",
      "RT for real talent #VoiceSave Kristen!\n",
      "RT @KristenMerlin  RT To save me #VoiceSave Kristen\n",
      "RT @NBCTheVoice Drive @kristenmerlin into the next round by voting for her AFTER tonight’s show. #VoiceTop8 http://t.co/KNPNc4n2iM\n",
      "RT @Shakirafansclub  #ShakiFans all around the world send tweets #VoiceSave Tess\n",
      "RT @ShakiraMedia  RETWEET to #VoiceSave Tess!\n",
      "RT @NBCTheVoice  .@Shakira is here! #VoiceTailgate https://t.co/bLyeO87Oec\n",
      "RT “@blakeshelton: If you loved Blake’s duet with @shakira, you can buy it on @iTunesMusic here: http://t.co/Qcl4HsWXyZ - Team BS #ACMs”\n",
      "RT @1027KIISFM .@shakira – The story behind her performance with @blakeshelton this Sunday at the ACM Awards! http://t.co/kecqX4Rczj\n",
      "RT @iHeartRadio \"I started writing my own songs when I was 8 yrs old\" and now @shakira is killing it on stage! http://t.co/vrljY4ygWT\n",
      "RT @NBCTheVoice  Button Pressing 101: The @Shakira Method https://t.co/dqb3x3CpAY\n",
      "RT @NBCTheVoice Not sure if @AdamLevine or @Shakira... https://t.co/YnNRGV14N1\n",
      "RT #CantRememberToForgetYou director @JosephKahn \"It's not my fault Shakira &amp; Rihanna are that hot. Deal with it\" http://t.co/vBOCpRofYj SHQ\n",
      "RT \"@starcount: .@shakira is the most popular music star in the world today! http://t.co/1gzBSAD6nz http://t.co/9j2Dc8QGfj” ShakiraHQ\n",
      "RT @lilylalocaa @ELLEmagazine @shakira Putting my favorite jersey to good use one more time! #ShakiraELLE http://t.co/kGmyA3Td2U\n",
      "RT @fpiesdescalzos  Los ganadores del #BuyABrick recibirán estos CDs firmados por Shak. http://t.co/LxXcgnaSEJ  http://t.co/rEhBp3WApF\n",
      "RT @NBCTheVoice Get loud #TeamShakira, and retweet if you're voting for @SashaAllenMusic! #VoiceTop6 #VOTESASHA\n",
      "RT @fpiesdescalzos Iniciamos campaña con @ELTIEMPO para la construcción de nuestro nuevo colegio en Cartagena! http://t.co/aqYGGCluJz\n",
      "RT @fpiesdescalzos Hermosa historia! Cristian Rojas, Joven en Altos de Cazucá es ejemplo de superación en su barrio \n",
      "http://t.co/MtqpZfM4ld\n",
      "RT “@NBCTheVoice: .@Shakira &amp; @blakeshelton at rehearsals earlier! #Blakira #VoicePlayoffs http://t.co/TcDWJ4jrl4”\n",
      "RT “@NBCTheVoice: Hagan RT si están viendo los #VoicePlayoffs”\n",
      "RT ‏@NBCTheVoice Here we go! RETWEET if you're #WatchingBattles!\n",
      "RT @BarackObama \"Tonight, I propose working with states to make high-quality preschool available to every child in America.\"\n",
      "RT @MorenoBID\n",
      "Con @Shakira vamos a premiar iniciativas que están cambiando el futuro de la niñez ¿Cuál nos propones? http://t.co/GeiDpVM3\n",
      "RT  @shakitati\n",
      "http://t.co/zeDW0FNt #AddictedToYou\n"
     ]
    }
   ],
   "source": [
    "# Select retweets from the Twitter DataFrame: result\n",
    "result = filter(lambda x: x[0:2] == 'RT', tweets_df['content'])\n",
    "\n",
    "# Create list from filter object result: res_list\n",
    "res_list = list(result)\n",
    "\n",
    "# Print all retweets in res_list\n",
    "for tweet in res_list:\n",
    "    print(tweet)"
   ]
  },
  {
   "cell_type": "code",
   "execution_count": 48,
   "metadata": {},
   "outputs": [
    {
     "name": "stdout",
     "output_type": "stream",
     "text": [
      "The DataFrame does not have a lang column.\n",
      "None\n"
     ]
    }
   ],
   "source": [
    "# Define count_entries()\n",
    "def count_entries(df, col_name='lang'):\n",
    "    \"\"\"Return a dictionary with counts of\n",
    "    occurrences as value for each key.\"\"\"\n",
    "\n",
    "    # Initialize an empty dictionary: cols_count\n",
    "    cols_count = {}\n",
    "\n",
    "    # Add try block\n",
    "    try:\n",
    "        # Extract column from DataFrame: col\n",
    "        col = df[col_name]\n",
    "        \n",
    "        # Iterate over the column in DataFrame\n",
    "        for entry in col:\n",
    "    \n",
    "            # If entry is in cols_count, add 1\n",
    "            if entry in cols_count.keys():\n",
    "                cols_count[entry] += 1\n",
    "            # Else add the entry to cols_count, set the value to 1\n",
    "            else:\n",
    "                cols_count[entry] = 1\n",
    "    \n",
    "        # Return the cols_count dictionary\n",
    "        return cols_count\n",
    "\n",
    "    # Add except block\n",
    "    except:\n",
    "        print('The DataFrame does not have a ' + col_name + ' column.')\n",
    "\n",
    "# Call count_entries(): result1\n",
    "result1 = count_entries(tweets_df, 'lang')\n",
    "\n",
    "# Print result1\n",
    "print(result1)"
   ]
  },
  {
   "cell_type": "code",
   "execution_count": 54,
   "metadata": {},
   "outputs": [
    {
     "name": "stdout",
     "output_type": "stream",
     "text": [
      "{'en': 46934, 'tl': 113, 'cy': 20, 'und': 3242, 'in': 108, 'es': 1372, 'ht': 47, 'pt': 180, 'ro': 13, 'lt': 20, 'nl': 51, 'et': 61, 'fr': 118, 'de': 42, 'ja': 25, 'da': 24, 'sv': 16, 'hi': 7, 'it': 50, 'eu': 4, 'hu': 12, 'fi': 7, 'is': 3, 'no': 17, 'tr': 15, 'sl': 3, 'pl': 22, 'cs': 8, 'ko': 3, 'ru': 1, 'ar': 1, 'lv': 3}\n"
     ]
    }
   ],
   "source": [
    "# Define count_entries()\n",
    "def count_entries(df, col_name='language'):\n",
    "    \"\"\"Return a dictionary with counts of\n",
    "    occurrences as value for each key.\"\"\"\n",
    "    \n",
    "    # Raise a ValueError if col_name is NOT in DataFrame\n",
    "    if col_name not in df.columns:\n",
    "        raise ValueError('The DataFrame does not have a ' + col_name + ' column.')\n",
    "\n",
    "    # Initialize an empty dictionary: cols_count\n",
    "    cols_count = {}\n",
    "    \n",
    "    # Extract column from DataFrame: col\n",
    "    col = df[col_name]\n",
    "    \n",
    "    # Iterate over the column in DataFrame\n",
    "    for entry in col:\n",
    "\n",
    "        # If entry is in cols_count, add 1\n",
    "        if entry in cols_count.keys():\n",
    "            cols_count[entry] += 1\n",
    "            # Else add the entry to cols_count, set the value to 1\n",
    "        else:\n",
    "            cols_count[entry] = 1\n",
    "        \n",
    "        # Return the cols_count dictionary\n",
    "    return cols_count\n",
    "\n",
    "# Call count_entries(): result1\n",
    "result1 = count_entries(tweets_df)\n",
    "\n",
    "# Print result1\n",
    "print(result1)"
   ]
  }
 ],
 "metadata": {
  "kernelspec": {
   "display_name": "Python 3",
   "language": "python",
   "name": "python3"
  },
  "language_info": {
   "codemirror_mode": {
    "name": "ipython",
    "version": 3
   },
   "file_extension": ".py",
   "mimetype": "text/x-python",
   "name": "python",
   "nbconvert_exporter": "python",
   "pygments_lexer": "ipython3",
   "version": "3.9.13"
  }
 },
 "nbformat": 4,
 "nbformat_minor": 2
}
