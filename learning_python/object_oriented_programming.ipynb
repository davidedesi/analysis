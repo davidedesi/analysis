{
 "cells": [
  {
   "cell_type": "markdown",
   "metadata": {},
   "source": [
    "## Week 2: Algorithms & Intermediate Python\n",
    "\n",
    "### Day 1-2: Object-Oriented Programming (OOP): Understand classes, objects, methods, and attributes. Create a simple class (e.g., a Customer or Product class).\n",
    "\n",
    "Datacamp: https://campus.datacamp.com/courses/introduction-to-object-oriented-programming-in-python/oop-fundamentals-1?ex=1\n",
    "\n",
    "---\n"
   ]
  },
  {
   "cell_type": "code",
   "execution_count": 1,
   "metadata": {},
   "outputs": [
    {
     "name": "stdout",
     "output_type": "stream",
     "text": [
      "['__abs__', '__add__', '__bool__', '__ceil__', '__class__', '__delattr__', '__dir__', '__divmod__', '__doc__', '__eq__', '__float__', '__floor__', '__floordiv__', '__format__', '__ge__', '__getattribute__', '__getformat__', '__getnewargs__', '__gt__', '__hash__', '__init__', '__init_subclass__', '__int__', '__le__', '__lt__', '__mod__', '__mul__', '__ne__', '__neg__', '__new__', '__pos__', '__pow__', '__radd__', '__rdivmod__', '__reduce__', '__reduce_ex__', '__repr__', '__rfloordiv__', '__rmod__', '__rmul__', '__round__', '__rpow__', '__rsub__', '__rtruediv__', '__setattr__', '__setformat__', '__sizeof__', '__str__', '__sub__', '__subclasshook__', '__truediv__', '__trunc__', 'as_integer_ratio', 'conjugate', 'fromhex', 'hex', 'imag', 'is_integer', 'real']\n"
     ]
    }
   ],
   "source": [
    "# List all attributes and methods for the float class\n",
    "print(dir(float))"
   ]
  },
  {
   "cell_type": "markdown",
   "metadata": {},
   "source": [
    "In this exercise, you'll start building the `Employee` class, beginning by defining it as an empty class, and then adding a method allowing you to set an object's `.name` attribute."
   ]
  },
  {
   "cell_type": "code",
   "execution_count": 2,
   "metadata": {},
   "outputs": [
    {
     "name": "stdout",
     "output_type": "stream",
     "text": [
      "Korel Rossi\n"
     ]
    }
   ],
   "source": [
    "class Employee:\n",
    "  \n",
    "  # Include a set_name method\n",
    "  def set_name(self, new_name):\n",
    "    self.name = new_name\n",
    "\n",
    "emp = Employee()\n",
    "\n",
    "# Use set_name() on emp to set the name of emp to 'Korel Rossi'\n",
    "emp.set_name('Korel Rossi')\n",
    "print(emp.name)"
   ]
  },
  {
   "cell_type": "code",
   "execution_count": 5,
   "metadata": {},
   "outputs": [
    {
     "name": "stdout",
     "output_type": "stream",
     "text": [
      "50000\n"
     ]
    }
   ],
   "source": [
    "class Employee:\n",
    "  def set_name(self, new_name):\n",
    "    self.name = new_name\n",
    "  \n",
    "  # Add set_salary() method  \n",
    "  def set_salary(self, new_salary):\n",
    "    self.salary = new_salary \n",
    "\n",
    "emp = Employee()\n",
    "\n",
    "# Use set_name to set the name of emp to 'Korel Rossi'\n",
    "emp.set_name('Korel Rossi')\n",
    "\n",
    "# Set the salary of emp to 50000\n",
    "emp.set_salary(50000)\n",
    "\n",
    "# Print the emp object's salary\n",
    "print(emp.salary)"
   ]
  },
  {
   "cell_type": "code",
   "execution_count": 7,
   "metadata": {},
   "outputs": [
    {
     "name": "stdout",
     "output_type": "stream",
     "text": [
      "50000\n",
      "51500\n"
     ]
    }
   ],
   "source": [
    "## In this exercise, you'll add a `give_raise()` method to the `Employee` class that allows you to increase the salary of an employee by a specified amount.\n",
    "\n",
    "class Employee:\n",
    "  def set_name(self, new_name):\n",
    "    self.name = new_name\n",
    "\n",
    "  def set_salary(self, new_salary):\n",
    "    self.salary = new_salary \n",
    "\n",
    "  # Add a give_raise() method with amount as an argument\n",
    "  def give_raise(self, amount):\n",
    "    self.salary = self.salary + amount\n",
    "\n",
    "# Create the emp object\n",
    "emp = Employee()\n",
    "emp.set_name('Korel Rossi')\n",
    "emp.set_salary(50000)\n",
    "\n",
    "# Print the salary\n",
    "print(emp.salary)\n",
    "\n",
    "# Give emp a raise of 1500\n",
    "emp.give_raise(1500)\n",
    "print(emp.salary)"
   ]
  },
  {
   "cell_type": "markdown",
   "metadata": {},
   "source": [
    "In this exercise, you'll continue working on the `Employee` class. Instead of using the methods like `set_salary()` that you wrote in the previous lesson, you will introduce a constructor that assigns name and salary to the employee at the moment when the object is created.\n",
    "\n",
    "Initializing attributes in the constructor is a good idea because this ensures that the object has all the necessary attributes the moment it is created."
   ]
  },
  {
   "cell_type": "code",
   "execution_count": 8,
   "metadata": {},
   "outputs": [
    {
     "name": "stdout",
     "output_type": "stream",
     "text": [
      "Korel Rossi\n",
      "0\n"
     ]
    }
   ],
   "source": [
    "class Employee:\n",
    "  # Create __init__() method\n",
    "  def __init__(self, name, salary = 0):\n",
    "    # Create the name and salary attributes\n",
    "    self.name = name\n",
    "    self.salary = salary\n",
    "    \n",
    "  def give_raise(self, amount):\n",
    "    self.salary += amount\n",
    "\n",
    "  def monthly_salary(self):\n",
    "    return self.salary / 12\n",
    "        \n",
    "emp = Employee(\"Korel Rossi\")\n",
    "print(emp.name)\n",
    "print(emp.salary)     "
   ]
  },
  {
   "cell_type": "code",
   "execution_count": 10,
   "metadata": {},
   "outputs": [
    {
     "name": "stdout",
     "output_type": "stream",
     "text": [
      "Invalid salary!\n",
      "Korel Rossi\n",
      "0\n"
     ]
    }
   ],
   "source": [
    "class Employee:\n",
    "  def __init__(self, name, salary=0):\n",
    "    self.name = name\n",
    "    # Check if salary is positive\n",
    "    if salary > 0:\n",
    "      self.salary = salary\n",
    "    else:\n",
    "      self.salary = 0\n",
    "      print(\"Invalid salary!\")\n",
    "\n",
    "  def give_raise(self, amount):\n",
    "    self.salary += amount\n",
    "\n",
    "  def monthly_salary(self):\n",
    "    return self.salary / 12\n",
    "      \n",
    "emp = Employee(\"Korel Rossi\", -1000)\n",
    "print(emp.name)\n",
    "print(emp.salary)"
   ]
  },
  {
   "cell_type": "code",
   "execution_count": 15,
   "metadata": {},
   "outputs": [
    {
     "name": "stdout",
     "output_type": "stream",
     "text": [
      "15\n",
      "5\n",
      "50\n"
     ]
    }
   ],
   "source": [
    "# Define and initialize the Calculator class\n",
    "class Calculator:\n",
    "  def __init__(self, num_one, num_two):\n",
    "    self.num_one = num_one\n",
    "    self.num_two = num_two\n",
    "  \n",
    "  # Create the addition method\n",
    "  def addition(self):\n",
    "    return self.num_one + self.num_two\n",
    "  \n",
    "  # Create the subtraction method\n",
    "  def subtraction(self):\n",
    "    return self.num_one - self.num_two\n",
    "  \n",
    "  # Create the multiplication method\n",
    "  def multiplication(self):\n",
    "    return self.num_one * self.num_two\n",
    "  \n",
    "cal = Calculator(10, 5)\n",
    "print(cal.addition())  # Output: 15\n",
    "print(cal.subtraction())  # Output: 5\n",
    "print(cal.multiplication())  # Output: 50"
   ]
  },
  {
   "cell_type": "markdown",
   "metadata": {},
   "source": [
    "Class attributes store data that is shared among all the class instances. They are assigned values in the class body and are referred to using the `ClassName`. syntax rather than `self`. syntax when used in methods.\n",
    "\n",
    "In this exercise, you will be a game developer working on a game that will have several players moving on a grid and interacting with each other. As the first step, you want to define a `Player` class that will just move along a straight line. `Player` will have a `position` attribute and move along a grid with a limited number of positions, so the `position` of `Player` will have a maximal value."
   ]
  },
  {
   "cell_type": "code",
   "execution_count": 33,
   "metadata": {},
   "outputs": [
    {
     "name": "stdout",
     "output_type": "stream",
     "text": [
      "10\n"
     ]
    }
   ],
   "source": [
    "# Create a Player class with a class-level attribute MAX_POSITION\n",
    "#  Define a constructor that checks if the position is less than or equal to MAX_POSITION\n",
    "\n",
    "class Player:\n",
    "  MAX_POSITION = 10\n",
    "  \n",
    "  # Define a constructor\n",
    "  def __init__(self, position):\n",
    "    \n",
    "    # Check if position is less than the class-level attribute value\n",
    "    if position <= Player.MAX_POSITION:\n",
    "      self.position = position\n",
    "    \n",
    "    # If not, set equal to the class-level attribute\n",
    "    else:\n",
    "      self.position = Player.MAX_POSITION\n",
    "\n",
    "# Create a Player object, p, and print its MAX_POSITITON\n",
    "p = Player(6)\n",
    "print(p.MAX_POSITION)"
   ]
  },
  {
   "cell_type": "code",
   "execution_count": 20,
   "metadata": {},
   "outputs": [
    {
     "name": "stdout",
     "output_type": "stream",
     "text": [
      "MAX_POSITION of p1 and p2 before assignment:\n",
      "10\n",
      "10\n",
      "MAX_POSITION of p1 and p2 after assignment:\n",
      "7\n",
      "10\n"
     ]
    }
   ],
   "source": [
    "# assign a different value to MAX_POSITION for p1\n",
    "\n",
    "# Create Players p1 and p2\n",
    "p1 = Player(9)\n",
    "p2 = Player(5)\n",
    "\n",
    "print(\"MAX_POSITION of p1 and p2 before assignment:\")\n",
    "# Print p1.MAX_POSITION and p2.MAX_POSITION\n",
    "print(p1.MAX_POSITION)\n",
    "print(p2.MAX_POSITION)\n",
    "\n",
    "# Assign 7 to p1.MAX_POSITION\n",
    "p1.MAX_POSITION = 7\n",
    "\n",
    "print(\"MAX_POSITION of p1 and p2 after assignment:\")\n",
    "# Print p1.MAX_POSITION and p2.MAX_POSITION\n",
    "print(p1.MAX_POSITION)\n",
    "print(p2.MAX_POSITION)"
   ]
  },
  {
   "cell_type": "markdown",
   "metadata": {},
   "source": [
    "Class methods are a great way of allowing an alternative way to create an object from a class, such as by a file or by accepting different information and performing a task during the construction to return the required attributes.\n",
    "\n",
    "In this exercise, you'll work with the `Person` class. The constructor expects a name and age during initialization. "
   ]
  },
  {
   "cell_type": "code",
   "execution_count": 23,
   "metadata": {},
   "outputs": [],
   "source": [
    "class Person:\n",
    "  CURRENT_YEAR = 2024\n",
    "  def __init__(self, name, age):\n",
    "    self.name = name\n",
    "    self.age = age\n",
    "  \n",
    "  # Add a class method decorator\n",
    "  @classmethod\n",
    "  # Define the from_birth_year method\n",
    "  def from_birth_year(cls, name, birth_year):\n",
    "    # Create age\n",
    "    age = Person.CURRENT_YEAR - birth_year\n",
    "    # Return the name and age\n",
    "    return cls(name, age)\n",
    "\n",
    "bob = Person.from_birth_year(\"Bob\", 1990)"
   ]
  },
  {
   "cell_type": "markdown",
   "metadata": {},
   "source": [
    "The attributes of the class will be `year`, `month`, and `day`. You want to have a constructor that creates `BetterDate` objects given the values for year, month, and day, but you also want to be able to create `BetterDate` objects from strings, such as `2021-04-30`"
   ]
  },
  {
   "cell_type": "code",
   "execution_count": 24,
   "metadata": {},
   "outputs": [
    {
     "name": "stdout",
     "output_type": "stream",
     "text": [
      "2024\n",
      "12\n",
      "25\n"
     ]
    }
   ],
   "source": [
    "class BetterDate:\n",
    "  def __init__(self, year, month, day):\n",
    "    self.year, self.month, self.day = year, month, day\n",
    "    \n",
    "  # Define a class method from_str\n",
    "  @classmethod\n",
    "  def from_str(cls,datestr):\n",
    "    # Split the string at \"-\"\n",
    "    parts = datestr.split(\"-\")\n",
    "    year, month, day = int(parts[0]), int(parts[1]), int(parts[2])\n",
    "    # Return the class instance\n",
    "    return cls(year, month, day)\n",
    "\n",
    "# Create the xmas object      \n",
    "xmas = BetterDate.from_str(\"2024-12-25\")   \n",
    "print(xmas.year)\n",
    "print(xmas.month)\n",
    "print(xmas.day)"
   ]
  },
  {
   "cell_type": "markdown",
   "metadata": {},
   "source": [
    "#### Create a subclass\n",
    "\n",
    "The purpose of child classes, or sub-classes, is to customize and extend the functionality of the parent class."
   ]
  },
  {
   "cell_type": "code",
   "execution_count": 25,
   "metadata": {},
   "outputs": [
    {
     "name": "stdout",
     "output_type": "stream",
     "text": [
      "Debbie Lashko\n"
     ]
    }
   ],
   "source": [
    "class Employee:\n",
    "    MIN_SALARY = 30000    \n",
    "\n",
    "    def __init__(self, name, salary=MIN_SALARY):\n",
    "        self.name = name\n",
    "        if salary >= Employee.MIN_SALARY:\n",
    "            self.salary = salary\n",
    "        else:\n",
    "            self.salary = Employee.MIN_SALARY\n",
    "        \n",
    "    def give_raise(self, amount):\n",
    "        self.salary += amount      \n",
    "        \n",
    "# Define a new class Manager inheriting from Employee\n",
    "class Manager(Employee):\n",
    "    # Add a keyword to leave this class empty\n",
    "    pass\n",
    "\n",
    "# Define a Manager object\n",
    "mng = Manager(\"Debbie Lashko\", 86500)\n",
    "\n",
    "# Print mng's name\n",
    "print(mng.name)"
   ]
  },
  {
   "cell_type": "markdown",
   "metadata": {},
   "source": [
    "#### Customize a subclass\n",
    "\n",
    "Inheritance is powerful because it allows us to reuse and customize code without rewriting existing code. By calling methods of the parent class within the child class, we reuse all the code in those methods, making our code concise and manageable."
   ]
  },
  {
   "cell_type": "code",
   "execution_count": 27,
   "metadata": {},
   "outputs": [],
   "source": [
    "class Employee:\n",
    "  def __init__(self, name, salary=30000):\n",
    "    self.name = name\n",
    "    self.salary = salary\n",
    "\n",
    "  def give_raise(self, amount):\n",
    "    self.salary += amount\n",
    "\n",
    "class Manager(Employee):\n",
    "  # Add a constructor \n",
    "  def __init__(self, name, salary=50000, project=None):\n",
    "    \n",
    "    # Call the parent's constructor   \n",
    "    Employee.__init__(self, name, salary)\n",
    "    \n",
    "    # Assign project attribute\n",
    "    self.project = project\n",
    "\n",
    "  def display(self):\n",
    "    print(\"Manager \", self.name)"
   ]
  },
  {
   "cell_type": "markdown",
   "metadata": {},
   "source": [
    "#### Method inheritance\n",
    "\n",
    "In this exercise, you'll extend the `Manager` class (which is inherited from the `Employee` class), created in the previous exercise, by creating a method called `give_raise()`. It will be similar to the method of the same name in the `Employee` class, but include an additional argument called `bonus`"
   ]
  },
  {
   "cell_type": "code",
   "execution_count": 31,
   "metadata": {},
   "outputs": [
    {
     "name": "stdout",
     "output_type": "stream",
     "text": [
      "80560.0\n"
     ]
    }
   ],
   "source": [
    "class Employee:\n",
    "  def __init__(self, name, salary=30000):\n",
    "    self.name = name\n",
    "    self.salary = salary\n",
    "\n",
    "  def give_raise(self, amount):\n",
    "    self.salary += amount\n",
    "\n",
    "class Manager(Employee):\n",
    "  def display(self):\n",
    "    print(\"Manager \", self.name)\n",
    "\n",
    "  def __init__(self, name, salary=50000, project=None):\n",
    "    Employee.__init__(self, name, salary)\n",
    "    self.project = project\n",
    "\n",
    "  # Add a give_raise method\n",
    "  def give_raise(self, amount, bonus = 1.05):\n",
    "    new_amount = amount * bonus\n",
    "    Employee.give_raise(self, new_amount)\n",
    "    \n",
    "mngr = Manager(\"Ashta Dunbar\", 78500)\n",
    "mngr.give_raise(2000, bonus=1.03)\n",
    "print(mngr.salary)"
   ]
  },
  {
   "cell_type": "markdown",
   "metadata": {},
   "source": [
    "In this exercise, you'll create a subclass of the `Player` class you worked with earlier in the chapter and explore the inheritance of class attributes and methods."
   ]
  },
  {
   "cell_type": "code",
   "execution_count": 36,
   "metadata": {},
   "outputs": [
    {
     "name": "stdout",
     "output_type": "stream",
     "text": [
      "10\n",
      "p.MAX_POSITION =  10\n",
      "r.MAX_POSITION =  15\n"
     ]
    }
   ],
   "source": [
    "### Player class ws created earlier in the chapter, and now you'll create a subclass of it called Racer. The Racer class will inherit from Player and will have its own class-level attribute MAX_POSITION with a value of 15.\n",
    "# This will allow you to explore the inheritance of class attributes and methods.\n",
    "# Create a Player class\n",
    "class Player:\n",
    "  \n",
    "  # Create MAX_POSITION class attribute\n",
    "  MAX_POSITION = 10\n",
    "  \n",
    "  # Add a constructor, setting position to zero\n",
    "  def __init__(self):\n",
    "    self.position = 0\n",
    "\n",
    "p = Player()\n",
    "print(p.MAX_POSITION)\n",
    "\n",
    "# Create a Racer class inheriting from Player\n",
    "class Racer(Player):\n",
    "  # Create MAX_POSITION with a value of 15\n",
    "  MAX_POSITION = 15\n",
    "  \n",
    "# Create a Player and a Racer objects\n",
    "p = Player()\n",
    "r = Racer()\n",
    "\n",
    "print(\"p.MAX_POSITION = \", p.MAX_POSITION)\n",
    "print(\"r.MAX_POSITION = \", r.MAX_POSITION)"
   ]
  },
  {
   "cell_type": "code",
   "execution_count": null,
   "metadata": {},
   "outputs": [],
   "source": []
  }
 ],
 "metadata": {
  "kernelspec": {
   "display_name": "Python 3",
   "language": "python",
   "name": "python3"
  },
  "language_info": {
   "codemirror_mode": {
    "name": "ipython",
    "version": 3
   },
   "file_extension": ".py",
   "mimetype": "text/x-python",
   "name": "python",
   "nbconvert_exporter": "python",
   "pygments_lexer": "ipython3",
   "version": "3.9.13"
  }
 },
 "nbformat": 4,
 "nbformat_minor": 2
}
