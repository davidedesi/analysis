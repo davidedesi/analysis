{
 "cells": [
  {
   "cell_type": "markdown",
   "metadata": {},
   "source": [
    "# Fundamentals of Statistics"
   ]
  },
  {
   "cell_type": "markdown",
   "metadata": {},
   "source": [
    "## Unit 8"
   ]
  },
  {
   "cell_type": "markdown",
   "metadata": {},
   "source": [
    "### Homework 10"
   ]
  },
  {
   "cell_type": "code",
   "execution_count": 3,
   "metadata": {},
   "outputs": [
    {
     "data": {
      "text/plain": [
       "array([[  1,   1,   1,   1,   1,   1,   1,   1,   1,   1],\n",
       "       [  1,   2,   3,   4,   5,   6,   7,   8,   9,  10],\n",
       "       [  1,   4,   9,  16,  25,  36,  49,  64,  81, 100]])"
      ]
     },
     "execution_count": 3,
     "metadata": {},
     "output_type": "execute_result"
    }
   ],
   "source": [
    "import numpy as np\n",
    "\n",
    "X = np.array([[1,1,1],[1,2,4],[1,3,9],[1,4,16],[1,5,25],[1,6,36],[1,7,49],[1,8,64],[1,9,81],[1,10,100]])\n",
    "XT = X.transpose()\n",
    "\n",
    "XT"
   ]
  },
  {
   "cell_type": "code",
   "execution_count": 5,
   "metadata": {},
   "outputs": [
    {
     "data": {
      "text/plain": [
       "array([[  1,   1,   1],\n",
       "       [  1,   2,   4],\n",
       "       [  1,   3,   9],\n",
       "       [  1,   4,  16],\n",
       "       [  1,   5,  25],\n",
       "       [  1,   6,  36],\n",
       "       [  1,   7,  49],\n",
       "       [  1,   8,  64],\n",
       "       [  1,   9,  81],\n",
       "       [  1,  10, 100]])"
      ]
     },
     "execution_count": 5,
     "metadata": {},
     "output_type": "execute_result"
    }
   ],
   "source": [
    "X"
   ]
  },
  {
   "cell_type": "code",
   "execution_count": 9,
   "metadata": {},
   "outputs": [
    {
     "name": "stdout",
     "output_type": "stream",
     "text": [
      "[[   10    55   385]\n",
      " [   55   385  3025]\n",
      " [  385  3025 25333]]\n"
     ]
    }
   ],
   "source": [
    "XTX = XT.dot(X)  \n",
    "print(XTX)"
   ]
  },
  {
   "cell_type": "code",
   "execution_count": 19,
   "metadata": {},
   "outputs": [
    {
     "data": {
      "text/plain": [
       "array([[ 1.38333333, -0.525     ,  0.04166667],\n",
       "       [-0.525     ,  0.24128788, -0.02083333],\n",
       "       [ 0.04166667, -0.02083333,  0.00189394]])"
      ]
     },
     "execution_count": 19,
     "metadata": {},
     "output_type": "execute_result"
    }
   ],
   "source": [
    "XTX_INV=np.linalg.inv(XTX)\n",
    "\n",
    "XTX_INV"
   ]
  },
  {
   "cell_type": "code",
   "execution_count": 22,
   "metadata": {},
   "outputs": [
    {
     "data": {
      "text/plain": [
       "array([ 1,  3,  5,  8, 11, 14, 18, 21, 25, 28])"
      ]
     },
     "execution_count": 22,
     "metadata": {},
     "output_type": "execute_result"
    }
   ],
   "source": [
    "Y = np.array([1,3,5,8,11,14,18,21,25,28])\n",
    "Y = Y.transpose()\n",
    "Y"
   ]
  },
  {
   "cell_type": "code",
   "execution_count": 23,
   "metadata": {},
   "outputs": [
    {
     "name": "stdout",
     "output_type": "stream",
     "text": [
      "[ 134  992 8016]\n"
     ]
    }
   ],
   "source": [
    "XTY = XT.dot(Y)  \n",
    "print(XTY)"
   ]
  },
  {
   "cell_type": "code",
   "execution_count": 24,
   "metadata": {},
   "outputs": [
    {
     "data": {
      "text/plain": [
       "array([-1.43333333,  2.00757576,  0.09848485])"
      ]
     },
     "execution_count": 24,
     "metadata": {},
     "output_type": "execute_result"
    }
   ],
   "source": [
    "beta_hat=XTX_INV.dot(XTY)\n",
    "beta_hat"
   ]
  },
  {
   "cell_type": "markdown",
   "metadata": {},
   "source": [
    "## Unit 9"
   ]
  },
  {
   "cell_type": "markdown",
   "metadata": {},
   "source": [
    "### Preparation Exercises for Principal Component Analysis\n",
    "\n",
    "__The Empirical Average for a Data Set of Vectors__"
   ]
  },
  {
   "cell_type": "code",
   "execution_count": 22,
   "metadata": {},
   "outputs": [],
   "source": [
    "import numpy as np \n",
    "\n",
    "x1 = [[8], [4], [7]]  \n",
    "x2 = [[2], [8], [1]]\n",
    "x3 = [[3], [1], [1]]\n",
    "x4 = [[9], [7], [4]]\n",
    "\n",
    "vctr1 = np.array(x1) \n",
    "vctr2 = np.array(x2) \n",
    "vctr3 = np.array(x3) \n",
    "vctr4 = np.array(x4) \n",
    "\n",
    "#calculating the empirical average\n",
    "x_bar = 1/4*(vctr1 + vctr2 + vctr3 + vctr4)"
   ]
  },
  {
   "cell_type": "code",
   "execution_count": 23,
   "metadata": {},
   "outputs": [
    {
     "name": "stdout",
     "output_type": "stream",
     "text": [
      "The empirical average X_bar is:\n",
      "[[5.5 ]\n",
      " [5.  ]\n",
      " [3.25]]\n"
     ]
    }
   ],
   "source": [
    "print(\"The empirical average X_bar is:\")\n",
    "print(x_bar)"
   ]
  },
  {
   "cell_type": "code",
   "execution_count": null,
   "metadata": {},
   "outputs": [],
   "source": []
  }
 ],
 "metadata": {
  "kernelspec": {
   "display_name": "Python 3",
   "language": "python",
   "name": "python3"
  },
  "language_info": {
   "codemirror_mode": {
    "name": "ipython",
    "version": 3
   },
   "file_extension": ".py",
   "mimetype": "text/x-python",
   "name": "python",
   "nbconvert_exporter": "python",
   "pygments_lexer": "ipython3",
   "version": "3.8.5"
  }
 },
 "nbformat": 4,
 "nbformat_minor": 4
}
