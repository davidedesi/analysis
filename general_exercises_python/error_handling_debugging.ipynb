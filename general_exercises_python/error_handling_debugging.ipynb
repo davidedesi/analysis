{
 "cells": [
  {
   "cell_type": "markdown",
   "id": "d7afdcfe",
   "metadata": {},
   "source": [
    "## Week 2: Algorithms & Intermediate Python\n",
    "\n",
    "### Day 3-4: Error Handling & Debugging\n",
    "\n",
    "Datacamp: https://campus.datacamp.com/courses/intermediate-python-for-developers/lambda-functions-and-error-handling-3?ex=9\n",
    "\n",
    "---\n"
   ]
  },
  {
   "cell_type": "markdown",
   "id": "5cee3b8d",
   "metadata": {},
   "source": [
    " In this exercise, you'll test out one of the approaches that avoids raising an error, printing a helpful message if an error occurs, but not terminating the script."
   ]
  },
  {
   "cell_type": "code",
   "execution_count": 1,
   "id": "c279c2f9",
   "metadata": {},
   "outputs": [
    {
     "name": "stdout",
     "output_type": "stream",
     "text": [
      "The snake_case() function expects a string as an argument, please check the data type provided.\n"
     ]
    }
   ],
   "source": [
    "def snake_case(text):\n",
    "  # Attempt to clean the text\n",
    "  try:\n",
    "    # Swap spaces for underscores\n",
    "    clean_text = clean_text.split(\"_\", \"_\")\n",
    "    clean_text = clean_text.lower()\n",
    "  # Run this code if an error occurs\n",
    "  except:\n",
    "    print(\"The snake_case() function expects a string as an argument, please check the data type provided.\")\n",
    "    \n",
    "snake_case(\"User Name 187\")"
   ]
  },
  {
   "cell_type": "markdown",
   "id": "d51a4e16",
   "metadata": {},
   "source": [
    "Time to try out the other approach for error handling.\n",
    "\n",
    "Revise the `snake_case()` function to intentionally produce an error if an incorrect data type is used."
   ]
  },
  {
   "cell_type": "code",
   "execution_count": 3,
   "id": "37a62b74",
   "metadata": {},
   "outputs": [],
   "source": [
    "def snake_case(text):\n",
    "  # Check the data type\n",
    "  if type(text) == str:\n",
    "    clean_text = text.replace(\" \", \"_\")\n",
    "    clean_text = clean_text.lower()\n",
    "  else:\n",
    "    # Return a TypeError error if the wrong data type was used\n",
    "    raise TypeError(\"The snake_case() function expects a string as an argument, please check the data type provided.\")\n",
    "    \n",
    "snake_case(\"User Name 187\")"
   ]
  }
 ],
 "metadata": {
  "kernelspec": {
   "display_name": "Python 3",
   "language": "python",
   "name": "python3"
  },
  "language_info": {
   "codemirror_mode": {
    "name": "ipython",
    "version": 3
   },
   "file_extension": ".py",
   "mimetype": "text/x-python",
   "name": "python",
   "nbconvert_exporter": "python",
   "pygments_lexer": "ipython3",
   "version": "3.9.13"
  }
 },
 "nbformat": 4,
 "nbformat_minor": 5
}
