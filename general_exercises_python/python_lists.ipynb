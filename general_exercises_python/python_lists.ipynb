{
 "cells": [
  {
   "cell_type": "markdown",
   "metadata": {},
   "source": [
    "## Week 1: Python Fundamentals & Core Data Structures\n",
    "\n",
    "### Day 3-4: Python Fundamentals - Day 4\n",
    "\n",
    "W3Schools: https://www.w3schools.com/python/python_lists_loop.asp\n",
    "\n",
    "---\n"
   ]
  },
  {
   "cell_type": "code",
   "execution_count": 2,
   "metadata": {},
   "outputs": [
    {
     "name": "stdout",
     "output_type": "stream",
     "text": [
      "Polly\n",
      "Muz\n",
      "Roger\n",
      "Yuna\n",
      "Chips\n",
      "Pepita\n",
      "Sacher\n",
      "Riccio\n"
     ]
    }
   ],
   "source": [
    "tesori = [\"Polly\", \"Muz\", \"Roger\", \"Yuna\", \"Chips\", \"Pepita\", \"Sacher\", \"Riccio\"]\n",
    "\n",
    "for x in tesori:\n",
    "  print(x)"
   ]
  },
  {
   "cell_type": "code",
   "execution_count": 1,
   "metadata": {},
   "outputs": [
    {
     "name": "stdout",
     "output_type": "stream",
     "text": [
      "Polly\n",
      "Muz\n",
      "Roger\n",
      "Yuna\n",
      "Chips\n",
      "Pepita\n",
      "Sacher\n",
      "Riccio\n"
     ]
    }
   ],
   "source": [
    "tesori = [\"Polly\", \"Muz\", \"Roger\", \"Yuna\", \"Chips\", \"Pepita\", \"Sacher\", \"Riccio\"]\n",
    "\n",
    "for i in range(len(tesori)):\n",
    "  print(tesori[i])"
   ]
  },
  {
   "cell_type": "markdown",
   "metadata": {},
   "source": [
    "Print all items, using a while loop to go through all the index numbers"
   ]
  },
  {
   "cell_type": "code",
   "execution_count": 5,
   "metadata": {},
   "outputs": [
    {
     "name": "stdout",
     "output_type": "stream",
     "text": [
      "Polly\n",
      "Muz\n",
      "Roger\n",
      "Yuna\n",
      "Chips\n",
      "Pepita\n",
      "Sacher\n",
      "Riccio\n"
     ]
    }
   ],
   "source": [
    "tesori = [\"Polly\", \"Muz\", \"Roger\", \"Yuna\", \"Chips\", \"Pepita\", \"Sacher\", \"Riccio\"]\n",
    "i = 0\n",
    "while i < len(tesori):\n",
    "  print(tesori[i])\n",
    "  i = i + 1"
   ]
  },
  {
   "cell_type": "code",
   "execution_count": null,
   "metadata": {},
   "outputs": [],
   "source": []
  }
 ],
 "metadata": {
  "kernelspec": {
   "display_name": "Python 3",
   "language": "python",
   "name": "python3"
  },
  "language_info": {
   "codemirror_mode": {
    "name": "ipython",
    "version": 3
   },
   "file_extension": ".py",
   "mimetype": "text/x-python",
   "name": "python",
   "nbconvert_exporter": "python",
   "pygments_lexer": "ipython3",
   "version": "3.9.13"
  }
 },
 "nbformat": 4,
 "nbformat_minor": 2
}
