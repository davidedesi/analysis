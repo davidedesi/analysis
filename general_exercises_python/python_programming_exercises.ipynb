{
 "cells": [
  {
   "cell_type": "markdown",
   "id": "f03e8565",
   "metadata": {},
   "source": [
    "## Week 4: Practical Coding & Data Manipulation\n",
    "\n",
    "### Day 3-4: Problem Solving & Optimization\n",
    "\n",
    "---\n"
   ]
  },
  {
   "cell_type": "code",
   "execution_count": 4,
   "id": "3381a6da",
   "metadata": {},
   "outputs": [
    {
     "name": "stdout",
     "output_type": "stream",
     "text": [
      "None\n"
     ]
    }
   ],
   "source": [
    "# ### Two Sum Problem\n",
    "# Given an array of integers `nums` and an integer `target`, return indices of the two numbers such that they add up to `target`.\n",
    "# You may assume that each input would have exactly one solution, and you may not use the same element twice.\n",
    "\n",
    "def two_sum(nums, target):\n",
    "    seen = {}\n",
    "    for i, num in enumerate(nums):\n",
    "        complement = target - num\n",
    "        if complement in seen:\n",
    "            return (seen[complement], i)\n",
    "        seen[num] = i\n",
    "\n",
    "# Example usage:\n",
    "nums = [2,4,5,7,8,9,14]\n",
    "target = 20\n",
    "result = two_sum(nums, target)\n",
    "\n",
    "print(result)  # Output: (0, 1)"
   ]
  },
  {
   "cell_type": "code",
   "execution_count": null,
   "id": "a78001cb",
   "metadata": {},
   "outputs": [
    {
     "name": "stdout",
     "output_type": "stream",
     "text": [
      "False\n"
     ]
    }
   ],
   "source": [
    "### Palindrome Number\n",
    "# Given an integer `x`, return `true` if `x` is a palindrome, and `false` otherwise.\n",
    "class Solution(object):\n",
    "    def isPalindrome(self, x):\n",
    "        # Convert the number to string\n",
    "        x_str = str(x)\n",
    "        # Check if the string is equal to its reverse\n",
    "        return x_str == x_str[::-1]\n",
    "\n",
    "pal = Solution()\n",
    "\n",
    "# Example usage:\n",
    "x = 12345  # True\n",
    "print(pal.isPalindrome(x))"
   ]
  },
  {
   "cell_type": "code",
   "execution_count": 30,
   "id": "87b3db14",
   "metadata": {},
   "outputs": [
    {
     "name": "stdout",
     "output_type": "stream",
     "text": [
      "Is 12345654321 Palindrome? True\n"
     ]
    }
   ],
   "source": [
    "### Palindrome Number using math   \n",
    "# Given an integer `x`, return `true` if `x` is a palindrome, and `false` otherwise.\n",
    "class Solution(object):\n",
    "    def number_to_list_math(self, n):\n",
    "        if not isinstance(n, int):\n",
    "            raise TypeError(\"Input must be an integer.\")\n",
    "        if n < 0:\n",
    "            n = abs(n) # Handle negative numbers\n",
    "        if n == 0:\n",
    "            return [0]\n",
    "        \n",
    "        digits = []\n",
    "        while n > 0:\n",
    "            last_digit = n % 10\n",
    "            digits.append(last_digit)\n",
    "            n = n // 10\n",
    "    \n",
    "        digits.reverse()\n",
    "        return digits\n",
    "\n",
    "    def isPalindrome(self, n):\n",
    "        x_list = self.number_to_list_math(n)\n",
    "        return x_list == x_list[::-1]\n",
    "\n",
    "pal = Solution()\n",
    "\n",
    "n = 12345654321\n",
    "# Example usage:\n",
    "print(\"Is\", n, \"Palindrome?\", pal.isPalindrome(n))"
   ]
  },
  {
   "cell_type": "markdown",
   "id": "f157372b",
   "metadata": {},
   "source": [
    "---\n",
    "#### Object-Oriented Programming (OOP) in Python\n",
    "\n",
    "**Classes**"
   ]
  },
  {
   "cell_type": "code",
   "execution_count": 3,
   "id": "15470b14",
   "metadata": {},
   "outputs": [
    {
     "name": "stdout",
     "output_type": "stream",
     "text": [
      "The red Tesla is driving\n"
     ]
    }
   ],
   "source": [
    "class Car:\n",
    "    def __init__(self, brand, color):\n",
    "        # Initialize the Car object with brand and color attributes\n",
    "        self.brand = brand\n",
    "        self.color = color\n",
    "        \n",
    "    def drive(self):\n",
    "        # Print a message indicating the car is driving\n",
    "        print(\"The\", self.color, self.brand, \"is driving\")\n",
    "        \n",
    "my_car = Car(\"Tesla\", \"red\")  # Create a Car instance with brand 'Tesla' and color 'red'\n",
    "my_car.drive()  # Call the drive method to display the message"
   ]
  },
  {
   "cell_type": "markdown",
   "id": "76ec727d",
   "metadata": {},
   "source": [
    "#### Creating a sub class"
   ]
  },
  {
   "cell_type": "code",
   "execution_count": 4,
   "id": "426602d7",
   "metadata": {},
   "outputs": [
    {
     "name": "stdout",
     "output_type": "stream",
     "text": [
      "Toyota\n",
      "120\n",
      "Gasoline\n",
      "Beep beep!\n"
     ]
    }
   ],
   "source": [
    "# parent class Vehicle\n",
    "class Vehicle:\n",
    "  def __init__(self, name, speed):\n",
    "    self.name = name\n",
    "    self.speed = speed\n",
    "\n",
    "# subclass Car that inherits from Vehicle\n",
    "class Car(Vehicle):\n",
    "  def __init__(self, name, speed, fuel_type):\n",
    "    # Using super() to call the constructor of the parent class\n",
    "    # We can skip the self parameter when using super()\n",
    "    super().__init__(name, speed)\n",
    "    self.fuel_type = fuel_type\n",
    "  def honk_horn(self):\n",
    "    print(\"Beep beep!\")\n",
    "# Creating an instance of the Car class\n",
    "my_car = Car(\"Toyota\", 120, \"Gasoline\")\n",
    "print(my_car.name)  # Output: Toyota\n",
    "print(my_car.speed) # Output: 120\n",
    "print(my_car.fuel_type) # Output: Gasoline\n",
    "my_car.honk_horn()  # Output: Beep beep!\n"
   ]
  },
  {
   "cell_type": "markdown",
   "id": "03b2b541",
   "metadata": {},
   "source": [
    "#### polymorphism "
   ]
  },
  {
   "cell_type": "code",
   "execution_count": 6,
   "id": "c03ccf97",
   "metadata": {},
   "outputs": [
    {
     "name": "stdout",
     "output_type": "stream",
     "text": [
      "The Bike is moving.\n",
      "The red Tesla is driving on the road.\n"
     ]
    }
   ],
   "source": [
    "# Parent class vehicle\n",
    "\n",
    "class Vehicle:\n",
    "    def __init__(self, name):\n",
    "        self.name = name\n",
    "\n",
    "    def drive(self):\n",
    "        print(f\"The {self.name} is moving.\")\n",
    "\n",
    "# Subclass car that inherits from vehicle\n",
    "class Car(Vehicle):\n",
    "    def __init__(self, name, color):\n",
    "        super().__init__(name)\n",
    "        self.color = color\n",
    "\n",
    "    def drive(self):\n",
    "        print(f\"The {self.color} {self.name} is driving on the road.\")\n",
    "\n",
    "vehicle = Vehicle(\"Bike\")\n",
    "car = Car(\"Tesla\", \"red\")\n",
    "vehicle.drive() \n",
    "car.drive()"
   ]
  },
  {
   "cell_type": "code",
   "execution_count": null,
   "id": "81388320",
   "metadata": {},
   "outputs": [],
   "source": []
  }
 ],
 "metadata": {
  "kernelspec": {
   "display_name": "Python 3",
   "language": "python",
   "name": "python3"
  },
  "language_info": {
   "codemirror_mode": {
    "name": "ipython",
    "version": 3
   },
   "file_extension": ".py",
   "mimetype": "text/x-python",
   "name": "python",
   "nbconvert_exporter": "python",
   "pygments_lexer": "ipython3",
   "version": "3.9.13"
  }
 },
 "nbformat": 4,
 "nbformat_minor": 5
}
