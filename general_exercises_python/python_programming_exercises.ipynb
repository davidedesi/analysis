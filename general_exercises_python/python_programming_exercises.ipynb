{
 "cells": [
  {
   "cell_type": "markdown",
   "id": "f03e8565",
   "metadata": {},
   "source": [
    "## Week 4: Practical Coding & Data Manipulation\n",
    "\n",
    "### Day 3-4: Problem Solving & Optimization\n",
    "\n",
    "---\n"
   ]
  },
  {
   "cell_type": "code",
   "execution_count": 4,
   "id": "3381a6da",
   "metadata": {},
   "outputs": [
    {
     "name": "stdout",
     "output_type": "stream",
     "text": [
      "None\n"
     ]
    }
   ],
   "source": [
    "# ### Two Sum Problem\n",
    "# Given an array of integers `nums` and an integer `target`, return indices of the two numbers such that they add up to `target`.\n",
    "# You may assume that each input would have exactly one solution, and you may not use the same element twice.\n",
    "\n",
    "def two_sum(nums, target):\n",
    "    seen = {}\n",
    "    for i, num in enumerate(nums):\n",
    "        complement = target - num\n",
    "        if complement in seen:\n",
    "            return (seen[complement], i)\n",
    "        seen[num] = i\n",
    "\n",
    "# Example usage:\n",
    "nums = [2,4,5,7,8,9,14]\n",
    "target = 20\n",
    "result = two_sum(nums, target)\n",
    "\n",
    "print(result)  # Output: (0, 1)"
   ]
  },
  {
   "cell_type": "code",
   "execution_count": null,
   "id": "a78001cb",
   "metadata": {},
   "outputs": [
    {
     "name": "stdout",
     "output_type": "stream",
     "text": [
      "False\n"
     ]
    }
   ],
   "source": [
    "#  ## Palindrome Number\n",
    "# Given an integer `x`, return `true` if `x` is a palindrome, and `false` otherwise.\n",
    "class Solution(object):\n",
    "    def isPalindrome(self, x):\n",
    "        # Convert the number to string\n",
    "        x_str = str(x)\n",
    "        # Check if the string is equal to its reverse\n",
    "        return x_str == x_str[::-1]\n",
    "\n",
    "pal = Solution()\n",
    "\n",
    "# Example usage:\n",
    "x = 12345  # True\n",
    "print(pal.isPalindrome(x))"
   ]
  },
  {
   "cell_type": "code",
   "execution_count": null,
   "id": "081425c1",
   "metadata": {},
   "outputs": [],
   "source": []
  }
 ],
 "metadata": {
  "kernelspec": {
   "display_name": "Python 3",
   "language": "python",
   "name": "python3"
  },
  "language_info": {
   "codemirror_mode": {
    "name": "ipython",
    "version": 3
   },
   "file_extension": ".py",
   "mimetype": "text/x-python",
   "name": "python",
   "nbconvert_exporter": "python",
   "pygments_lexer": "ipython3",
   "version": "3.9.13"
  }
 },
 "nbformat": 4,
 "nbformat_minor": 5
}
