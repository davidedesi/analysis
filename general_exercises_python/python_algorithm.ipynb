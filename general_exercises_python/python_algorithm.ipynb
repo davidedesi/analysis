{
 "cells": [
  {
   "cell_type": "markdown",
   "id": "d7afdcfe",
   "metadata": {},
   "source": [
    "## Week 2: Algorithms & Intermediate Python\n",
    "\n",
    "### Day 5-6: Introduction to Algorithms & Big O\n",
    "\n",
    "Datacamp: https://campus.datacamp.com/courses/data-structures-and-algorithms-in-python/searching-algorithms?ex=1\n",
    "\n",
    "---\n"
   ]
  },
  {
   "cell_type": "markdown",
   "id": "698e17e7",
   "metadata": {},
   "source": [
    "In this exercise, you need to implement the `binary_search()` function"
   ]
  },
  {
   "cell_type": "code",
   "execution_count": 8,
   "id": "6baebad4",
   "metadata": {},
   "outputs": [
    {
     "name": "stdout",
     "output_type": "stream",
     "text": [
      "True\n"
     ]
    }
   ],
   "source": [
    "# This script implements a binary search algorithm to find a value in an ordered list.\n",
    "\n",
    "def binary_search(ordered_list, search_value):\n",
    "  first = 0\n",
    "  last = len(ordered_list) - 1\n",
    "  \n",
    "  while first <= last:\n",
    "    middle = (first + last)//2\n",
    "    # Check whether the search value equals the value in the middle\n",
    "    if search_value == ordered_list[middle]:\n",
    "      return True\n",
    "    # Check whether the search value is smaller than the value in the middle\n",
    "    elif search_value < ordered_list[middle]:\n",
    "      # Set last to the value of middle minus one\n",
    "      last = middle - 1\n",
    "    else:\n",
    "      first = middle + 1\n",
    "  return False\n",
    "  \n",
    "print(binary_search([1,5,8,9,15,20,70,72], 5))"
   ]
  },
  {
   "cell_type": "code",
   "execution_count": 9,
   "id": "4e180aa1",
   "metadata": {},
   "outputs": [
    {
     "name": "stdout",
     "output_type": "stream",
     "text": [
      "True\n"
     ]
    }
   ],
   "source": [
    "## This function implements a recursive version of the binary search algorithm.\n",
    "\n",
    "def binary_search_recursive(ordered_list, search_value):\n",
    "  # Define the base case\n",
    "  if len(ordered_list) == 0:\n",
    "    return False\n",
    "  else:\n",
    "    middle = len(ordered_list)//2\n",
    "    # Check whether the search value equals the value in the middle\n",
    "    if search_value == ordered_list[middle] :\n",
    "        return True\n",
    "    elif search_value < ordered_list[middle]:\n",
    "        # Call recursively with the left half of the list\n",
    "        return binary_search_recursive(ordered_list[:middle], search_value)\n",
    "    else:\n",
    "        # Call recursively with the right half of the list\n",
    "        return binary_search_recursive(ordered_list[middle+1:], search_value)\n",
    "  \n",
    "print(binary_search_recursive([1,5,8,9,15,20,70,72], 5))"
   ]
  },
  {
   "cell_type": "markdown",
   "id": "7e3e8d5c",
   "metadata": {},
   "source": [
    "#### Inserting a node into a binary search tree\n",
    "\n",
    "In this exercise, you will implement a function to insert a node into a BST.\n",
    "\n",
    "Note: The example below will not run as-is because the bst variable and supporting tree classes are not fully defined in this notebook.\n"
   ]
  },
  {
   "cell_type": "code",
   "execution_count": null,
   "id": "eab64cec",
   "metadata": {},
   "outputs": [],
   "source": [
    "class BinarySearchTree:\n",
    "  def __init__(self):\n",
    "    self.root = None\n",
    "\n",
    "  def insert(self, data):\n",
    "    new_node = TreeNode(data)\n",
    "    # Check if the BST is empty\n",
    "    if self.root == None:\n",
    "      self.root = new_node\n",
    "      return\n",
    "    else:\n",
    "      current_node = self.root\n",
    "      while True:\n",
    "        # Check if the data to insert is smaller than the current node's data\n",
    "        if data < current_node.data:\n",
    "          if current_node.left_child == None:\n",
    "            current_node.left_child = new_node\n",
    "            return \n",
    "          else:\n",
    "            current_node = current_node.left_child\n",
    "        # Check if the data to insert is greater than the current node's data\n",
    "        elif data > current_node.data:\n",
    "          if current_node.right_child == None:\n",
    "            current_node.right_child = new_node\n",
    "            return\n",
    "          else:\n",
    "            current_node = current_node.right_child\n",
    "\n",
    "bst = CreateTree()\n",
    "bst.insert(\"Pride and Prejudice\")\n",
    "print(search(bst, \"Pride and Prejudice\"))"
   ]
  },
  {
   "cell_type": "markdown",
   "id": "a9ebfcf1",
   "metadata": {},
   "source": [
    "#### Finding the minimum node of a BST\n",
    "\n",
    "In this exercise, you will practice on a BST to find the minimum node.\n",
    "\n",
    "Note: The example below will not run as-is because the bst variable and supporting tree classes are not fully defined in this notebook."
   ]
  },
  {
   "cell_type": "code",
   "execution_count": null,
   "id": "da18639c",
   "metadata": {},
   "outputs": [],
   "source": [
    "class BinarySearchTree:\n",
    "  def __init__(self):\n",
    "    self.root = None\n",
    "\n",
    "  def find_min(self):\n",
    "    # Set current_node as the root\n",
    "    current_node = self.root\n",
    "    # Iterate over the nodes of the appropriate subtree\n",
    "    while current_node.left_child:\n",
    "      # Update current_node\n",
    "      current_node = current_node.left_child\n",
    "    return current_node.data\n",
    "  \n",
    "bst = CreateTree()\n",
    "print(bst.find_min())"
   ]
  },
  {
   "cell_type": "markdown",
   "id": "4d102a67",
   "metadata": {},
   "source": [
    "#### Printing book titles in alphabetical order\n",
    "\n",
    "Note: The example below will not run as-is because the bst variable and supporting tree classes are not fully defined in this notebook."
   ]
  },
  {
   "cell_type": "code",
   "execution_count": null,
   "id": "5733a0f1",
   "metadata": {},
   "outputs": [],
   "source": [
    "class BinarySearchTree:\n",
    "  def __init__(self):\n",
    "    self.root = None\n",
    "\n",
    "  def in_order(self, current_node):\n",
    "    # Check if current_node exists\n",
    "    if current_node:\n",
    "      # Call recursively with the appropriate half of the tree\n",
    "      self.in_order(current_node.left_child)\n",
    "      # Print the value of the current_node\n",
    "      print(current_node.data)\n",
    "      # Call recursively with the appropriate half of the tree\n",
    "      self.in_order(current_node.right_child)\n",
    "  \n",
    "bst = CreateTree()\n",
    "bst.in_order(bst.root)"
   ]
  },
  {
   "cell_type": "markdown",
   "id": "0b2012dc",
   "metadata": {},
   "source": [
    "By applying pre-order traversal to an expression tree, you can obtain the prefix notation, aka Polish notation, where the operator appears before its operands"
   ]
  },
  {
   "cell_type": "code",
   "execution_count": null,
   "id": "13738fd5",
   "metadata": {},
   "outputs": [],
   "source": [
    "import queue\n",
    "\n",
    "class ExpressionTree:\n",
    "  def __init__(self):\n",
    "    self.root = None\n",
    "\n",
    "  def pre_order(self, current_node):\n",
    "    # Check if current_node exists\n",
    "    if current_node:\n",
    "      # Print the value of the current_node\n",
    "      print(current_node.data)\n",
    "      # Call pre_order recursively on the appropriate half of the tree\n",
    "      self.pre_order(current_node.left_child)\n",
    "      self.pre_order(current_node.right_child)\n",
    "          \n",
    "et = CreateExpressionTree()\n",
    "et.pre_order(et.root)"
   ]
  },
  {
   "cell_type": "markdown",
   "id": "eef39ef4",
   "metadata": {},
   "source": [
    "#### Implementing DFS for graphs\n",
    "In this exercise, you will implement a depth first search algorithm to traverse a graph."
   ]
  },
  {
   "cell_type": "code",
   "execution_count": null,
   "id": "33d75b05",
   "metadata": {},
   "outputs": [],
   "source": [
    "def dfs(visited_vertices, graph, current_vertex):\n",
    "    # Check if current_vertex hasn't been visited yet\n",
    "    if current_vertex not in ____:\n",
    "        print(current_vertex)\n",
    "        # Add current_vertex to visited_vertices\n",
    "        ____.add(____)\n",
    "        for adjacent_vertex in graph[current_vertex]:\n",
    "            # Call recursively with the appropriate values\n",
    "            ____(____, ____, ____)\n",
    "            \n",
    "dfs(set(), graph, '0')"
   ]
  }
 ],
 "metadata": {
  "kernelspec": {
   "display_name": "Python 3",
   "language": "python",
   "name": "python3"
  },
  "language_info": {
   "codemirror_mode": {
    "name": "ipython",
    "version": 3
   },
   "file_extension": ".py",
   "mimetype": "text/x-python",
   "name": "python",
   "nbconvert_exporter": "python",
   "pygments_lexer": "ipython3",
   "version": "3.9.13"
  }
 },
 "nbformat": 4,
 "nbformat_minor": 5
}
