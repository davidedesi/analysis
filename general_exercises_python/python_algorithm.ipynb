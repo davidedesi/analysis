{
 "cells": [
  {
   "cell_type": "markdown",
   "id": "d7afdcfe",
   "metadata": {},
   "source": [
    "## Week 2: Algorithms & Intermediate Python\n",
    "\n",
    "### Day 5-6: Introduction to Algorithms & Big O\n",
    "\n",
    "Datacamp: https://campus.datacamp.com/courses/data-structures-and-algorithms-in-python/searching-algorithms?ex=1\n",
    "\n",
    "---\n"
   ]
  },
  {
   "cell_type": "markdown",
   "id": "698e17e7",
   "metadata": {},
   "source": [
    "In this exercise, you need to implement the `binary_search()` function"
   ]
  },
  {
   "cell_type": "code",
   "execution_count": null,
   "id": "6baebad4",
   "metadata": {},
   "outputs": [
    {
     "name": "stdout",
     "output_type": "stream",
     "text": [
      "True\n"
     ]
    }
   ],
   "source": [
    "# This script implements a binary search algorithm to find a value in an ordered list.\n",
    "\n",
    "def binary_search(ordered_list, search_value):\n",
    "  first = 0\n",
    "  last = len(ordered_list) - 1\n",
    "  \n",
    "  while first <= last:\n",
    "    middle = (first + last)//2\n",
    "    # Check whether the search value equals the value in the middle\n",
    "    if search_value == ordered_list[middle]:\n",
    "      return True\n",
    "    # Check whether the search value is smaller than the value in the middle\n",
    "    elif search_value < ordered_list[middle]:\n",
    "      # Set last to the value of middle minus one\n",
    "      last = middle - 1\n",
    "    else:\n",
    "      first = middle + 1\n",
    "  return False\n",
    "  \n",
    "print(binary_search([1,5,8,9,15,20,70,72], 5))"
   ]
  },
  {
   "cell_type": "code",
   "execution_count": null,
   "id": "4e180aa1",
   "metadata": {},
   "outputs": [],
   "source": [
    "## This function implements a recursive version of the binary search algorithm.\n",
    "\n",
    "def binary_search_recursive(ordered_list, search_value):\n",
    "  # Define the base case\n",
    "  if len(ordered_list) == 0:\n",
    "    return False\n",
    "  else:\n",
    "    middle = len(ordered_list)//2\n",
    "    # Check whether the search value equals the value in the middle\n",
    "    if search_value == ordered_list[middle] :\n",
    "        return True\n",
    "    elif search_value < ordered_list[middle]:\n",
    "        # Call recursively with the left half of the list\n",
    "        return binary_search_recursive(ordered_list[:middle], search_value)\n",
    "    else:\n",
    "        # Call recursively with the right half of the list\n",
    "        return binary_search_recursive(ordered_list[middle+1:], search_value)\n",
    "  \n",
    "print(binary_search_recursive([1,5,8,9,15,20,70,72], 5))"
   ]
  },
  {
   "cell_type": "markdown",
   "id": "7e3e8d5c",
   "metadata": {},
   "source": [
    "#### Inserting a node into a binary search tree\n",
    "\n",
    "In this exercise, you will implement a function to insert a node into a BST.\n"
   ]
  },
  {
   "cell_type": "markdown",
   "id": "eab64cec",
   "metadata": {},
   "source": []
  }
 ],
 "metadata": {
  "kernelspec": {
   "display_name": "Python 3",
   "language": "python",
   "name": "python3"
  },
  "language_info": {
   "codemirror_mode": {
    "name": "ipython",
    "version": 3
   },
   "file_extension": ".py",
   "mimetype": "text/x-python",
   "name": "python",
   "nbconvert_exporter": "python",
   "pygments_lexer": "ipython3",
   "version": "3.9.13"
  }
 },
 "nbformat": 4,
 "nbformat_minor": 5
}
