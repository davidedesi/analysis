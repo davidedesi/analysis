{
 "cells": [
  {
   "cell_type": "markdown",
   "id": "d7afdcfe",
   "metadata": {},
   "source": [
    "## Week 2: Algorithms & Intermediate Python\n",
    "\n",
    "### Day 5-6: Introduction to Algorithms & Big O\n",
    "\n",
    "Datacamp: https://campus.datacamp.com/courses/data-structures-and-algorithms-in-python/searching-algorithms?ex=1\n",
    "\n",
    "---\n"
   ]
  },
  {
   "cell_type": "markdown",
   "id": "698e17e7",
   "metadata": {},
   "source": [
    "#### Implementing a linked list\n",
    "\n",
    "In this exercise, you will practice implementing both of these classes. In the first step, we will implement the `Node()` class, and in the second step the `LinkedList()` class."
   ]
  },
  {
   "cell_type": "code",
   "execution_count": null,
   "id": "e97a5fd7",
   "metadata": {},
   "outputs": [],
   "source": [
    "## This script implements a simple node for a linked list in Python.\n",
    "class Node:\n",
    "  def __init__(self, data):\n",
    "    self.data = data\n",
    "    self.next = None\n",
    "\n",
    "## This script implements a simple linked list in Python.\n",
    "class LinkedList:\n",
    "  def __init__(self):\n",
    "    # Set the head and the tail with null values\n",
    "    self.head = None\n",
    "    self.tail = None"
   ]
  },
  {
   "cell_type": "markdown",
   "id": "02e0697a",
   "metadata": {},
   "source": [
    "#### Inserting a node at the beginning of a linked list\n",
    "\n",
    "In this exercise, you will prepare the code for the `insert_at_beginning()` method to add a new node at the beginning of a linked list"
   ]
  },
  {
   "cell_type": "code",
   "execution_count": null,
   "id": "59a9409e",
   "metadata": {},
   "outputs": [],
   "source": [
    "def insert_at_beginning(self, data):\n",
    "    # Create the new node\n",
    "    new_node = insert_at_beginning(data)\n",
    "    # Check whether the linked list has a head node\n",
    "    if self.head:\n",
    "      # Point the next node of the new node to the head\n",
    "      new_node.next = self.head\n",
    "      self.head = new_node\n",
    "    else:\n",
    "      self.tail = new_node      \n",
    "      self.head = new_node"
   ]
  },
  {
   "cell_type": "markdown",
   "id": "e552e6da",
   "metadata": {},
   "source": [
    "#### Removing the first node from a linked list\n",
    "\n",
    "In this exercise, you will prepare the code for the `remove_at_beginning()` method."
   ]
  },
  {
   "cell_type": "code",
   "execution_count": 25,
   "id": "830e8bab",
   "metadata": {},
   "outputs": [],
   "source": [
    "class LinkedList:\n",
    "  def __init__(self):\n",
    "    self.head = None\n",
    "    self.tail = None\n",
    "    \n",
    "  def remove_at_beginning(self):\n",
    "    # The \"next\" node of the head becomes the new head node\n",
    "    self.head = self.head.next"
   ]
  },
  {
   "cell_type": "markdown",
   "id": "25f3814c",
   "metadata": {},
   "source": [
    "---\n",
    "In this exercise, you need to implement the `binary_search()` function"
   ]
  },
  {
   "cell_type": "code",
   "execution_count": 23,
   "id": "6baebad4",
   "metadata": {},
   "outputs": [
    {
     "name": "stdout",
     "output_type": "stream",
     "text": [
      "True\n"
     ]
    }
   ],
   "source": [
    "# This script implements a binary search algorithm to find a value in an ordered list.\n",
    "\n",
    "def binary_search(ordered_list, search_value):\n",
    "  first = 0\n",
    "  last = len(ordered_list) - 1\n",
    "  \n",
    "  while first <= last:\n",
    "    middle = (first + last)//2\n",
    "    # Check whether the search value equals the value in the middle\n",
    "    if search_value == ordered_list[middle]:\n",
    "      return True\n",
    "    # Check whether the search value is smaller than the value in the middle\n",
    "    elif search_value < ordered_list[middle]:\n",
    "      # Set last to the value of middle minus one\n",
    "      last = middle - 1\n",
    "    else:\n",
    "      first = middle + 1\n",
    "  return False\n",
    "  \n",
    "print(binary_search([1,5,8,9,15,20,70,72], 5))"
   ]
  },
  {
   "cell_type": "code",
   "execution_count": 24,
   "id": "4e180aa1",
   "metadata": {},
   "outputs": [
    {
     "name": "stdout",
     "output_type": "stream",
     "text": [
      "True\n"
     ]
    }
   ],
   "source": [
    "## This function implements a recursive version of the binary search algorithm.\n",
    "\n",
    "def binary_search_recursive(ordered_list, search_value):\n",
    "  # Define the base case\n",
    "  if len(ordered_list) == 0:\n",
    "    return False\n",
    "  else:\n",
    "    middle = len(ordered_list)//2\n",
    "    # Check whether the search value equals the value in the middle\n",
    "    if search_value == ordered_list[middle] :\n",
    "        return True\n",
    "    elif search_value < ordered_list[middle]:\n",
    "        # Call recursively with the left half of the list\n",
    "        return binary_search_recursive(ordered_list[:middle], search_value)\n",
    "    else:\n",
    "        # Call recursively with the right half of the list\n",
    "        return binary_search_recursive(ordered_list[middle+1:], search_value)\n",
    "  \n",
    "print(binary_search_recursive([1,5,8,9,15,20,70,72], 5))"
   ]
  },
  {
   "cell_type": "markdown",
   "id": "7e3e8d5c",
   "metadata": {},
   "source": [
    "#### Inserting a node into a binary search tree\n",
    "\n",
    "In this exercise, you will implement a function to insert a node into a BST.\n",
    "\n",
    "Note: The example below will not run as-is because the bst variable and supporting tree classes are not fully defined in this notebook.\n"
   ]
  },
  {
   "cell_type": "code",
   "execution_count": null,
   "id": "eab64cec",
   "metadata": {},
   "outputs": [],
   "source": [
    "class BinarySearchTree:\n",
    "  def __init__(self):\n",
    "    self.root = None\n",
    "\n",
    "  def insert(self, data):\n",
    "    new_node = TreeNode(data)\n",
    "    # Check if the BST is empty\n",
    "    if self.root == None:\n",
    "      self.root = new_node\n",
    "      return\n",
    "    else:\n",
    "      current_node = self.root\n",
    "      while True:\n",
    "        # Check if the data to insert is smaller than the current node's data\n",
    "        if data < current_node.data:\n",
    "          if current_node.left_child == None:\n",
    "            current_node.left_child = new_node\n",
    "            return \n",
    "          else:\n",
    "            current_node = current_node.left_child\n",
    "        # Check if the data to insert is greater than the current node's data\n",
    "        elif data > current_node.data:\n",
    "          if current_node.right_child == None:\n",
    "            current_node.right_child = new_node\n",
    "            return\n",
    "          else:\n",
    "            current_node = current_node.right_child\n",
    "\n",
    "bst = CreateTree()\n",
    "bst.insert(\"Pride and Prejudice\")\n",
    "print(search(bst, \"Pride and Prejudice\"))"
   ]
  },
  {
   "cell_type": "markdown",
   "id": "a9ebfcf1",
   "metadata": {},
   "source": [
    "#### Finding the minimum node of a BST\n",
    "\n",
    "In this exercise, you will practice on a BST to find the minimum node.\n",
    "\n",
    "Note: The example below will not run as-is because the bst variable and supporting tree classes are not fully defined in this notebook."
   ]
  },
  {
   "cell_type": "code",
   "execution_count": null,
   "id": "da18639c",
   "metadata": {},
   "outputs": [],
   "source": [
    "class BinarySearchTree:\n",
    "  def __init__(self):\n",
    "    self.root = None\n",
    "\n",
    "  def find_min(self):\n",
    "    # Set current_node as the root\n",
    "    current_node = self.root\n",
    "    # Iterate over the nodes of the appropriate subtree\n",
    "    while current_node.left_child:\n",
    "      # Update current_node\n",
    "      current_node = current_node.left_child\n",
    "    return current_node.data\n",
    "  \n",
    "bst = CreateTree()\n",
    "print(bst.find_min())"
   ]
  },
  {
   "cell_type": "markdown",
   "id": "4d102a67",
   "metadata": {},
   "source": [
    "#### Printing book titles in alphabetical order\n",
    "\n",
    "Note: The example below will not run as-is because the bst variable and supporting tree classes are not fully defined in this notebook."
   ]
  },
  {
   "cell_type": "code",
   "execution_count": null,
   "id": "5733a0f1",
   "metadata": {},
   "outputs": [],
   "source": [
    "class BinarySearchTree:\n",
    "  def __init__(self):\n",
    "    self.root = None\n",
    "\n",
    "  def in_order(self, current_node):\n",
    "    # Check if current_node exists\n",
    "    if current_node:\n",
    "      # Call recursively with the appropriate half of the tree\n",
    "      self.in_order(current_node.left_child)\n",
    "      # Print the value of the current_node\n",
    "      print(current_node.data)\n",
    "      # Call recursively with the appropriate half of the tree\n",
    "      self.in_order(current_node.right_child)\n",
    "  \n",
    "bst = CreateTree()\n",
    "bst.in_order(bst.root)"
   ]
  },
  {
   "cell_type": "markdown",
   "id": "0b2012dc",
   "metadata": {},
   "source": [
    "By applying pre-order traversal to an expression tree, you can obtain the prefix notation, aka Polish notation, where the operator appears before its operands"
   ]
  },
  {
   "cell_type": "code",
   "execution_count": null,
   "id": "13738fd5",
   "metadata": {},
   "outputs": [],
   "source": [
    "import queue\n",
    "\n",
    "class ExpressionTree:\n",
    "  def __init__(self):\n",
    "    self.root = None\n",
    "\n",
    "  def pre_order(self, current_node):\n",
    "    # Check if current_node exists\n",
    "    if current_node:\n",
    "      # Print the value of the current_node\n",
    "      print(current_node.data)\n",
    "      # Call pre_order recursively on the appropriate half of the tree\n",
    "      self.pre_order(current_node.left_child)\n",
    "      self.pre_order(current_node.right_child)\n",
    "          \n",
    "et = CreateExpressionTree()\n",
    "et.pre_order(et.root)"
   ]
  },
  {
   "cell_type": "markdown",
   "id": "eef39ef4",
   "metadata": {},
   "source": [
    "#### Implementing DFS for graphs\n",
    "In this exercise, you will implement a depth first search algorithm to traverse a graph."
   ]
  },
  {
   "cell_type": "code",
   "execution_count": 14,
   "id": "33d75b05",
   "metadata": {},
   "outputs": [
    {
     "name": "stdout",
     "output_type": "stream",
     "text": [
      "0\n",
      "1\n",
      "2\n",
      "4\n",
      "3\n"
     ]
    }
   ],
   "source": [
    "graph = {\n",
    "  '0' : ['1','2'],\n",
    "  '1' : ['0', '2', '3'],\n",
    "  '2' : ['0', '1', '4'],\n",
    "  '3' : ['1', '4'],\n",
    "  '4' : ['2', '3']\n",
    "}\n",
    "\n",
    "def dfs(visited_vertices, graph, current_vertex):\n",
    "    # Check if current_vertex hasn't been visited yet\n",
    "    if current_vertex not in visited_vertices:\n",
    "        print(current_vertex)\n",
    "        # Add current_vertex to visited_vertices\n",
    "        visited_vertices.add(current_vertex)\n",
    "        for adjacent_vertex in graph[current_vertex]:\n",
    "            # Call recursively with the appropriate values\n",
    "            dfs(visited_vertices, graph, adjacent_vertex)\n",
    "            \n",
    "dfs(set(), graph, '0')"
   ]
  },
  {
   "cell_type": "markdown",
   "id": "5d447590",
   "metadata": {},
   "source": [
    "#### Finding a graph vertex using BFS\n",
    "\n",
    "In this exercise, you will modify the BFS algorithm to search for a given vertex within a graph.\n",
    "\n",
    "To help you test your code, the following graph has been loaded using a dictionary."
   ]
  },
  {
   "cell_type": "code",
   "execution_count": 16,
   "id": "443723b9",
   "metadata": {},
   "outputs": [
    {
     "name": "stdout",
     "output_type": "stream",
     "text": [
      "True\n"
     ]
    }
   ],
   "source": [
    "graph = {\n",
    "  '4' : ['6','7'],\n",
    "  '6' : ['4', '7', '8'],\n",
    "  '7' : ['4', '6', '9'],\n",
    "  '8' : ['6', '9'],\n",
    "  '9' : ['7', '8']\n",
    "}\n",
    "\n",
    "import queue\n",
    "\n",
    "def bfs(graph, initial_vertex, search_value):\n",
    "  visited_vertices = []\n",
    "  bfs_queue = queue.SimpleQueue()\n",
    "  visited_vertices.append(initial_vertex)\n",
    "  bfs_queue.put(initial_vertex)\n",
    "\n",
    "  while not bfs_queue.empty():\n",
    "    current_vertex = bfs_queue.get()\n",
    "    # Check if you found the search value\n",
    "    if current_vertex == search_value:\n",
    "      # Return True if you find the search value\n",
    "      return True    \n",
    "    for adjacent_vertex in graph[current_vertex]:\n",
    "      # Check if the adjacent vertex has been visited\n",
    "      if adjacent_vertex not in visited_vertices:\n",
    "        visited_vertices.append(adjacent_vertex)\n",
    "        bfs_queue.put(adjacent_vertex)\n",
    "  # Return False if you didn't find the search value\n",
    "  return False\n",
    "\n",
    "print(bfs(graph, '4', '8'))"
   ]
  },
  {
   "cell_type": "markdown",
   "id": "08244351",
   "metadata": {},
   "source": [
    "#### Understanding Big O Notation"
   ]
  },
  {
   "cell_type": "markdown",
   "id": "a15e9869",
   "metadata": {},
   "source": [
    "In the first step, you will create an algorithm that prints all the elements of the following list:\n",
    "\n",
    "`colors = ['green', 'yellow', 'blue', 'pink']`"
   ]
  },
  {
   "cell_type": "code",
   "execution_count": null,
   "id": "87f7dc9c",
   "metadata": {},
   "outputs": [
    {
     "name": "stdout",
     "output_type": "stream",
     "text": [
      "green\n",
      "yellow\n",
      "blue\n",
      "pink\n"
     ]
    }
   ],
   "source": [
    "# This script prints all the string of a list using a linear algorithm.\n",
    "# Complexity is O(n), where n is the number of string in the list.\n",
    "\n",
    "colors = ['green', 'yellow', 'blue', 'pink']\n",
    "\n",
    "def linear(colors):\n",
    "  # Iterate the string of the list\n",
    "  for color in colors:\n",
    "    # Print the current element of the list\n",
    "    print(color)\t\n",
    "\n",
    "linear(colors)"
   ]
  },
  {
   "cell_type": "markdown",
   "id": "c05efe82",
   "metadata": {},
   "source": [
    "---\n",
    "\n",
    "### Algorithms in Python"
   ]
  },
  {
   "cell_type": "markdown",
   "id": "4463bd51",
   "metadata": {},
   "source": [
    "01. Simple recursive algorithms"
   ]
  },
  {
   "cell_type": "code",
   "execution_count": null,
   "id": "c59d5214",
   "metadata": {},
   "outputs": [
    {
     "name": "stdout",
     "output_type": "stream",
     "text": [
      "720\n"
     ]
    }
   ],
   "source": [
    "### This script implements a simple iterative algorithm to calculate the factorial of a number.\n",
    "# Complexity is O(n), where n is the number for which you want to calculate the factorial.\n",
    "def iterative_factorial(n):\n",
    "  # Initialize the result variable\n",
    "  result = 1\n",
    "  # Iterate from 1 to n\n",
    "  for i in range(1, n + 1):\n",
    "    # Multiply the result by the current value of i\n",
    "    result *= i\n",
    "  return result\n",
    "print(iterative_factorial(6))"
   ]
  },
  {
   "cell_type": "code",
   "execution_count": null,
   "id": "51f529c9",
   "metadata": {},
   "outputs": [
    {
     "name": "stdout",
     "output_type": "stream",
     "text": [
      "720\n"
     ]
    }
   ],
   "source": [
    "### This script implements a simple recursive algorithm to calculate the factorial of a number.\n",
    "# Complexity is O(n), where n is the number for which you want to calculate the factorial\n",
    "def recursive_factorial(n):\n",
    "  # Check if n is equal to 0 or 1\n",
    "  if n == 0 or n == 1:\n",
    "    return 1\n",
    "  else:\n",
    "    # Call recursively with n - 1\n",
    "    return n * recursive_factorial(n - 1)\n",
    "print(recursive_factorial(6))"
   ]
  },
  {
   "cell_type": "markdown",
   "id": "2ffabea4",
   "metadata": {},
   "source": [
    "#### Permutations"
   ]
  },
  {
   "cell_type": "code",
   "execution_count": null,
   "id": "7cb0b94c",
   "metadata": {},
   "outputs": [
    {
     "name": "stdout",
     "output_type": "stream",
     "text": [
      "ABC\n",
      "ACB\n",
      "BAC\n",
      "BCA\n",
      "CAB\n",
      "CBA\n",
      "None\n"
     ]
    }
   ],
   "source": [
    "def permutations(string, pocket=\"\"):\n",
    "  # If the string is empty, print the current permutation stored in pocket\n",
    "  if len(string) == 0:\n",
    "    print(pocket)\n",
    "  else:\n",
    "    # Iterate through each character in the string\n",
    "    for i in range(len(string)):\n",
    "      letter = string[i]\n",
    "      # Split the string into two parts: before and after the current letter\n",
    "      front = string[:i]\n",
    "      back = string[i + 1:]\n",
    "      together = front + back\n",
    "      # Recursively call permutations with the remaining letters and add the current letter to pocket\n",
    "      permutations(together, pocket + letter)\n",
    "\n",
    "print(permutations(\"ABC\"))"
   ]
  },
  {
   "cell_type": "markdown",
   "id": "68f2c0f9",
   "metadata": {},
   "source": [
    "#### Search and Sort"
   ]
  },
  {
   "cell_type": "code",
   "execution_count": null,
   "id": "665a80dc",
   "metadata": {},
   "outputs": [
    {
     "name": "stdout",
     "output_type": "stream",
     "text": [
      "2\n"
     ]
    }
   ],
   "source": [
    "# This function searches for a target value in a list and returns its index.\n",
    "# If the target is not found, it returns -1.\n",
    "def search(arr, target):\n",
    "    # Iterate through the list\n",
    "    for i in range(len(arr)):\n",
    "        if arr[i] == target:\n",
    "            return i\n",
    "    return -1\n",
    "\n",
    "# Example usage:\n",
    "arr = [1, 2, 3, 4, 5]\n",
    "target = 3\n",
    "print(search(arr, target))  # Output: 2"
   ]
  },
  {
   "cell_type": "markdown",
   "id": "fca679c9",
   "metadata": {},
   "source": [
    "#### Binary search"
   ]
  },
  {
   "cell_type": "code",
   "execution_count": null,
   "id": "c49b8ccc",
   "metadata": {},
   "outputs": [
    {
     "name": "stdout",
     "output_type": "stream",
     "text": [
      "Current middle index (mid): 4\n",
      "Current middle index (mid): 7\n",
      "Current middle index (mid): 5\n",
      "5\n"
     ]
    }
   ],
   "source": [
    "def binary_itr(arr, start, end, target):\n",
    "    # Loop until the search space is exhausted\n",
    "    while start <= end:\n",
    "        # Calculate the middle index\n",
    "        mid = (start + end) // 2\n",
    "        print(f\"Current middle index (mid): {mid}\") # This line will print the mid value\n",
    "\n",
    "        # Check if the middle element is the target\n",
    "        if arr[mid] == target:\n",
    "            return mid\n",
    "        # If the middle element is less than the target, search the right half\n",
    "        elif arr[mid] < target:\n",
    "            start = mid + 1\n",
    "        # If the middle element is greater than the target, search the left half\n",
    "        else:\n",
    "            end = mid - 1\n",
    "    # If the target is not found, return the insertion point\n",
    "    return start\n",
    "\n",
    "# Example usage\n",
    "print(binary_itr(arr, 0, len(arr) - 1, target))  # Output: 5\n"
   ]
  },
  {
   "cell_type": "code",
   "execution_count": null,
   "id": "d712d9f5",
   "metadata": {},
   "outputs": [
    {
     "name": "stdout",
     "output_type": "stream",
     "text": [
      "Current middle index (mid): 4\n",
      "Current middle index (mid): 7\n",
      "Current middle index (mid): 5\n",
      "5\n"
     ]
    }
   ],
   "source": [
    "def binary_recursive(arr, start, end, target):\n",
    "    # Base case: if the search space is exhausted, return the insertion point\n",
    "    if start > end:\n",
    "        return start\n",
    "\n",
    "    # Calculate the middle index\n",
    "    mid = (start + end) // 2\n",
    "    print(f\"Current middle index (mid): {mid}\") # This line will print the mid value\n",
    "\n",
    "    # Check if the middle element is the target\n",
    "    if arr[mid] == target:\n",
    "        return mid\n",
    "    # If the middle element is less than the target, search the right half\n",
    "    elif arr[mid] < target:\n",
    "        return binary_recursive(arr, mid + 1, end, target)\n",
    "    # If the middle element is greater than the target, search the left half\n",
    "    else:\n",
    "        return binary_recursive(arr, start, mid - 1, target)\n",
    "\n",
    "# Example usage\n",
    "print(binary_recursive(arr, 0, len(arr) - 1, target))"
   ]
  },
  {
   "cell_type": "markdown",
   "id": "3cde4188",
   "metadata": {},
   "source": [
    "#### Bubble sort"
   ]
  },
  {
   "cell_type": "code",
   "execution_count": 18,
   "id": "ce4f3005",
   "metadata": {},
   "outputs": [
    {
     "name": "stdout",
     "output_type": "stream",
     "text": [
      "j): 0\n",
      "j): 1\n",
      "j): 2\n",
      "j): 3\n",
      "j): 4\n",
      "j): 5\n",
      "j): 0\n",
      "j): 1\n",
      "j): 2\n",
      "j): 3\n",
      "j): 4\n",
      "j): 0\n",
      "j): 1\n",
      "j): 2\n",
      "j): 3\n",
      "j): 0\n",
      "j): 1\n",
      "j): 2\n",
      "j): 0\n",
      "j): 1\n",
      "j): 0\n",
      "([11, 12, 22, 25, 34, 64, 90], 21)\n"
     ]
    }
   ],
   "source": [
    "def bubble_optimized(A):\n",
    "    iterations = 0\n",
    "    for i in range(len(A)):\n",
    "        for j in range(len(A) - i - 1):\n",
    "            print(f\"j): {j}\") # This line will print the mid value\n",
    "            iterations += 1\n",
    "            if A[j] > A[j + 1]:\n",
    "                A[j], A[j + 1] = A[j + 1], A[j]\n",
    "    return A, iterations\n",
    "A = [64, 34, 25, 12, 22, 11, 90]\n",
    "print(bubble_optimized(A))\n"
   ]
  },
  {
   "cell_type": "markdown",
   "id": "29e374d8",
   "metadata": {},
   "source": [
    "---\n",
    "\n",
    "### 3 problems:"
   ]
  },
  {
   "cell_type": "markdown",
   "id": "fc2cde73",
   "metadata": {},
   "source": [
    "#### 1.Two Sum\n",
    "\n",
    "Given an array of integers nums and an integer target, return indices of the two numbers such that they add up to target.\n",
    "\n",
    "You may assume that each input would have exactly one solution, and you may not use the same element twice.\n",
    "\n",
    "You can return the answer in any order."
   ]
  },
  {
   "cell_type": "code",
   "execution_count": 19,
   "id": "de81ffa7",
   "metadata": {},
   "outputs": [
    {
     "name": "stdout",
     "output_type": "stream",
     "text": [
      "Indices for [2, 7, 11, 15] with target 9: [0, 1]\n",
      "Indices for [3, 2, 4] with target 6: [1, 2]\n",
      "Indices for [3, 3] with target 6: [0, 1]\n"
     ]
    }
   ],
   "source": [
    "class Solution(object):\n",
    "    def two_sum(self, nums, target):\n",
    "        \"\"\"\n",
    "        Given an array of integers nums and an integer target,\n",
    "        return indices of the two numbers such that they add up to target.\n",
    "\n",
    "        Args:\n",
    "            nums (list): A list of integers.\n",
    "            target (int): The target sum.\n",
    "\n",
    "        Returns:\n",
    "            list: A list containing the indices of the two numbers.\n",
    "                  Assumes exactly one solution exists.\n",
    "        \"\"\"\n",
    "        # A dictionary to store numbers we have seen and their indices.\n",
    "        # The format will be {number: index}\n",
    "        seen = {}\n",
    "\n",
    "        # Iterate through the list with both the index and the value.\n",
    "        for i, num in enumerate(nums):\n",
    "            # Calculate the complement needed to reach the target.\n",
    "            complement = target - num\n",
    "\n",
    "            # Check if the complement is already in our dictionary.\n",
    "            # This check is very fast (average O(1) time).\n",
    "            if complement in seen:\n",
    "                # If found, return the index of the complement and the current index.\n",
    "                # The problem states we may not use the same element twice.\n",
    "                # The 'if complement in seen' check naturally handles this\n",
    "                # as the current number 'num' is not yet in the 'seen' dictionary.\n",
    "                return [seen[complement], i]\n",
    "            \n",
    "            # If the complement is not found, add the current number and its index\n",
    "            # to the dictionary for future checks.\n",
    "            seen[num] = i\n",
    "\n",
    "# Example Usage:\n",
    "# You now need to create an instance of the class to call the method.\n",
    "solution_instance = Solution()\n",
    "\n",
    "nums = [2, 7, 11, 15]\n",
    "target = 9\n",
    "print(f\"Indices for {nums} with target {target}: {solution_instance.two_sum(nums, target)}\")\n",
    "\n",
    "nums_two = [3, 2, 4]\n",
    "target_two = 6\n",
    "print(f\"Indices for {nums_two} with target {target_two}: {solution_instance.two_sum(nums_two, target_two)}\")\n",
    "\n",
    "nums_three = [3, 3]\n",
    "target_three = 6\n",
    "print(f\"Indices for {nums_three} with target {target_three}: {solution_instance.two_sum(nums_three, target_three)}\")"
   ]
  },
  {
   "cell_type": "markdown",
   "id": "c7b0d3d6",
   "metadata": {},
   "source": [
    "#### 21. Merge Two Sorted Lists\n",
    "\n",
    "You are given the heads of two sorted linked lists `list1` and `list2`.\n",
    "\n",
    "Merge the two lists into one sorted list. The list should be made by splicing together the nodes of the first two lists.\n",
    "\n",
    "Return the head of the merged linked list.\n",
    "\n",
    "https://leetcode.com/problems/merge-two-sorted-lists/description/"
   ]
  },
  {
   "cell_type": "markdown",
   "id": "6df8cceb",
   "metadata": {},
   "source": []
  }
 ],
 "metadata": {
  "kernelspec": {
   "display_name": "Python 3",
   "language": "python",
   "name": "python3"
  },
  "language_info": {
   "codemirror_mode": {
    "name": "ipython",
    "version": 3
   },
   "file_extension": ".py",
   "mimetype": "text/x-python",
   "name": "python",
   "nbconvert_exporter": "python",
   "pygments_lexer": "ipython3",
   "version": "3.9.13"
  }
 },
 "nbformat": 4,
 "nbformat_minor": 5
}
